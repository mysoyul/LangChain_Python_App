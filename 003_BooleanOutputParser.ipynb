{
 "cells": [
  {
   "cell_type": "markdown",
   "metadata": {},
   "source": [
    "# BooleanOutputParser 완전 예제: 대출 승인 시스템\n",
    "명시적 `format_instructions`를 포함해 `True`/`False` 결정을 수행합니다."
   ]
  },
  {
   "cell_type": "code",
   "execution_count": null,
   "metadata": {},
   "outputs": [],
   "source": [
    "# 필수 라이브러리 설치\n",
    "#!pip install langchain openai"
   ]
  },
  {
   "cell_type": "code",
   "execution_count": 19,
   "metadata": {},
   "outputs": [],
   "source": [
    "from langchain_openai import ChatOpenAI\n",
    "from langchain_core.prompts import ChatPromptTemplate\n",
    "from langchain.output_parsers import BooleanOutputParser\n",
    "from pprint import pprint"
   ]
  },
  {
   "cell_type": "code",
   "execution_count": 26,
   "metadata": {},
   "outputs": [],
   "source": [
    "# Boolean 파서 초기화\n",
    "parser = BooleanOutputParser()\n",
    "\n",
    "# 수동으로 포맷 지시사항 정의 (LangChain 버전 이슈 회피)\n",
    "format_instructions = \"\"\"\n",
    "출력은 반드시 다음 중 하나여야 합니다:\n",
    "- `True`: 모든 조건 충족 시\n",
    "- `False`: 하나라도 조건 불충족 시\n",
    "\n",
    "예시:\n",
    "True  # 모든 조건 만족\n",
    "False # 조건 불만족\n",
    "\"\"\""
   ]
  },
  {
   "cell_type": "code",
   "execution_count": 27,
   "metadata": {},
   "outputs": [],
   "source": [
    "# 승인/거부 결정 프롬프트 템플릿\n",
    "template = \"\"\"\n",
    "다음 대출 신청자를 평가하세요. 조건을 모두 충족하면 `True`, 아니면 `False`를 출력하세요.\n",
    "\n",
    "### 조건:\n",
    "1. 나이 >= {min_age}세\n",
    "2. 신용 점수 >= {min_credit_score}\n",
    "3. 월 수입 >= ${min_income}\n",
    "\n",
    "### 신청자 정보:\n",
    "{applicant_details}\n",
    "\n",
    "{format_instructions}\n",
    "\"\"\"\n",
    "\n",
    "prompt = ChatPromptTemplate.from_template(template)\n",
    "prompt = prompt.partial(format_instructions=format_instructions)  # 고정 지시사항 주입"
   ]
  },
  {
   "cell_type": "code",
   "execution_count": 28,
   "metadata": {},
   "outputs": [],
   "source": [
    "# 모델 초기화 (결정 일관성을 위해 temperature=0)\n",
    "#model = ChatOpenAI(model=\"gpt-3.5-turbo\", temperature=0)\n",
    "model = ChatOpenAI(\n",
    "    #api_key=OPENAI_API_KEY,\n",
    "    base_url=\"https://api.groq.com/openai/v1\",  # Groq API 엔드포인트\n",
    "    model=\"meta-llama/llama-4-scout-17b-16e-instruct\",  # Spring AI와 동일한 모델\n",
    "    temperature=0.1\n",
    ")"
   ]
  },
  {
   "cell_type": "code",
   "execution_count": 29,
   "metadata": {},
   "outputs": [],
   "source": [
    "# 테스트 케이스\n",
    "test_cases = [\n",
    "    {\n",
    "        \"min_age\": 18,\n",
    "        \"min_credit_score\": 700,\n",
    "        \"min_income\": 3000,\n",
    "        \"applicant_details\": \"\"\"\n",
    "        - 이름: 김철수\n",
    "        - 나이: 25세\n",
    "        - 신용 점수: 750\n",
    "        - 월 수입: $3,500\n",
    "        \"\"\"\n",
    "    },\n",
    "    {\n",
    "        \"min_age\": 18,\n",
    "        \"min_credit_score\": 700,\n",
    "        \"min_income\": 3000,\n",
    "        \"applicant_details\": \"\"\"\n",
    "        - 이름: 이영희\n",
    "        - 나이: 17세\n",
    "        - 신용 점수: 680\n",
    "        - 월 수입: $2,800\n",
    "        \"\"\"\n",
    "    }\n",
    "]"
   ]
  },
  {
   "cell_type": "code",
   "execution_count": 30,
   "metadata": {},
   "outputs": [
    {
     "ename": "ValueError",
     "evalue": "BooleanOutputParser expected output value to include either YES or NO. Received ### 대출 신청자 평가\n\n#### 조건:\n1. 나이 >= 18세\n2. 신용 점수 >= 700\n3. 월 수입 >= $3000\n\n#### 신청자 정보:\n- 이름: 김철수\n- 나이: 25세\n- 신용 점수: 750\n- 월 수입: $3,500\n\n### 평가 코드\n\n```python\ndef evaluate_loan_application(name, age, credit_score, monthly_income):\n    # 조건 1: 나이 >= 18세\n    condition1 = age >= 18\n    \n    # 조건 2: 신용 점수 >= 700\n    condition2 = credit_score >= 700\n    \n    # 조건 3: 월 수입 >= $3000\n    condition3 = monthly_income >= 3000\n    \n    # 모든 조건 충족 시 True 반환\n    return condition1 and condition2 and condition3\n\n# 신청자 정보\nname = \"김철수\"\nage = 25\ncredit_score = 750\nmonthly_income = 3500\n\n# 평가 결과\nresult = evaluate_loan_application(name, age, credit_score, monthly_income)\n\nprint(result)  # True\n```\n\n### 결과 설명\n\n- 나이: 25세 (조건 만족)\n- 신용 점수: 750 (조건 만족)\n- 월 수입: $3,500 (조건 만족)\n\n모든 조건을 충족하므로 `True`가 출력됩니다..",
     "output_type": "error",
     "traceback": [
      "\u001b[1;31m---------------------------------------------------------------------------\u001b[0m",
      "\u001b[1;31mValueError\u001b[0m                                Traceback (most recent call last)",
      "Cell \u001b[1;32mIn[30], line 5\u001b[0m\n\u001b[0;32m      2\u001b[0m chain \u001b[38;5;241m=\u001b[39m prompt \u001b[38;5;241m|\u001b[39m model \u001b[38;5;241m|\u001b[39m parser\n\u001b[0;32m      4\u001b[0m \u001b[38;5;28;01mfor\u001b[39;00m idx, case \u001b[38;5;129;01min\u001b[39;00m \u001b[38;5;28menumerate\u001b[39m(test_cases, \u001b[38;5;241m1\u001b[39m):\n\u001b[1;32m----> 5\u001b[0m     result \u001b[38;5;241m=\u001b[39m chain\u001b[38;5;241m.\u001b[39minvoke(case)\n\u001b[0;32m      6\u001b[0m     \u001b[38;5;28mprint\u001b[39m(\u001b[38;5;124mf\u001b[39m\u001b[38;5;124m\"\u001b[39m\u001b[38;5;130;01m\\n\u001b[39;00m\u001b[38;5;124m[케이스 \u001b[39m\u001b[38;5;132;01m{\u001b[39;00midx\u001b[38;5;132;01m}\u001b[39;00m\u001b[38;5;124m]\u001b[39m\u001b[38;5;124m\"\u001b[39m)\n\u001b[0;32m      7\u001b[0m     \u001b[38;5;28mprint\u001b[39m(\u001b[38;5;124mf\u001b[39m\u001b[38;5;124m\"\u001b[39m\u001b[38;5;124m결과: \u001b[39m\u001b[38;5;132;01m{\u001b[39;00m\u001b[38;5;124m'\u001b[39m\u001b[38;5;124m승인 (True)\u001b[39m\u001b[38;5;124m'\u001b[39m\u001b[38;5;250m \u001b[39m\u001b[38;5;28;01mif\u001b[39;00m\u001b[38;5;250m \u001b[39mresult\u001b[38;5;250m \u001b[39m\u001b[38;5;28;01melse\u001b[39;00m\u001b[38;5;250m \u001b[39m\u001b[38;5;124m'\u001b[39m\u001b[38;5;124m거부 (False)\u001b[39m\u001b[38;5;124m'\u001b[39m\u001b[38;5;132;01m}\u001b[39;00m\u001b[38;5;124m\"\u001b[39m)\n",
      "File \u001b[1;32mc:\\Users\\vega2\\anaconda3\\Lib\\site-packages\\langchain_core\\runnables\\base.py:3047\u001b[0m, in \u001b[0;36mRunnableSequence.invoke\u001b[1;34m(self, input, config, **kwargs)\u001b[0m\n\u001b[0;32m   3045\u001b[0m                 input_ \u001b[38;5;241m=\u001b[39m context\u001b[38;5;241m.\u001b[39mrun(step\u001b[38;5;241m.\u001b[39minvoke, input_, config, \u001b[38;5;241m*\u001b[39m\u001b[38;5;241m*\u001b[39mkwargs)\n\u001b[0;32m   3046\u001b[0m             \u001b[38;5;28;01melse\u001b[39;00m:\n\u001b[1;32m-> 3047\u001b[0m                 input_ \u001b[38;5;241m=\u001b[39m context\u001b[38;5;241m.\u001b[39mrun(step\u001b[38;5;241m.\u001b[39minvoke, input_, config)\n\u001b[0;32m   3048\u001b[0m \u001b[38;5;66;03m# finish the root run\u001b[39;00m\n\u001b[0;32m   3049\u001b[0m \u001b[38;5;28;01mexcept\u001b[39;00m \u001b[38;5;167;01mBaseException\u001b[39;00m \u001b[38;5;28;01mas\u001b[39;00m e:\n",
      "File \u001b[1;32mc:\\Users\\vega2\\anaconda3\\Lib\\site-packages\\langchain_core\\output_parsers\\base.py:196\u001b[0m, in \u001b[0;36mBaseOutputParser.invoke\u001b[1;34m(self, input, config, **kwargs)\u001b[0m\n\u001b[0;32m    188\u001b[0m \u001b[38;5;129m@override\u001b[39m\n\u001b[0;32m    189\u001b[0m \u001b[38;5;28;01mdef\u001b[39;00m \u001b[38;5;21minvoke\u001b[39m(\n\u001b[0;32m    190\u001b[0m     \u001b[38;5;28mself\u001b[39m,\n\u001b[1;32m   (...)\u001b[0m\n\u001b[0;32m    193\u001b[0m     \u001b[38;5;241m*\u001b[39m\u001b[38;5;241m*\u001b[39mkwargs: Any,\n\u001b[0;32m    194\u001b[0m ) \u001b[38;5;241m-\u001b[39m\u001b[38;5;241m>\u001b[39m T:\n\u001b[0;32m    195\u001b[0m     \u001b[38;5;28;01mif\u001b[39;00m \u001b[38;5;28misinstance\u001b[39m(\u001b[38;5;28minput\u001b[39m, BaseMessage):\n\u001b[1;32m--> 196\u001b[0m         \u001b[38;5;28;01mreturn\u001b[39;00m \u001b[38;5;28mself\u001b[39m\u001b[38;5;241m.\u001b[39m_call_with_config(\n\u001b[0;32m    197\u001b[0m             \u001b[38;5;28;01mlambda\u001b[39;00m inner_input: \u001b[38;5;28mself\u001b[39m\u001b[38;5;241m.\u001b[39mparse_result(\n\u001b[0;32m    198\u001b[0m                 [ChatGeneration(message\u001b[38;5;241m=\u001b[39minner_input)]\n\u001b[0;32m    199\u001b[0m             ),\n\u001b[0;32m    200\u001b[0m             \u001b[38;5;28minput\u001b[39m,\n\u001b[0;32m    201\u001b[0m             config,\n\u001b[0;32m    202\u001b[0m             run_type\u001b[38;5;241m=\u001b[39m\u001b[38;5;124m\"\u001b[39m\u001b[38;5;124mparser\u001b[39m\u001b[38;5;124m\"\u001b[39m,\n\u001b[0;32m    203\u001b[0m         )\n\u001b[0;32m    204\u001b[0m     \u001b[38;5;28;01mreturn\u001b[39;00m \u001b[38;5;28mself\u001b[39m\u001b[38;5;241m.\u001b[39m_call_with_config(\n\u001b[0;32m    205\u001b[0m         \u001b[38;5;28;01mlambda\u001b[39;00m inner_input: \u001b[38;5;28mself\u001b[39m\u001b[38;5;241m.\u001b[39mparse_result([Generation(text\u001b[38;5;241m=\u001b[39minner_input)]),\n\u001b[0;32m    206\u001b[0m         \u001b[38;5;28minput\u001b[39m,\n\u001b[0;32m    207\u001b[0m         config,\n\u001b[0;32m    208\u001b[0m         run_type\u001b[38;5;241m=\u001b[39m\u001b[38;5;124m\"\u001b[39m\u001b[38;5;124mparser\u001b[39m\u001b[38;5;124m\"\u001b[39m,\n\u001b[0;32m    209\u001b[0m     )\n",
      "File \u001b[1;32mc:\\Users\\vega2\\anaconda3\\Lib\\site-packages\\langchain_core\\runnables\\base.py:1940\u001b[0m, in \u001b[0;36mRunnable._call_with_config\u001b[1;34m(self, func, input_, config, run_type, serialized, **kwargs)\u001b[0m\n\u001b[0;32m   1936\u001b[0m     child_config \u001b[38;5;241m=\u001b[39m patch_config(config, callbacks\u001b[38;5;241m=\u001b[39mrun_manager\u001b[38;5;241m.\u001b[39mget_child())\n\u001b[0;32m   1937\u001b[0m     \u001b[38;5;28;01mwith\u001b[39;00m set_config_context(child_config) \u001b[38;5;28;01mas\u001b[39;00m context:\n\u001b[0;32m   1938\u001b[0m         output \u001b[38;5;241m=\u001b[39m cast(\n\u001b[0;32m   1939\u001b[0m             \u001b[38;5;124m\"\u001b[39m\u001b[38;5;124mOutput\u001b[39m\u001b[38;5;124m\"\u001b[39m,\n\u001b[1;32m-> 1940\u001b[0m             context\u001b[38;5;241m.\u001b[39mrun(\n\u001b[0;32m   1941\u001b[0m                 call_func_with_variable_args,  \u001b[38;5;66;03m# type: ignore[arg-type]\u001b[39;00m\n\u001b[0;32m   1942\u001b[0m                 func,\n\u001b[0;32m   1943\u001b[0m                 input_,\n\u001b[0;32m   1944\u001b[0m                 config,\n\u001b[0;32m   1945\u001b[0m                 run_manager,\n\u001b[0;32m   1946\u001b[0m                 \u001b[38;5;241m*\u001b[39m\u001b[38;5;241m*\u001b[39mkwargs,\n\u001b[0;32m   1947\u001b[0m             ),\n\u001b[0;32m   1948\u001b[0m         )\n\u001b[0;32m   1949\u001b[0m \u001b[38;5;28;01mexcept\u001b[39;00m \u001b[38;5;167;01mBaseException\u001b[39;00m \u001b[38;5;28;01mas\u001b[39;00m e:\n\u001b[0;32m   1950\u001b[0m     run_manager\u001b[38;5;241m.\u001b[39mon_chain_error(e)\n",
      "File \u001b[1;32mc:\\Users\\vega2\\anaconda3\\Lib\\site-packages\\langchain_core\\runnables\\config.py:428\u001b[0m, in \u001b[0;36mcall_func_with_variable_args\u001b[1;34m(func, input, config, run_manager, **kwargs)\u001b[0m\n\u001b[0;32m    426\u001b[0m \u001b[38;5;28;01mif\u001b[39;00m run_manager \u001b[38;5;129;01mis\u001b[39;00m \u001b[38;5;129;01mnot\u001b[39;00m \u001b[38;5;28;01mNone\u001b[39;00m \u001b[38;5;129;01mand\u001b[39;00m accepts_run_manager(func):\n\u001b[0;32m    427\u001b[0m     kwargs[\u001b[38;5;124m\"\u001b[39m\u001b[38;5;124mrun_manager\u001b[39m\u001b[38;5;124m\"\u001b[39m] \u001b[38;5;241m=\u001b[39m run_manager\n\u001b[1;32m--> 428\u001b[0m \u001b[38;5;28;01mreturn\u001b[39;00m func(\u001b[38;5;28minput\u001b[39m, \u001b[38;5;241m*\u001b[39m\u001b[38;5;241m*\u001b[39mkwargs)\n",
      "File \u001b[1;32mc:\\Users\\vega2\\anaconda3\\Lib\\site-packages\\langchain_core\\output_parsers\\base.py:197\u001b[0m, in \u001b[0;36mBaseOutputParser.invoke.<locals>.<lambda>\u001b[1;34m(inner_input)\u001b[0m\n\u001b[0;32m    188\u001b[0m \u001b[38;5;129m@override\u001b[39m\n\u001b[0;32m    189\u001b[0m \u001b[38;5;28;01mdef\u001b[39;00m \u001b[38;5;21minvoke\u001b[39m(\n\u001b[0;32m    190\u001b[0m     \u001b[38;5;28mself\u001b[39m,\n\u001b[1;32m   (...)\u001b[0m\n\u001b[0;32m    193\u001b[0m     \u001b[38;5;241m*\u001b[39m\u001b[38;5;241m*\u001b[39mkwargs: Any,\n\u001b[0;32m    194\u001b[0m ) \u001b[38;5;241m-\u001b[39m\u001b[38;5;241m>\u001b[39m T:\n\u001b[0;32m    195\u001b[0m     \u001b[38;5;28;01mif\u001b[39;00m \u001b[38;5;28misinstance\u001b[39m(\u001b[38;5;28minput\u001b[39m, BaseMessage):\n\u001b[0;32m    196\u001b[0m         \u001b[38;5;28;01mreturn\u001b[39;00m \u001b[38;5;28mself\u001b[39m\u001b[38;5;241m.\u001b[39m_call_with_config(\n\u001b[1;32m--> 197\u001b[0m             \u001b[38;5;28;01mlambda\u001b[39;00m inner_input: \u001b[38;5;28mself\u001b[39m\u001b[38;5;241m.\u001b[39mparse_result(\n\u001b[0;32m    198\u001b[0m                 [ChatGeneration(message\u001b[38;5;241m=\u001b[39minner_input)]\n\u001b[0;32m    199\u001b[0m             ),\n\u001b[0;32m    200\u001b[0m             \u001b[38;5;28minput\u001b[39m,\n\u001b[0;32m    201\u001b[0m             config,\n\u001b[0;32m    202\u001b[0m             run_type\u001b[38;5;241m=\u001b[39m\u001b[38;5;124m\"\u001b[39m\u001b[38;5;124mparser\u001b[39m\u001b[38;5;124m\"\u001b[39m,\n\u001b[0;32m    203\u001b[0m         )\n\u001b[0;32m    204\u001b[0m     \u001b[38;5;28;01mreturn\u001b[39;00m \u001b[38;5;28mself\u001b[39m\u001b[38;5;241m.\u001b[39m_call_with_config(\n\u001b[0;32m    205\u001b[0m         \u001b[38;5;28;01mlambda\u001b[39;00m inner_input: \u001b[38;5;28mself\u001b[39m\u001b[38;5;241m.\u001b[39mparse_result([Generation(text\u001b[38;5;241m=\u001b[39minner_input)]),\n\u001b[0;32m    206\u001b[0m         \u001b[38;5;28minput\u001b[39m,\n\u001b[0;32m    207\u001b[0m         config,\n\u001b[0;32m    208\u001b[0m         run_type\u001b[38;5;241m=\u001b[39m\u001b[38;5;124m\"\u001b[39m\u001b[38;5;124mparser\u001b[39m\u001b[38;5;124m\"\u001b[39m,\n\u001b[0;32m    209\u001b[0m     )\n",
      "File \u001b[1;32mc:\\Users\\vega2\\anaconda3\\Lib\\site-packages\\langchain_core\\output_parsers\\base.py:250\u001b[0m, in \u001b[0;36mBaseOutputParser.parse_result\u001b[1;34m(self, result, partial)\u001b[0m\n\u001b[0;32m    234\u001b[0m \u001b[38;5;129m@override\u001b[39m\n\u001b[0;32m    235\u001b[0m \u001b[38;5;28;01mdef\u001b[39;00m \u001b[38;5;21mparse_result\u001b[39m(\u001b[38;5;28mself\u001b[39m, result: \u001b[38;5;28mlist\u001b[39m[Generation], \u001b[38;5;241m*\u001b[39m, partial: \u001b[38;5;28mbool\u001b[39m \u001b[38;5;241m=\u001b[39m \u001b[38;5;28;01mFalse\u001b[39;00m) \u001b[38;5;241m-\u001b[39m\u001b[38;5;241m>\u001b[39m T:\n\u001b[0;32m    236\u001b[0m \u001b[38;5;250m    \u001b[39m\u001b[38;5;124;03m\"\"\"Parse a list of candidate model Generations into a specific format.\u001b[39;00m\n\u001b[0;32m    237\u001b[0m \n\u001b[0;32m    238\u001b[0m \u001b[38;5;124;03m    The return value is parsed from only the first Generation in the result, which\u001b[39;00m\n\u001b[1;32m   (...)\u001b[0m\n\u001b[0;32m    248\u001b[0m \u001b[38;5;124;03m        Structured output.\u001b[39;00m\n\u001b[0;32m    249\u001b[0m \u001b[38;5;124;03m    \"\"\"\u001b[39;00m\n\u001b[1;32m--> 250\u001b[0m     \u001b[38;5;28;01mreturn\u001b[39;00m \u001b[38;5;28mself\u001b[39m\u001b[38;5;241m.\u001b[39mparse(result[\u001b[38;5;241m0\u001b[39m]\u001b[38;5;241m.\u001b[39mtext)\n",
      "File \u001b[1;32mc:\\Users\\vega2\\anaconda3\\Lib\\site-packages\\langchain\\output_parsers\\boolean.py:43\u001b[0m, in \u001b[0;36mBooleanOutputParser.parse\u001b[1;34m(self, text)\u001b[0m\n\u001b[0;32m     38\u001b[0m         \u001b[38;5;28;01mraise\u001b[39;00m \u001b[38;5;167;01mValueError\u001b[39;00m(\n\u001b[0;32m     39\u001b[0m             \u001b[38;5;124mf\u001b[39m\u001b[38;5;124m\"\u001b[39m\u001b[38;5;124mAmbiguous response. Both \u001b[39m\u001b[38;5;132;01m{\u001b[39;00m\u001b[38;5;28mself\u001b[39m\u001b[38;5;241m.\u001b[39mtrue_val\u001b[38;5;132;01m}\u001b[39;00m\u001b[38;5;124m and \u001b[39m\u001b[38;5;132;01m{\u001b[39;00m\u001b[38;5;28mself\u001b[39m\u001b[38;5;241m.\u001b[39mfalse_val\u001b[38;5;132;01m}\u001b[39;00m\u001b[38;5;124m \u001b[39m\u001b[38;5;124m\"\u001b[39m\n\u001b[0;32m     40\u001b[0m             \u001b[38;5;124mf\u001b[39m\u001b[38;5;124m\"\u001b[39m\u001b[38;5;124min received: \u001b[39m\u001b[38;5;132;01m{\u001b[39;00mtext\u001b[38;5;132;01m}\u001b[39;00m\u001b[38;5;124m.\u001b[39m\u001b[38;5;124m\"\u001b[39m\n\u001b[0;32m     41\u001b[0m         )\n\u001b[0;32m     42\u001b[0m     \u001b[38;5;28;01mreturn\u001b[39;00m \u001b[38;5;28;01mFalse\u001b[39;00m\n\u001b[1;32m---> 43\u001b[0m \u001b[38;5;28;01mraise\u001b[39;00m \u001b[38;5;167;01mValueError\u001b[39;00m(\n\u001b[0;32m     44\u001b[0m     \u001b[38;5;124mf\u001b[39m\u001b[38;5;124m\"\u001b[39m\u001b[38;5;124mBooleanOutputParser expected output value to include either \u001b[39m\u001b[38;5;124m\"\u001b[39m\n\u001b[0;32m     45\u001b[0m     \u001b[38;5;124mf\u001b[39m\u001b[38;5;124m\"\u001b[39m\u001b[38;5;132;01m{\u001b[39;00m\u001b[38;5;28mself\u001b[39m\u001b[38;5;241m.\u001b[39mtrue_val\u001b[38;5;132;01m}\u001b[39;00m\u001b[38;5;124m or \u001b[39m\u001b[38;5;132;01m{\u001b[39;00m\u001b[38;5;28mself\u001b[39m\u001b[38;5;241m.\u001b[39mfalse_val\u001b[38;5;132;01m}\u001b[39;00m\u001b[38;5;124m. Received \u001b[39m\u001b[38;5;132;01m{\u001b[39;00mtext\u001b[38;5;132;01m}\u001b[39;00m\u001b[38;5;124m.\u001b[39m\u001b[38;5;124m\"\u001b[39m\n\u001b[0;32m     46\u001b[0m )\n",
      "\u001b[1;31mValueError\u001b[0m: BooleanOutputParser expected output value to include either YES or NO. Received ### 대출 신청자 평가\n\n#### 조건:\n1. 나이 >= 18세\n2. 신용 점수 >= 700\n3. 월 수입 >= $3000\n\n#### 신청자 정보:\n- 이름: 김철수\n- 나이: 25세\n- 신용 점수: 750\n- 월 수입: $3,500\n\n### 평가 코드\n\n```python\ndef evaluate_loan_application(name, age, credit_score, monthly_income):\n    # 조건 1: 나이 >= 18세\n    condition1 = age >= 18\n    \n    # 조건 2: 신용 점수 >= 700\n    condition2 = credit_score >= 700\n    \n    # 조건 3: 월 수입 >= $3000\n    condition3 = monthly_income >= 3000\n    \n    # 모든 조건 충족 시 True 반환\n    return condition1 and condition2 and condition3\n\n# 신청자 정보\nname = \"김철수\"\nage = 25\ncredit_score = 750\nmonthly_income = 3500\n\n# 평가 결과\nresult = evaluate_loan_application(name, age, credit_score, monthly_income)\n\nprint(result)  # True\n```\n\n### 결과 설명\n\n- 나이: 25세 (조건 만족)\n- 신용 점수: 750 (조건 만족)\n- 월 수입: $3,500 (조건 만족)\n\n모든 조건을 충족하므로 `True`가 출력됩니다.."
     ]
    }
   ],
   "source": [
    "# 체인 실행 및 결과 출력\n",
    "chain = prompt | model | parser\n",
    "\n",
    "for idx, case in enumerate(test_cases, 1):\n",
    "    result = chain.invoke(case)\n",
    "    print(f\"\\n[케이스 {idx}]\")\n",
    "    print(f\"결과: {'승인 (True)' if result else '거부 (False)'}\")\n",
    "    print(f\"신청자 정보: {case['applicant_details']}\")"
   ]
  },
  {
   "cell_type": "markdown",
   "metadata": {},
   "source": [
    "## 예상 출력 결과\n",
    "```\n",
    "[케이스 1]\n",
    "결과: 승인 (True)\n",
    "신청자 정보:\n",
    "    - 이름: 김철수\n",
    "    - 나이: 25세\n",
    "    - 신용 점수: 750\n",
    "    - 월 수입: $3,500\n",
    "\n",
    "[케이스 2]\n",
    "결과: 거부 (False)\n",
    "신청자 정보:\n",
    "    - 이름: 이영희\n",
    "    - 나이: 17세\n",
    "    - 신용 점수: 680\n",
    "    - 월 수입: $2,800\n",
    "```"
   ]
  },
  {
   "cell_type": "markdown",
   "metadata": {},
   "source": [
    "### 추가 기능: 거부 사유 자동 생성\n",
    "`BooleanOutputParser` 결과가 `False`일 때 거부 사유를 생성합니다."
   ]
  },
  {
   "cell_type": "code",
   "execution_count": 31,
   "metadata": {},
   "outputs": [
    {
     "name": "stdout",
     "output_type": "stream",
     "text": [
      "오류 발생: BooleanOutputParser expected output value to include either YES or NO. Received ### 대출 신청자 평가\n",
      "\n",
      "#### 조건:\n",
      "1. 나이 >= 18세\n",
      "2. 신용 점수 >= 700\n",
      "3. 월 수입 >= $3000\n",
      "\n",
      "#### 신청자 정보:\n",
      "- 이름: 이영희\n",
      "- 나이: 17세\n",
      "- 신용 점수: 680\n",
      "- 월 수입: $2,800\n",
      "\n",
      "#### 평가:\n",
      "```python\n",
      "def evaluate_loan_application(age, credit_score, monthly_income):\n",
      "    # 조건 1: 나이 >= 18세\n",
      "    condition1 = age >= 18\n",
      "    # 조건 2: 신용 점수 >= 700\n",
      "    condition2 = credit_score >= 700\n",
      "    # 조건 3: 월 수입 >= $3000\n",
      "    condition3 = monthly_income >= 3000\n",
      "\n",
      "    # 모든 조건 충족 시 True, 아니면 False\n",
      "    return condition1 and condition2 and condition3\n",
      "\n",
      "# 신청자 정보 입력\n",
      "age = 17\n",
      "credit_score = 680\n",
      "monthly_income = 2800\n",
      "\n",
      "# 평가 결과\n",
      "result = evaluate_loan_application(age, credit_score, monthly_income)\n",
      "print(result)  # 출력: False\n",
      "```\n",
      "\n",
      "#### 설명:\n",
      "- 나이: 17세 (조건 불충족)\n",
      "- 신용 점수: 680 (조건 불충족)\n",
      "- 월 수입: $2,800 (조건 불충족)\n",
      "\n",
      "모든 조건을 충족하지 않으므로 출력은 `False`입니다..\n"
     ]
    }
   ],
   "source": [
    "from langchain_core.output_parsers import StrOutputParser\n",
    "\n",
    "# 거부 사유 생성 프롬프트 (출력 형식 명시적으로 지정)\n",
    "reason_template = \"\"\"\n",
    "다음 대출 신청 거부 사유를 1문장으로 설명하세요. 반드시 다음 형식으로 답변해야 합니다:\n",
    "\n",
    "[거부 사유]: [사유 내용]\n",
    "\n",
    "### 신청자 정보:\n",
    "{applicant_details}\n",
    "\n",
    "### 조건:\n",
    "- 최소 나이: {min_age}세\n",
    "- 최소 신용 점수: {min_credit_score}\n",
    "- 최소 월 수입: ${min_income}\n",
    "\"\"\"\n",
    "reason_prompt = ChatPromptTemplate.from_template(reason_template)\n",
    "reason_chain = reason_prompt | model | StrOutputParser()\n",
    "\n",
    "# 체인 확장 (Boolean 파서와 분리)\n",
    "def get_decision_with_reason(input_dict):\n",
    "    # 1. 먼저 Boolean 결정\n",
    "    decision = chain.invoke(input_dict)\n",
    "    \n",
    "    # 2. 거부 시에만 사유 생성\n",
    "    if not decision:\n",
    "        try:\n",
    "            reason = reason_chain.invoke({\n",
    "                \"applicant_details\": input_dict[\"applicant_details\"],\n",
    "                \"min_age\": input_dict[\"min_age\"],\n",
    "                \"min_credit_score\": input_dict[\"min_credit_score\"],\n",
    "                \"min_income\": input_dict[\"min_income\"]\n",
    "            })\n",
    "            return decision, reason\n",
    "        except Exception as e:\n",
    "            return decision, f\"거부 사유 생성 실패: {str(e)}\"\n",
    "    return decision, \"모든 조건을 충족했습니다.\"\n",
    "\n",
    "# 테스트 (안전한 실행)\n",
    "try:\n",
    "    decision, reason = get_decision_with_reason(test_cases[1])\n",
    "    print(f\"\\n결과: {'승인' if decision else '거부'}\")\n",
    "    print(f\"사유: {reason}\")\n",
    "except Exception as e:\n",
    "    print(f\"오류 발생: {str(e)}\")"
   ]
  },
  {
   "cell_type": "markdown",
   "metadata": {},
   "source": [
    "## 예상 출력\n",
    "```\n",
    "거부 사유: 신청자가 나이(17세), 신용 점수(680), 월 수입($2,800) 요건을 모두 충족하지 못했습니다.\n",
    "```"
   ]
  }
 ],
 "metadata": {
  "kernelspec": {
   "display_name": "Python 3",
   "language": "python",
   "name": "python3"
  },
  "language_info": {
   "codemirror_mode": {
    "name": "ipython",
    "version": 3
   },
   "file_extension": ".py",
   "mimetype": "text/x-python",
   "name": "python",
   "nbconvert_exporter": "python",
   "pygments_lexer": "ipython3",
   "version": "3.9.0"
  }
 },
 "nbformat": 4,
 "nbformat_minor": 2
}
