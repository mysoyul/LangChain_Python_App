{
 "cells": [
  {
   "cell_type": "markdown",
   "metadata": {},
   "source": [
    "# BooleanOutputParser 완전 예제: 대출 승인 시스템\n",
    "명시적 `format_instructions`를 포함해 `True`/`False` 결정을 수행합니다."
   ]
  },
  {
   "cell_type": "code",
   "execution_count": null,
   "metadata": {},
   "outputs": [],
   "source": [
    "# 필수 라이브러리 설치\n",
    "#!pip install langchain openai"
   ]
  },
  {
   "cell_type": "code",
   "execution_count": 19,
   "metadata": {},
   "outputs": [],
   "source": [
    "from langchain_openai import ChatOpenAI\n",
    "from langchain_core.prompts import ChatPromptTemplate\n",
    "from langchain.output_parsers import BooleanOutputParser\n",
    "from pprint import pprint"
   ]
  },
  {
   "cell_type": "code",
   "execution_count": 33,
   "metadata": {},
   "outputs": [],
   "source": [
    "# Boolean 파서 초기화\n",
    "parser = BooleanOutputParser()\n",
    "\n",
    "# 수동으로 포맷 지시사항 정의 (LangChain 버전 이슈 회피)\n",
    "format_instructions = \"\"\"\n",
    "출력은 반드시 다음 중 하나여야 합니다:\n",
    "- `True`: 모든 조건 충족 시\n",
    "- `False`: 하나라도 조건 불충족 시\n",
    "\n",
    "예시:\n",
    "True  # 모든 조건 만족\n",
    "False # 조건 불만족\n",
    "\"\"\""
   ]
  },
  {
   "cell_type": "code",
   "execution_count": 34,
   "metadata": {},
   "outputs": [],
   "source": [
    "# 승인/거부 결정 프롬프트 템플릿\n",
    "template = \"\"\"\n",
    "다음 대출 신청자를 평가하세요. 조건을 모두 충족하면 `True`, 아니면 `False`를 출력하세요.\n",
    "\n",
    "### 조건:\n",
    "1. 나이 >= {min_age}세\n",
    "2. 신용 점수 >= {min_credit_score}\n",
    "3. 월 수입 >= ${min_income}\n",
    "\n",
    "### 신청자 정보:\n",
    "{applicant_details}\n",
    "\n",
    "{format_instructions}\n",
    "\"\"\"\n",
    "\n",
    "prompt = ChatPromptTemplate.from_template(template)\n",
    "prompt = prompt.partial(format_instructions=format_instructions)  # 고정 지시사항 주입"
   ]
  },
  {
   "cell_type": "code",
   "execution_count": 35,
   "metadata": {},
   "outputs": [],
   "source": [
    "# 모델 초기화 (결정 일관성을 위해 temperature=0)\n",
    "#model = ChatOpenAI(model=\"gpt-3.5-turbo\", temperature=0)\n",
    "model = ChatOpenAI(\n",
    "    #api_key=OPENAI_API_KEY,\n",
    "    base_url=\"https://api.groq.com/openai/v1\",  # Groq API 엔드포인트\n",
    "    model=\"meta-llama/llama-4-scout-17b-16e-instruct\",  # Spring AI와 동일한 모델\n",
    "    temperature=0.1\n",
    ")"
   ]
  },
  {
   "cell_type": "code",
   "execution_count": 36,
   "metadata": {},
   "outputs": [],
   "source": [
    "# 테스트 케이스\n",
    "test_cases = [\n",
    "    {\n",
    "        \"min_age\": 18,\n",
    "        \"min_credit_score\": 700,\n",
    "        \"min_income\": 3000,\n",
    "        \"applicant_details\": \"\"\"\n",
    "        - 이름: 김철수\n",
    "        - 나이: 25세\n",
    "        - 신용 점수: 750\n",
    "        - 월 수입: $3,500\n",
    "        \"\"\"\n",
    "    },\n",
    "    {\n",
    "        \"min_age\": 18,\n",
    "        \"min_credit_score\": 700,\n",
    "        \"min_income\": 3000,\n",
    "        \"applicant_details\": \"\"\"\n",
    "        - 이름: 이영희\n",
    "        - 나이: 17세\n",
    "        - 신용 점수: 680\n",
    "        - 월 수입: $2,800\n",
    "        \"\"\"\n",
    "    }\n",
    "]"
   ]
  },
  {
   "cell_type": "code",
   "execution_count": 32,
   "metadata": {},
   "outputs": [],
   "source": [
    "# # 체인 실행 및 결과 출력\n",
    "# chain = prompt | model | parser\n",
    "\n",
    "# for idx, case in enumerate(test_cases, 1):\n",
    "#     result = chain.invoke(case)\n",
    "#     print(f\"\\n[케이스 {idx}]\")\n",
    "#     print(f\"결과: {'승인 (True)' if result else '거부 (False)'}\")\n",
    "#     print(f\"신청자 정보: {case['applicant_details']}\")"
   ]
  },
  {
   "cell_type": "markdown",
   "metadata": {},
   "source": [
    "## 예상 출력 결과\n",
    "```\n",
    "[케이스 1]\n",
    "결과: 승인 (True)\n",
    "신청자 정보:\n",
    "    - 이름: 김철수\n",
    "    - 나이: 25세\n",
    "    - 신용 점수: 750\n",
    "    - 월 수입: $3,500\n",
    "\n",
    "[케이스 2]\n",
    "결과: 거부 (False)\n",
    "신청자 정보:\n",
    "    - 이름: 이영희\n",
    "    - 나이: 17세\n",
    "    - 신용 점수: 680\n",
    "    - 월 수입: $2,800\n",
    "```"
   ]
  },
  {
   "cell_type": "markdown",
   "metadata": {},
   "source": [
    "### 추가 기능: 거부 사유 자동 생성\n",
    "`BooleanOutputParser` 결과가 `False`일 때 거부 사유를 생성합니다."
   ]
  },
  {
   "cell_type": "code",
   "execution_count": null,
   "metadata": {},
   "outputs": [
    {
     "name": "stdout",
     "output_type": "stream",
     "text": [
      "오류 발생: BooleanOutputParser expected output value to include either YES or NO. Received ### 대출 신청자 평가\n",
      "\n",
      "#### 조건:\n",
      "1. 나이 >= 18세\n",
      "2. 신용 점수 >= 700\n",
      "3. 월 수입 >= $3000\n",
      "\n",
      "#### 신청자 정보:\n",
      "- 이름: 김철수\n",
      "- 나이: 25세\n",
      "- 신용 점수: 750\n",
      "- 월 수입: $3,500\n",
      "\n",
      "### 평가 코드\n",
      "\n",
      "```python\n",
      "def evaluate_loan_application(name, age, credit_score, monthly_income):\n",
      "    # 조건 1: 나이 >= 18세\n",
      "    condition1 = age >= 18\n",
      "    \n",
      "    # 조건 2: 신용 점수 >= 700\n",
      "    condition2 = credit_score >= 700\n",
      "    \n",
      "    # 조건 3: 월 수입 >= $3000\n",
      "    condition3 = monthly_income >= 3000\n",
      "    \n",
      "    # 모든 조건 충족 시 True 반환\n",
      "    return condition1 and condition2 and condition3\n",
      "\n",
      "# 신청자 정보\n",
      "name = \"김철수\"\n",
      "age = 25\n",
      "credit_score = 750\n",
      "monthly_income = 3500\n",
      "\n",
      "# 평가 결과\n",
      "result = evaluate_loan_application(name, age, credit_score, monthly_income)\n",
      "\n",
      "print(result)  # True\n",
      "```\n",
      "\n",
      "### 결과 설명\n",
      "\n",
      "- 나이: 25세 (조건 만족)\n",
      "- 신용 점수: 750 (조건 만족)\n",
      "- 월 수입: $3,500 (조건 만족)\n",
      "\n",
      "모든 조건을 충족하므로 `True`가 출력됩니다..\n"
     ]
    }
   ],
   "source": [
    "from langchain_core.output_parsers import StrOutputParser\n",
    "\n",
    "# 거부 사유 생성 프롬프트 (출력 형식 명시적으로 지정)\n",
    "reason_template = \"\"\"\n",
    "다음 대출 신청 거부 사유를 1문장으로 설명하세요. 반드시 다음 형식으로 답변해야 합니다:\n",
    "\n",
    "[거부 사유]: [사유 내용]\n",
    "\n",
    "### 신청자 정보:\n",
    "{applicant_details}\n",
    "\n",
    "### 조건:\n",
    "- 최소 나이: {min_age}세\n",
    "- 최소 신용 점수: {min_credit_score}\n",
    "- 최소 월 수입: ${min_income}\n",
    "\"\"\"\n",
    "reason_prompt = ChatPromptTemplate.from_template(reason_template)\n",
    "reason_chain = reason_prompt | model | StrOutputParser()\n",
    "\n",
    "# 체인 확장 (Boolean 파서와 분리)\n",
    "def get_decision_with_reason(input_dict):\n",
    "    # 1. 먼저 Boolean 결정\n",
    "    decision = chain.invoke(input_dict)\n",
    "    \n",
    "    # 2. 거부 시에만 사유 생성\n",
    "    if not decision:\n",
    "        try:\n",
    "            reason = reason_chain.invoke({\n",
    "                \"applicant_details\": input_dict[\"applicant_details\"],\n",
    "                \"min_age\": input_dict[\"min_age\"],\n",
    "                \"min_credit_score\": input_dict[\"min_credit_score\"],\n",
    "                \"min_income\": input_dict[\"min_income\"]\n",
    "            })\n",
    "            return decision, reason\n",
    "        except Exception as e:\n",
    "            return decision, f\"거부 사유 생성 실패: {str(e)}\"\n",
    "    return decision, \"모든 조건을 충족했습니다.\"\n",
    "\n",
    "# 테스트 (안전한 실행)\n",
    "try:\n",
    "    decision, reason = get_decision_with_reason(test_cases[0])\n",
    "    print(f\"\\n결과: {'승인' if decision else '거부'}\")\n",
    "    print(f\"사유: {reason}\")\n",
    "except Exception as e:\n",
    "    print(f\"오류 발생: {str(e)}\")"
   ]
  },
  {
   "cell_type": "markdown",
   "metadata": {},
   "source": [
    "## 예상 출력\n",
    "```\n",
    "거부 사유: 신청자가 나이(17세), 신용 점수(680), 월 수입($2,800) 요건을 모두 충족하지 못했습니다.\n",
    "```"
   ]
  }
 ],
 "metadata": {
  "kernelspec": {
   "display_name": "Python 3",
   "language": "python",
   "name": "python3"
  },
  "language_info": {
   "codemirror_mode": {
    "name": "ipython",
    "version": 3
   },
   "file_extension": ".py",
   "mimetype": "text/x-python",
   "name": "python",
   "nbconvert_exporter": "python",
   "pygments_lexer": "ipython3",
   "version": "3.9.0"
  }
 },
 "nbformat": 4,
 "nbformat_minor": 2
}
