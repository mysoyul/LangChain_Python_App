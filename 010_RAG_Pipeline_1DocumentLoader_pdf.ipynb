{
 "cells": [
  {
   "cell_type": "markdown",
   "id": "1F5lTDp5UPf0",
   "metadata": {
    "id": "1F5lTDp5UPf0"
   },
   "source": [
    "### 1) 라이브러리 설치"
   ]
  },
  {
   "cell_type": "code",
   "execution_count": 1,
   "id": "4cd87a33-0a37-461b-8f37-3c142e60b1f6",
   "metadata": {
    "id": "4cd87a33-0a37-461b-8f37-3c142e60b1f6"
   },
   "outputs": [
    {
     "name": "stdout",
     "output_type": "stream",
     "text": [
      "Note: you may need to restart the kernel to use updated packages.\n"
     ]
    }
   ],
   "source": [
    "%pip install -q langchain langchain-openai langchain_community pypdf"
   ]
  },
  {
   "cell_type": "markdown",
   "id": "2a416db3",
   "metadata": {},
   "source": [
    "#### PyPDFLoader 간단한 예제"
   ]
  },
  {
   "cell_type": "code",
   "execution_count": 2,
   "id": "337f869f",
   "metadata": {},
   "outputs": [
    {
     "name": "stdout",
     "output_type": "stream",
     "text": [
      "총 39개의 문서가 로드 되었습니다.\n",
      "첫 번째 문서 메타데이터:\n",
      "{\n",
      "  \"producer\": \"Acrobat Distiller with ezUniHFT\",\n",
      "  \"creator\": \"PScript5.dll Version 5.2\",\n",
      "  \"creationdate\": \"2005-04-26T15:21:34+09:00\",\n",
      "  \"moddate\": \"2005-04-26T15:21:34+09:00\",\n",
      "  \"author\": \"Owner\",\n",
      "  \"title\": \"<426C75654AC7D1B1DBC6A9C5E4B8AEBEF3B9AEBCAD283230292E687770>\",\n",
      "  \"source\": \"data/tutorial-korean.pdf\",\n",
      "  \"total_pages\": 39,\n",
      "  \"page\": 0,\n",
      "  \"page_label\": \"1\"\n",
      "}\n",
      "\n",
      "10번째 문서 내용: <class 'langchain_core.documents.base.Document'>\n",
      "page_content='11\n",
      "그림 5 와 같이 getRoom과 setRoom 메소드들은 각각 staff 멤버의 방번호(room \n",
      "number)를 설정하고 반환하는 동작을 합니다. getRoom 메소드를 호출해 봅시다. 객체 메뉴의 \n",
      "getRoom 메소드를 선택하여 실행합니다. 그러면 대화상자에서 실행 결과를 볼 수 있을 것\n",
      "입니다(그림 6). 그림 6과 같이 결과의 내용이 \"(unknown room)\"이 됩니다. 왜냐하면, Staff \n",
      "객체에 대한 방번호를 지정하지 않았기 때문입니다.\n",
      "                     \n",
      "그림 6 : 메소드 호출 결과\n",
      "슈퍼 클래스에서 상속된 메소드들은 서브 메뉴(inherited from Person)에서 선택하여 사용\n",
      "할 수 있습니다. 객체 팝업메뉴의 상단에는 두개의 서브메뉴 3)가 있을 것입니다. 하나는 \n",
      "Object 클래스로부터 상속 받은 메소드들이고 다른 하나는 Person 클래스로부터 상속 받은 \n",
      "메소드들입니다(그림 5). 따라서, 서브 메뉴를 선택하면 getName과 같은 Person 클래스의 \n",
      "메소드들을 호출할 수 있습니다. getName을 호출해 보세요. 그러면 \"(unknown name)\" \n",
      "이라는 불분명한 결과를 보게 될 것입니다. 왜냐하면 Person 클래스의 name 속성을 지정하지 \n",
      "않았기 때문입니다.\n",
      "이제 방번호(를 지정해 봅시다. 매개변수를 갖는 함수 호출 방법을 알게 될 것입니다. \n",
      "(getRoom과 getName 메소드는 반환값들을 가지지만, 매개변수들은 가지지 않습니다.) 객체 \n",
      "팝업메뉴의 setRoom 메소드를 호출하면 매개변수들을 입력받기 위한 대화상자가 나타납니다. \n",
      "대화상자에 나타나는 프롬프트 위치에 매개변수를 입력하십시오( 그림 7).\n",
      "그림 7 : 매개변수들을 입력받는 메소드 호출 대화상자\n",
      "3)  inherited from Object  ▸\n",
      "    inherited from Person  ▸' metadata={'producer': 'Acrobat Distiller with ezUniHFT', 'creator': 'PScript5.dll Version 5.2', 'creationdate': '2005-04-26T15:21:34+09:00', 'moddate': '2005-04-26T15:21:34+09:00', 'author': 'Owner', 'title': '<426C75654AC7D1B1DBC6A9C5E4B8AEBEF3B9AEBCAD283230292E687770>', 'source': 'data/tutorial-korean.pdf', 'total_pages': 39, 'page': 10, 'page_label': '11'}\n",
      "\n",
      "분할된 문서의 개수: 266 타입: <class 'list'>\n",
      "\n",
      "10번째 분할된 문서:\n",
      "page_content='2.3. 리눅스/유닉스 및 기타 시스템에 설치하는 방법 ······························································· 6' metadata={'producer': 'Acrobat Distiller with ezUniHFT', 'creator': 'PScript5.dll Version 5.2', 'creationdate': '2005-04-26T15:21:34+09:00', 'moddate': '2005-04-26T15:21:34+09:00', 'author': 'Owner', 'title': '<426C75654AC7D1B1DBC6A9C5E4B8AEBEF3B9AEBCAD283230292E687770>', 'source': 'data/tutorial-korean.pdf', 'total_pages': 39, 'page': 1, 'page_label': '2'}\n",
      "\n",
      "Lazy Load 방식으로 문서 로드:\n",
      "{\n",
      "  \"producer\": \"Acrobat Distiller with ezUniHFT\",\n",
      "  \"creator\": \"PScript5.dll Version 5.2\",\n",
      "  \"creationdate\": \"2005-04-26T15:21:34+09:00\",\n",
      "  \"moddate\": \"2005-04-26T15:21:34+09:00\",\n",
      "  \"author\": \"Owner\",\n",
      "  \"title\": \"<426C75654AC7D1B1DBC6A9C5E4B8AEBEF3B9AEBCAD283230292E687770>\",\n",
      "  \"source\": \"data/tutorial-korean.pdf\",\n",
      "  \"total_pages\": 39,\n",
      "  \"page\": 0,\n",
      "  \"page_label\": \"1\"\n",
      "}\n",
      "{\n",
      "  \"producer\": \"Acrobat Distiller with ezUniHFT\",\n",
      "  \"creator\": \"PScript5.dll Version 5.2\",\n",
      "  \"creationdate\": \"2005-04-26T15:21:34+09:00\",\n",
      "  \"moddate\": \"2005-04-26T15:21:34+09:00\",\n",
      "  \"author\": \"Owner\",\n",
      "  \"title\": \"<426C75654AC7D1B1DBC6A9C5E4B8AEBEF3B9AEBCAD283230292E687770>\",\n",
      "  \"source\": \"data/tutorial-korean.pdf\",\n",
      "  \"total_pages\": 39,\n",
      "  \"page\": 1,\n",
      "  \"page_label\": \"2\"\n",
      "}\n",
      "{\n",
      "  \"producer\": \"Acrobat Distiller with ezUniHFT\",\n",
      "  \"creator\": \"PScript5.dll Version 5.2\",\n",
      "  \"creationdate\": \"2005-04-26T15:21:34+09:00\",\n",
      "  \"moddate\": \"2005-04-26T15:21:34+09:00\",\n",
      "  \"author\": \"Owner\",\n",
      "  \"title\": \"<426C75654AC7D1B1DBC6A9C5E4B8AEBEF3B9AEBCAD283230292E687770>\",\n",
      "  \"source\": \"data/tutorial-korean.pdf\",\n",
      "  \"total_pages\": 39,\n",
      "  \"page\": 2,\n",
      "  \"page_label\": \"3\"\n",
      "}\n",
      "{\n",
      "  \"producer\": \"Acrobat Distiller with ezUniHFT\",\n",
      "  \"creator\": \"PScript5.dll Version 5.2\",\n",
      "  \"creationdate\": \"2005-04-26T15:21:34+09:00\",\n",
      "  \"moddate\": \"2005-04-26T15:21:34+09:00\",\n",
      "  \"author\": \"Owner\",\n",
      "  \"title\": \"<426C75654AC7D1B1DBC6A9C5E4B8AEBEF3B9AEBCAD283230292E687770>\",\n",
      "  \"source\": \"data/tutorial-korean.pdf\",\n",
      "  \"total_pages\": 39,\n",
      "  \"page\": 3,\n",
      "  \"page_label\": \"4\"\n",
      "}\n",
      "{\n",
      "  \"producer\": \"Acrobat Distiller with ezUniHFT\",\n",
      "  \"creator\": \"PScript5.dll Version 5.2\",\n",
      "  \"creationdate\": \"2005-04-26T15:21:34+09:00\",\n",
      "  \"moddate\": \"2005-04-26T15:21:34+09:00\",\n",
      "  \"author\": \"Owner\",\n",
      "  \"title\": \"<426C75654AC7D1B1DBC6A9C5E4B8AEBEF3B9AEBCAD283230292E687770>\",\n",
      "  \"source\": \"data/tutorial-korean.pdf\",\n",
      "  \"total_pages\": 39,\n",
      "  \"page\": 4,\n",
      "  \"page_label\": \"5\"\n",
      "}\n"
     ]
    }
   ],
   "source": [
    "import os\n",
    "import json\n",
    "from langchain_community.document_loaders import PyPDFLoader\n",
    "from langchain_text_splitters import RecursiveCharacterTextSplitter\n",
    "\n",
    "# PDF 파일 경로 설정\n",
    "pdf_filepath = 'data/tutorial-korean.pdf'\n",
    "\n",
    "# 파일 존재 여부 확인 (파일이 없으면 오류 발생)\n",
    "if not os.path.exists(pdf_filepath):\n",
    "    raise FileNotFoundError(f\"파일을 찾을 수 없습니다: {pdf_filepath}\")\n",
    "\n",
    "try:\n",
    "    # 1. PDF 파일 로드\n",
    "    loader = PyPDFLoader(pdf_filepath)  # PDF 파일을 로드할 객체 생성\n",
    "    docs = loader.load()  # 문서를 전체 로드\n",
    "\n",
    "    # 총 문서 개수 출력\n",
    "    print(f\"총 {len(docs)}개의 문서가 로드 되었습니다.\")\n",
    "\n",
    "    #  첫 번째 문서의 메타데이터 출력\n",
    "    print(\"첫 번째 문서 메타데이터:\")\n",
    "    print(json.dumps(docs[0].metadata, indent=2, ensure_ascii=False))\n",
    "\n",
    "    # 특정 인덱스(10번째) 문서의 내용 확인 (존재할 경우)\n",
    "    if len(docs) > 10:\n",
    "        print(\"\\n10번째 문서 내용:\", type(docs[10]))\n",
    "        print(docs[10])  # 10번째 문서 출력\n",
    "\n",
    "    #  2. 텍스트 분할 (200자 단위, 중첩 없음)\n",
    "    text_splitter = RecursiveCharacterTextSplitter(chunk_size=200, chunk_overlap=0)\n",
    "    split_docs = loader.load_and_split(text_splitter=text_splitter)  # 분할된 문서 로드\n",
    "\n",
    "    # 분할된 문서 개수 출력\n",
    "    print(f\"\\n분할된 문서의 개수: {len(split_docs)} 타입: {type(split_docs)}\")\n",
    "\n",
    "    # 10번째 분할된 문서 내용 출력 (존재할 경우)\n",
    "    if len(split_docs) > 10:\n",
    "        print(\"\\n10번째 분할된 문서:\")\n",
    "        print(split_docs[10])\n",
    "\n",
    "    # 3. Lazy Load 방식으로 문서 로드\n",
    "    print(\"\\nLazy Load 방식으로 문서 로드:\")\n",
    "    for i, doc in enumerate(loader.lazy_load()):\n",
    "        if i < 5:  # 너무 많은 출력 방지 (예제: 처음 5개만 출력)\n",
    "            print(json.dumps(doc.metadata, indent=2, ensure_ascii=False))\n",
    "\n",
    "except Exception as e:\n",
    "    # 오류 발생 시 메시지 출력\n",
    "    print(f\"오류 발생: {e}\")\n"
   ]
  },
  {
   "cell_type": "markdown",
   "id": "d7d910ef",
   "metadata": {},
   "source": []
  }
 ],
 "metadata": {
  "colab": {
   "provenance": []
  },
  "kernelspec": {
   "display_name": "base",
   "language": "python",
   "name": "python3"
  },
  "language_info": {
   "codemirror_mode": {
    "name": "ipython",
    "version": 3
   },
   "file_extension": ".py",
   "mimetype": "text/x-python",
   "name": "python",
   "nbconvert_exporter": "python",
   "pygments_lexer": "ipython3",
   "version": "3.12.7"
  }
 },
 "nbformat": 4,
 "nbformat_minor": 5
}
