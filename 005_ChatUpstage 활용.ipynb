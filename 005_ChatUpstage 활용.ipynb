{
 "cells": [
  {
   "cell_type": "markdown",
   "metadata": {},
   "source": [
    "# 1. 패키지 설치"
   ]
  },
  {
   "cell_type": "code",
   "execution_count": null,
   "metadata": {},
   "outputs": [
    {
     "name": "stdout",
     "output_type": "stream",
     "text": [
      "Note: you may need to restart the kernel to use updated packages.\n"
     ]
    }
   ],
   "source": [
    "%pip install -q langchain-upstage"
   ]
  },
  {
   "cell_type": "markdown",
   "metadata": {},
   "source": [
    "# 2. 환경변수 불러오기\n",
    "\n",
    "- `.env` 파일에 `UPSTAGE_API_KEY` 등록"
   ]
  },
  {
   "cell_type": "code",
   "execution_count": 1,
   "metadata": {},
   "outputs": [
    {
     "data": {
      "text/plain": [
       "True"
      ]
     },
     "execution_count": 1,
     "metadata": {},
     "output_type": "execute_result"
    }
   ],
   "source": [
    "from dotenv import load_dotenv\n",
    "\n",
    "load_dotenv()"
   ]
  },
  {
   "cell_type": "markdown",
   "metadata": {},
   "source": [
    "# 3. LLM 답변 생성\n",
    "\n",
    "- Upstage Console에서 발급받은 API Key를 `UPSTAGE_API_KEY`라고 저장하면 별도의 설정 없이 `ChatUpstage`를 사용할 수 있음"
   ]
  },
  {
   "cell_type": "code",
   "execution_count": 2,
   "metadata": {},
   "outputs": [
    {
     "data": {
      "text/plain": [
       "ChatUpstage(client=<openai.resources.chat.completions.completions.Completions object at 0x000002372169A6C0>, async_client=<openai.resources.chat.completions.completions.AsyncCompletions object at 0x00000237216B0B90>, model_kwargs={}, upstage_api_key=SecretStr('**********'), upstage_api_base='https://api.upstage.ai/v1/solar')"
      ]
     },
     "execution_count": 2,
     "metadata": {},
     "output_type": "execute_result"
    }
   ],
   "source": [
    "from langchain_upstage import ChatUpstage\n",
    "\n",
    "llm = ChatUpstage()\n",
    "llm"
   ]
  },
  {
   "cell_type": "code",
   "execution_count": 3,
   "metadata": {},
   "outputs": [
    {
     "name": "stdout",
     "output_type": "stream",
     "text": [
      "<class 'langchain_core.messages.ai.AIMessage'>\n",
      "LangChain은 자연어 처리(NLP) 및 대화형 AI 애플리케이션을 구축하기 위한 Python 라이브러리입니다. 이 라이브러리는 개발자가 대규모 언어 모델(LLM)을 기반으로 대화형 챗봇 및 가상 비서를 쉽게 만들고 배포할 수 있도록 도와줍니다. LangChain은 NLP, 대화 관리, 지식 그래프, 검색 및 기타 기능을 통합하여 다양한 대화형 AI 솔루션을 구축할 수 있도록 지원합니다. 이 라이브러리는 지속적으로 발전하고 있으며, 대화형 AI 애플리케이션을 더욱 발전시키기 위한 도구와 리소스를 제공합니다.\n"
     ]
    }
   ],
   "source": [
    "ai_message=llm.invoke(\"LangChain은 무엇인가요?\")\n",
    "print(type(ai_message))\n",
    "print(ai_message.content)"
   ]
  },
  {
   "cell_type": "code",
   "execution_count": 4,
   "metadata": {},
   "outputs": [
    {
     "name": "stdout",
     "output_type": "stream",
     "text": [
      "content='' additional_kwargs={} response_metadata={} id='run-cbc034a3-c086-4389-8387-1941e68fd7dc'\n",
      "content='LangChain' additional_kwargs={} response_metadata={} id='run-cbc034a3-c086-4389-8387-1941e68fd7dc'\n",
      "content='은 AI 솔루션을 구축하기 위한' additional_kwargs={} response_metadata={} id='run-cbc034a3-c086-4389-8387-1941e68fd7dc'\n",
      "content=' Python 라이브러리로, 특히' additional_kwargs={} response_metadata={} id='run-cbc034a3-c086-4389-8387-1941e68fd7dc'\n",
      "content=' 자연어 처리 및 이해에' additional_kwargs={} response_metadata={} id='run-cbc034a3-c086-4389-8387-1941e68fd7dc'\n",
      "content=' 중점을 둡니다.' additional_kwargs={} response_metadata={} id='run-cbc034a3-c086-4389-8387-1941e68fd7dc'\n",
      "content=' 이 라이브러리는 체인' additional_kwargs={} response_metadata={} id='run-cbc034a3-c086-4389-8387-1941e68fd7dc'\n",
      "content=' 가능한 함수를 통해 대화형' additional_kwargs={} response_metadata={} id='run-cbc034a3-c086-4389-8387-1941e68fd7dc'\n",
      "content=' 에이전트를 구축하고,' additional_kwargs={} response_metadata={} id='run-cbc034a3-c086-4389-8387-1941e68fd7dc'\n",
      "content=' 텍스트를 처리하고, 대규모' additional_kwargs={} response_metadata={} id='run-cbc034a3-c086-4389-8387-1941e68fd7dc'\n",
      "content=' 언어 모델(LLM)' additional_kwargs={} response_metadata={} id='run-cbc034a3-c086-4389-8387-1941e68fd7dc'\n",
      "content='과 함께 작업할 수 있도록' additional_kwargs={} response_metadata={} id='run-cbc034a3-c086-4389-8387-1941e68fd7dc'\n",
      "content=' 도와줍니다. LangChain은' additional_kwargs={} response_metadata={} id='run-cbc034a3-c086-4389-8387-1941e68fd7dc'\n",
      "content=' 챗봇, 문서 처리' additional_kwargs={} response_metadata={} id='run-cbc034a3-c086-4389-8387-1941e68fd7dc'\n",
      "content=', 텍스트 생성 등 다양한 애플' additional_kwargs={} response_metadata={} id='run-cbc034a3-c086-4389-8387-1941e68fd7dc'\n",
      "content='리케이션을 개발하기 위한' additional_kwargs={} response_metadata={} id='run-cbc034a3-c086-4389-8387-1941e68fd7dc'\n",
      "content=' 도구를 제공합니다. LangChain' additional_kwargs={} response_metadata={} id='run-cbc034a3-c086-4389-8387-1941e68fd7dc'\n",
      "content='은 사용하기 쉬운 인터페이스와' additional_kwargs={} response_metadata={} id='run-cbc034a3-c086-4389-8387-1941e68fd7dc'\n",
      "content=' 다양한 기능을 제공하여 AI 프로' additional_kwargs={} response_metadata={} id='run-cbc034a3-c086-4389-8387-1941e68fd7dc'\n",
      "content='그래밍에 대한 진입 장' additional_kwargs={} response_metadata={} id='run-cbc034a3-c086-4389-8387-1941e68fd7dc'\n",
      "content='벽을 낮추는 데 도움을' additional_kwargs={} response_metadata={} id='run-cbc034a3-c086-4389-8387-1941e68fd7dc'\n",
      "content=' 줍니다.' additional_kwargs={} response_metadata={} id='run-cbc034a3-c086-4389-8387-1941e68fd7dc'\n",
      "content='' additional_kwargs={} response_metadata={'finish_reason': 'stop', 'model_name': 'solar-mini-250123'} id='run-cbc034a3-c086-4389-8387-1941e68fd7dc'\n"
     ]
    }
   ],
   "source": [
    "# using chat stream\n",
    "for m in llm.stream(\"LangChain은 무엇인가요?\"):\n",
    "    print(m)"
   ]
  },
  {
   "cell_type": "code",
   "execution_count": 5,
   "metadata": {},
   "outputs": [
    {
     "name": "stdout",
     "output_type": "stream",
     "text": [
      "안녕하세요, 어떻게 지내세요?\n"
     ]
    }
   ],
   "source": [
    "from langchain_core.prompts import ChatPromptTemplate\n",
    "\n",
    "# using chain\n",
    "prompt = ChatPromptTemplate.from_messages(\n",
    "    [\n",
    "        (\"system\", \"You are a helpful assistant that translates English to Korean.\"),\n",
    "        (\"human\", \"Translate this sentence from English to Korean. {english_text}.\"),\n",
    "    ]\n",
    ")\n",
    "\n",
    "llm = ChatUpstage()\n",
    "chain = prompt | llm\n",
    "\n",
    "ai_message=chain.invoke({\"english_text\": \"Hello, How are you?\"})\n",
    "print(ai_message.content)"
   ]
  },
  {
   "cell_type": "code",
   "execution_count": null,
   "metadata": {},
   "outputs": [],
   "source": []
  }
 ],
 "metadata": {
  "kernelspec": {
   "display_name": "venv",
   "language": "python",
   "name": "python3"
  },
  "language_info": {
   "codemirror_mode": {
    "name": "ipython",
    "version": 3
   },
   "file_extension": ".py",
   "mimetype": "text/x-python",
   "name": "python",
   "nbconvert_exporter": "python",
   "pygments_lexer": "ipython3",
   "version": "3.12.4"
  }
 },
 "nbformat": 4,
 "nbformat_minor": 4
}
