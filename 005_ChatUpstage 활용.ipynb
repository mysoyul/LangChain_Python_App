{
 "cells": [
  {
   "cell_type": "markdown",
   "metadata": {},
   "source": [
    "# 1. 패키지 설치"
   ]
  },
  {
   "cell_type": "code",
   "execution_count": 1,
   "metadata": {},
   "outputs": [
    {
     "name": "stdout",
     "output_type": "stream",
     "text": [
      "Note: you may need to restart the kernel to use updated packages.\n"
     ]
    }
   ],
   "source": [
    "%pip install -q langchain-upstage"
   ]
  },
  {
   "cell_type": "markdown",
   "metadata": {},
   "source": [
    "# 2. 환경변수 불러오기\n",
    "\n",
    "- `.env` 파일에 `UPSTAGE_API_KEY` 등록"
   ]
  },
  {
   "cell_type": "code",
   "execution_count": 3,
   "metadata": {},
   "outputs": [
    {
     "data": {
      "text/plain": [
       "True"
      ]
     },
     "execution_count": 3,
     "metadata": {},
     "output_type": "execute_result"
    }
   ],
   "source": [
    "from dotenv import load_dotenv\n",
    "\n",
    "load_dotenv()"
   ]
  },
  {
   "cell_type": "markdown",
   "metadata": {},
   "source": [
    "# 3. LLM 답변 생성\n",
    "\n",
    "- Upstage Console에서 발급받은 API Key를 `UPSTAGE_API_KEY`라고 저장하면 별도의 설정 없이 `ChatUpstage`를 사용할 수 있음"
   ]
  },
  {
   "cell_type": "code",
   "execution_count": null,
   "metadata": {},
   "outputs": [],
   "source": [
    "from langchain_upstage import ChatUpstage\n",
    "\n",
    "#llm = ChatUpstage(temperature=0.5)\n",
    "llm = ChatUpstage(\n",
    "        model=\"solar-pro\",\n",
    "        base_url=\"https://api.upstage.ai/v1\",\n",
    "        temperature=0.5\n",
    "    )"
   ]
  },
  {
   "cell_type": "code",
   "execution_count": 4,
   "metadata": {},
   "outputs": [
    {
     "name": "stdout",
     "output_type": "stream",
     "text": [
      "<class 'langchain_core.messages.ai.AIMessage'>\n",
      "LangChain은 자연어 처리(NLP) 및 자연어 이해(NLU) 작업을 수행하기 위한 도구 및 라이브러리의 집합입니다. 이는 주로 Python으로 작성되어 있으며, 텍스트 데이터에 대한 다양한 NLP 작업을 수행하는 데 사용할 수 있는 다양한 기능을 제공합니다.\n",
      "\n",
      "LangChain의 주요 기능 중 일부는 다음과 같습니다:\n",
      "\n",
      "1. 텍스트 전처리: 토큰화, 어간 추출, 표제어 추출, 불용어 제거 등 텍스트 데이터를 준비하는 데 도움이 되는 다양한 도구를 제공합니다.\n",
      "\n",
      "2. 감정 분석: 텍스트의 감정 또는 감정 톤을 분석하고 긍정적, 부정적 또는 중립적으로 분류할 수 있습니다.\n",
      "\n",
      "3. 개체명 인식(NER): 텍스트에서 사람, 장소, 조직, 날짜 등과 같은 개체를 식별하고 분류할 수 있습니다.\n",
      "\n",
      "4. 토픽 모델링: 텍스트 데이터의 주제를 분석하고 식별하여 대규모 문서 컬렉션에서 공통 주제를 발견하는 데 도움이 될 수 있습니다.\n",
      "\n",
      "5. 질의 응답: 자연어로 된 질문에 대한 답변을 생성하기 위해 텍스트 데이터에 대한 자연어 질의 응답을 수행할 수 있습니다.\n",
      "\n",
      "6. 기계 번역: LangChain은 신경 기계 번역 모델을 사용하여 한 언어에서 다른 언어로 텍스트를 번역할 수 있습니다.\n",
      "\n",
      "7. 대화 시스템: 챗봇 및 기타 대화형 시스템을 구축하기 위한 도구를 제공하여 사용자와의 인간과 유사한 대화를 시뮬레이션할 수 있습니다.\n",
      "\n",
      "전반적으로 LangChain은 다양한 NLP 작업을 수행하기 위한 포괄적인 도구 세트를 제공하며, 연구원, 개발자 및 NLP 분야에서 작업하는 모든 사람들에게 유용한 리소스가 될 수 있습니다.\n"
     ]
    }
   ],
   "source": [
    "ai_message=llm.invoke(\"LangChain은 무엇인가요?\")\n",
    "print(type(ai_message))\n",
    "print(ai_message.content)"
   ]
  },
  {
   "cell_type": "code",
   "execution_count": 7,
   "metadata": {},
   "outputs": [
    {
     "name": "stdout",
     "output_type": "stream",
     "text": [
      "LangChain은 자연어 처리(NLP) 및 이해(NLU)를 위한 도구 및 기술을 제공하는 Python 라이브러리입니다. 이 라이브러리는 대화형 AI 시스템을 구축하기 위한 다양한 기능을 제공하며, 텍스트 전처리, 개체 인식, 감정 분석, 질의 응답 등의 작업을 지원합니다. LangChain은 유연하고 확장 가능하도록 설계되어 개발자들이 강력한 자연어 애플리케이션을 만들 수 있도록 도와줍니다."
     ]
    }
   ],
   "source": [
    "# using chat stream\n",
    "for chunk in llm.stream(\"LangChain은 무엇인가요?\"):\n",
    "    print(chunk.content, end=\"\")"
   ]
  },
  {
   "cell_type": "code",
   "execution_count": 4,
   "metadata": {},
   "outputs": [
    {
     "name": "stdout",
     "output_type": "stream",
     "text": [
      "Upstage Response:\n",
      "LangChain은 AI 애플리케이션을 구축하기 위한 강력한 프레임워크입니다.\n"
     ]
    }
   ],
   "source": [
    "from langchain_upstage import ChatUpstage\n",
    "from langchain_core.prompts import ChatPromptTemplate\n",
    "\n",
    "translation_prompt = ChatPromptTemplate.from_messages([\n",
    "        (\"system\", \"You are a professional translator specializing in Korean-English translation.\"),\n",
    "        (\"human\", \"Translate this from {source_lang} to {target_lang}: {text}\")\n",
    "    ])\n",
    "\n",
    "llm = ChatUpstage(\n",
    "        model=\"solar-pro\",\n",
    "        base_url=\"https://api.upstage.ai/v1\",\n",
    "        temperature=0.5\n",
    "    )\n",
    "\n",
    "# 체인 실행\n",
    "chain = translation_prompt | llm\n",
    "\n",
    "response = chain.invoke({\n",
    "    \"source_lang\": \"English\",\n",
    "    \"target_lang\": \"Korean\", \n",
    "    \"text\": \"LangChain is a powerful framework for building AI applications.\"\n",
    "})\n",
    "\n",
    "print(\"Upstage Response:\")\n",
    "print(response.content)\n",
    "    "
   ]
  },
  {
   "cell_type": "code",
   "execution_count": null,
   "metadata": {},
   "outputs": [
    {
     "name": "stdout",
     "output_type": "stream",
     "text": [
      "안녕하세요, 어떻게 지내세요?\n"
     ]
    }
   ],
   "source": [
    "from langchain_core.prompts import ChatPromptTemplate\n",
    "\n",
    "llm = ChatUpstage(\n",
    "        model=\"solar-pro\",\n",
    "        base_url=\"https://api.upstage.ai/v1\",\n",
    "        temperature=0.5\n",
    "    )\n",
    "\n",
    "# using chain\n",
    "prompt = ChatPromptTemplate.from_messages(\n",
    "    [\n",
    "        (\"system\", \"You are a helpful assistant that translates English to Korean.\"),\n",
    "        (\"human\", \"Translate this sentence from English to Korean. {english_text}.\"),\n",
    "    ]\n",
    ")\n",
    "\n",
    "llm = ChatUpstage()\n",
    "chain = prompt | llm\n",
    "\n",
    "ai_message=chain.invoke({\"english_text\": \"Hello, How are you?\"})\n",
    "print(ai_message.content)"
   ]
  },
  {
   "cell_type": "code",
   "execution_count": null,
   "metadata": {},
   "outputs": [],
   "source": []
  }
 ],
 "metadata": {
  "kernelspec": {
   "display_name": "base",
   "language": "python",
   "name": "python3"
  },
  "language_info": {
   "codemirror_mode": {
    "name": "ipython",
    "version": 3
   },
   "file_extension": ".py",
   "mimetype": "text/x-python",
   "name": "python",
   "nbconvert_exporter": "python",
   "pygments_lexer": "ipython3",
   "version": "3.12.7"
  }
 },
 "nbformat": 4,
 "nbformat_minor": 4
}
