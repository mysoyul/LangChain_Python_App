{
 "cells": [
  {
   "cell_type": "markdown",
   "id": "DEJbhYzzUZ-K",
   "metadata": {
    "id": "DEJbhYzzUZ-K"
   },
   "source": [
    "## 0. 환경 구성"
   ]
  },
  {
   "cell_type": "markdown",
   "id": "1F5lTDp5UPf0",
   "metadata": {
    "id": "1F5lTDp5UPf0"
   },
   "source": [
    "### 1) 라이브러리 설치"
   ]
  },
  {
   "cell_type": "code",
   "execution_count": 4,
   "id": "4cd87a33-0a37-461b-8f37-3c142e60b1f6",
   "metadata": {
    "id": "4cd87a33-0a37-461b-8f37-3c142e60b1f6"
   },
   "outputs": [
    {
     "name": "stdout",
     "output_type": "stream",
     "text": [
      "Note: you may need to restart the kernel to use updated packages.\n"
     ]
    },
    {
     "name": "stderr",
     "output_type": "stream",
     "text": [
      "\n",
      "[notice] A new release of pip is available: 24.0 -> 25.0.1\n",
      "[notice] To update, run: python.exe -m pip install --upgrade pip\n"
     ]
    }
   ],
   "source": [
    "%pip install -q langchain langchain-openai langchain_community tiktoken chromadb onnxruntime"
   ]
  },
  {
   "cell_type": "code",
   "execution_count": 1,
   "id": "c544596c",
   "metadata": {},
   "outputs": [
    {
     "name": "stdout",
     "output_type": "stream",
     "text": [
      "Name: onnxruntime\n",
      "Version: 1.20.1\n",
      "Summary: ONNX Runtime is a runtime accelerator for Machine Learning models\n",
      "Home-page: https://onnxruntime.ai\n",
      "Author: Microsoft Corporation\n",
      "Author-email: onnxruntime@microsoft.com\n",
      "License: MIT License\n",
      "Location: c:\\Users\\vega2\\anaconda3\\Lib\\site-packages\n",
      "Requires: coloredlogs, flatbuffers, numpy, packaging, protobuf, sympy\n",
      "Required-by: chromadb\n",
      "Note: you may need to restart the kernel to use updated packages.\n"
     ]
    }
   ],
   "source": [
    "%pip show onnxruntime"
   ]
  },
  {
   "cell_type": "code",
   "execution_count": 6,
   "id": "91e41572",
   "metadata": {},
   "outputs": [
    {
     "name": "stdout",
     "output_type": "stream",
     "text": [
      "Note: you may need to restart the kernel to use updated packages.\n"
     ]
    }
   ],
   "source": [
    "%pip install -q langchain langchain-openai langchain_community faiss-cpu"
   ]
  },
  {
   "cell_type": "markdown",
   "id": "55152049-e9e5-4952-8e19-409f58cf3ac9",
   "metadata": {
    "id": "55152049-e9e5-4952-8e19-409f58cf3ac9"
   },
   "source": [
    "### 2) OpenAI 인증키 설정\n",
    "https://openai.com/"
   ]
  },
  {
   "cell_type": "code",
   "execution_count": 1,
   "id": "b76f68a8-4745-4377-8057-6090b87377d1",
   "metadata": {
    "id": "b76f68a8-4745-4377-8057-6090b87377d1"
   },
   "outputs": [
    {
     "name": "stdout",
     "output_type": "stream",
     "text": [
      "sk\n"
     ]
    }
   ],
   "source": [
    "from dotenv import load_dotenv\n",
    "import os\n",
    "# .env 파일을 불러와서 환경 변수로 설정\n",
    "load_dotenv()\n",
    "\n",
    "OPENAI_API_KEY = os.getenv(\"OPENAI_API_KEY\")\n",
    "print(OPENAI_API_KEY[:2])"
   ]
  },
  {
   "cell_type": "markdown",
   "id": "ad90e845",
   "metadata": {},
   "source": [
    "#### RAG 파이프 라인\n",
    "* Load Data - Text Split - Indexing - Retrieval - Generation"
   ]
  },
  {
   "cell_type": "code",
   "execution_count": 3,
   "id": "cefe286d",
   "metadata": {},
   "outputs": [
    {
     "name": "stdout",
     "output_type": "stream",
     "text": [
      "context 적용한 결과\n",
      "('소득세법 제12조에 따르면, 비과세소득에 해당하는 소득에 대한 규정은 다음과 같습니다:\\n'\n",
      " '\\n'\n",
      " '1. **공익신탁의 이익**: 「공익신탁법」에 따른 공익신탁의 이익은 소득세가 부과되지 않습니다.\\n'\n",
      " '\\n'\n",
      " '2. **특정 사업소득**:\\n'\n",
      " '   - **논ㆍ밭에서의 작물 생산 소득**: 논이나 밭을 작물 생산에 이용하여 발생하는 소득은 비과세됩니다.\\n'\n",
      " '   - **주택 임대소득**: 1개의 주택을 소유한 사람의 주택임대소득이 비과세됩니다. 단, 제99조에 명시된 기준시가가 12억 원을 '\n",
      " '초과하거나 국외에 소재한 주택의 임대소득은 제외됩니다. 또한, 해당 과세기간에 총수입금액이 2천만 원 이하인 경우에도 비과세됩니다. 이 '\n",
      " '경우, 주택 수의 계산 및 주택임대소득의 산정 등에 관한 구체적인 사항은 대통령령에 따릅니다.\\n'\n",
      " '   - **농어가부업소득**: 이를 포함한 일정한 농업 관련 부업소득도 대통령령으로 정하는 바에 따라 비과세됩니다.\\n'\n",
      " '   - **전통주의 제조 소득**: 전통주 제조에서 발생하는 소득도 대통령령으로 정하여 비과세됩니다.\\n'\n",
      " '   - **임지의 임목 벌채 또는 양도 소득**: 조림기간이 5년 이상인 임지에서 발생하는 임목의 벌채나 양도로 인한 소득이 연 '\n",
      " '600만 원 이하인 경우 비과세됩니다. 이 경우의 조림기간 및 세액의 계산 등에 필요한 사항은 대통령령에 따릅니다.\\n'\n",
      " '   - **작물재배업 소득**: 대통령령으로 정하는 작물재배업에서 발생하는 소득이 비과세됩니다.\\n'\n",
      " '\\n'\n",
      " '이 규정들은 소득세의 과세 대상에서 제외되며, 구체적인 세부 사항은 관련 대통령령에 따릅니다. 각 항목에 대한 자세한 내용은 관련 '\n",
      " '법령이나 규정을 통해 확인할 수 있습니다.')\n",
      "context 적용하지 않은은 결과\n",
      "('소득세법에서 비과세 소득은 세금을 부과하지 않는 소득을 의미하며, 국가마다 규정이 다를 수 있습니다. 일반적으로 비과세 소득에는 다음과 '\n",
      " '같은 것들이 포함될 수 있습니다.\\n'\n",
      " '\\n'\n",
      " '1. **일정 금액 이하의 이자 소득**: 일부 국가는 특정 한도를 넘지 않는 이자 소득에 대해 비과세 혜택을 제공합니다.\\n'\n",
      " '\\n'\n",
      " '2. **연금 및 사회 보장 혜택**: 특정 형식의 연금이나 사회 보장 혜택이 비과세 소득으로 간주될 수 있습니다.\\n'\n",
      " '\\n'\n",
      " '3. **장학금**: 교육 목적의 장학금은 일반적으로 비과세 소득으로 인정됩니다.\\n'\n",
      " '\\n'\n",
      " '4. **일부 보험금**: 특정 보험금 지급, 예를 들어 생명 보험금 등은 비과세 소득에 해당할 수 있습니다.\\n'\n",
      " '\\n'\n",
      " '5. **선물 및 상속**: 일정 한도 내의 선물이나 상속은 비과세로 처리될 수도 있습니다.\\n'\n",
      " '\\n'\n",
      " '6. **특정 수당 및 보조금**: 정부나 공공기관이 지급하는 일부 수당이나 보조금은 비과세 소득으로 분류될 수 있습니다.\\n'\n",
      " '\\n'\n",
      " '국가마다 세법이 다르기 때문에, 구체적인 사항은 해당 국가의 소득세법을 참고하거나 세무 전문가와 상담하시는 것이 좋습니다. 한국의 경우, '\n",
      " '소득세법 및 관련 규정을 확인하시기 바랍니다.')\n"
     ]
    }
   ],
   "source": [
    "from langchain_openai import ChatOpenAI,OpenAIEmbeddings\n",
    "from langchain.vectorstores import FAISS\n",
    "from langchain.text_splitter import RecursiveCharacterTextSplitter\n",
    "from langchain.document_loaders import TextLoader\n",
    "from pprint import pprint\n",
    "\n",
    "# 1. Load Data\n",
    "loader = TextLoader(\"data/taxinfo.txt\", encoding=\"utf-8\")\n",
    "documents = loader.load()\n",
    "\n",
    "# 2️. Text Split\n",
    "splitter = RecursiveCharacterTextSplitter(chunk_size=500, chunk_overlap=50)\n",
    "split_docs = splitter.split_documents(documents)\n",
    "#print(split_docs)\n",
    "\n",
    "# 3️. Indexing (벡터 저장)\n",
    "vectorstore = FAISS.from_documents(split_docs, OpenAIEmbeddings())\n",
    "# 로컬 파일로 저장\n",
    "vectorstore.save_local(\"faiss_index\")\n",
    "\n",
    "# 4️. Retrieval (유사 문서 검색)\n",
    "retriever = vectorstore.as_retriever(search_kwargs={\"k\": 2})\n",
    "# **질문(쿼리)**에 대해 유사한 문서를 검색하는 역할\n",
    "retrieved_docs = retriever.invoke(\"소득세법에서 비과세소득에 해당하는 소득은 무엇인가요?\")\n",
    "#print(retrieved_docs)\n",
    "\n",
    "# 5️. Generation (LLM 응답 생성)\n",
    "llm = ChatOpenAI(model=\"gpt-4o\")\n",
    "context = \"\\n\\n\".join([doc.page_content for doc in retrieved_docs])\n",
    "#print(context)\n",
    "\n",
    "response_context = llm.invoke(f\"소득세법에서 비과세소득에 해당하는 소득은 무엇인가요? 관련 정보: {context}\")\n",
    "print('context 적용한 결과')\n",
    "pprint(response_context.content)\n",
    "\n",
    "response = llm.invoke(f\"소득세법에서 비과세소득에 해당하는 소득은 무엇인가요?\")\n",
    "print('context 적용하지 않은 결과')\n",
    "pprint(response.content)\n",
    "\n"
   ]
  },
  {
   "cell_type": "markdown",
   "id": "1a0d2850",
   "metadata": {},
   "source": [
    "### 개선한 Source"
   ]
  },
  {
   "cell_type": "code",
   "execution_count": 2,
   "id": "02b03769",
   "metadata": {},
   "outputs": [
    {
     "ename": "",
     "evalue": "",
     "output_type": "error",
     "traceback": [
      "\u001b[1;31mThe Kernel crashed while executing code in the current cell or a previous cell. \n",
      "\u001b[1;31mPlease review the code in the cell(s) to identify a possible cause of the failure. \n",
      "\u001b[1;31mClick <a href='https://aka.ms/vscodeJupyterKernelCrash'>here</a> for more info. \n",
      "\u001b[1;31mView Jupyter <a href='command:jupyter.viewOutput'>log</a> for further details."
     ]
    }
   ],
   "source": [
    "\n",
    "from langchain_openai import ChatOpenAI, OpenAIEmbeddings\n",
    "from langchain.vectorstores import FAISS\n",
    "from langchain.text_splitter import RecursiveCharacterTextSplitter\n",
    "from langchain.document_loaders import TextLoader\n",
    "from pprint import pprint\n",
    "\n",
    "# 1. 데이터 로드 (기존과 동일)\n",
    "loader = TextLoader(\"data/taxinfo.txt\", encoding=\"utf-8\")\n",
    "documents = loader.load()\n",
    "\n",
    "# 2. 텍스트 분할 개선\n",
    "splitter = RecursiveCharacterTextSplitter(\n",
    "    chunk_size=1000,  # 크기 증가\n",
    "    chunk_overlap=200,\n",
    "    separators=[\"\\n\\n\", \"\\n\", \" \", \"\"],  # 자연스러운 분할을 위한 구분자\n",
    "    length_function=len,\n",
    "    is_separator_regex=False,\n",
    ")\n",
    "split_docs = splitter.split_documents(documents)\n",
    "\n",
    "# 3. 인덱싱 (벡터 저장)\n",
    "vectorstore = FAISS.from_documents(split_docs, OpenAIEmbeddings())\n",
    "vectorstore.save_local(\"faiss_index\")\n",
    "\n",
    "# 4. 검색 개선\n",
    "retriever = vectorstore.as_retriever(\n",
    "    search_type=\"mmr\",  # 최대 다양성 검색\n",
    "    search_kwargs={\"k\": 5, \"fetch_k\": 10}  # 더 많은 결과 검색\n",
    ")\n",
    "\n",
    "# 5. 프롬프트 엔지니어링\n",
    "def generate_prompt(query, context):\n",
    "    return f\"\"\"다음은 소득세법 비과세소득 관련 조항입니다. 문맥을 고려하여 질문에 답변하세요.\n",
    "\n",
    "[관련 조항]\n",
    "{context}\n",
    "\n",
    "[질문]\n",
    "{query}\n",
    "\n",
    "[답변 요구사항]\n",
    "- 비과세소득 유형을 계층적으로 구분하여 설명\n",
    "- 각 항목별 구체적인 조건 명시\n",
    "- 법조문의 항, 호, 목 번호를 포함\n",
    "- 500자 이내로 간결하게 요약\"\"\"\n",
    "\n",
    "# 검색 및 응답 생성\n",
    "query = \"소득세법에서 비과세소득에 해당하는 소득은 무엇인가요?\"\n",
    "retrieved_docs = retriever.invoke(query)\n",
    "context = \"\\n\\n\".join([doc.page_content for doc in retrieved_docs])\n",
    "\n",
    "llm = ChatOpenAI(model=\"gpt-4o\", temperature=0.3)  # 창의성 낮춤\n",
    "response = llm.invoke(generate_prompt(query, context))\n",
    "\n",
    "print('개선된 결과:')\n",
    "pprint(response.content)"
   ]
  }
 ],
 "metadata": {
  "colab": {
   "provenance": []
  },
  "kernelspec": {
   "display_name": "base",
   "language": "python",
   "name": "python3"
  },
  "language_info": {
   "codemirror_mode": {
    "name": "ipython",
    "version": 3
   },
   "file_extension": ".py",
   "mimetype": "text/x-python",
   "name": "python",
   "nbconvert_exporter": "python",
   "pygments_lexer": "ipython3",
   "version": "3.12.7"
  }
 },
 "nbformat": 4,
 "nbformat_minor": 5
}
