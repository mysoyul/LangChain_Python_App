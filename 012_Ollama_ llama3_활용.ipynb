{
 "cells": [
  {
   "cell_type": "markdown",
   "metadata": {},
   "source": [
    "#### 1. 패키지 설치"
   ]
  },
  {
   "cell_type": "code",
   "execution_count": 1,
   "metadata": {},
   "outputs": [
    {
     "name": "stdout",
     "output_type": "stream",
     "text": [
      "Note: you may need to restart the kernel to use updated packages.\n",
      "Note: you may need to restart the kernel to use updated packages.\n"
     ]
    }
   ],
   "source": [
    "%pip install -q langchain\n",
    "%pip install -q langchain-ollama"
   ]
  },
  {
   "cell_type": "markdown",
   "metadata": {},
   "source": [
    "#### 로컬 Ollama로 설치한 gemma2 모델을 사용하기\n",
    "##### ollama run gemma2\n",
    "\n",
    "- `ChatOllama` 를 활용한 LLM 답변 생성"
   ]
  },
  {
   "cell_type": "code",
   "execution_count": 3,
   "metadata": {},
   "outputs": [
    {
     "name": "stdout",
     "output_type": "stream",
     "text": [
      "content='LangChain은 **대규모 언어 모델(LLM)**을 활용하여 앱을 구축하기 위한 프레임워크입니다.\\n\\n**간단히 말해, LangChain은 LLM의 능력을 더욱 확장하고 다양하게 활용할 수 있도록 도와주는 도구라고 할 수 있습니다.**\\n\\n예를 들어, 단순히 질문에 답변하는 것을 넘어서, 다양한 데이터에서 정보를 추출하고, 논리적인 사고를 수행하거나, 사용자와의 대화를 기반으로 새로운 콘텐츠를 생성하는 등 더욱 복잡하고 창의적인 작업을 가능하게 합니다.\\n\\n**LangChain의 주요 특징:**\\n\\n* **모듈 디자인**: 다양한 LLM, 데이터 소스, 앱 구성 요소를 모듈 형태로 제공하여 사용자의 필요에 맞게 조합하고 구축할 수 있습니다.\\n* **플러그인 지원**: 외부 도구와 서비스를 간편하게 통합하여 앱 기능을 확장할 수 있습니다. 예를 들어, 검색 엔진, 데이터베이스, API 등을 연결하여 LLM의 지식과 능력을 더욱 강화할 수 있습니다.\\n* **채널 관리**: 다양한 채널(텍스트, 음성, 이미지)을 통해 사용자와 상호 작용하는 데 도움이 되는 기능을 제공합니다.\\n* **전체 프로세스 구축 지원**: LLM 훈련부터 앱 개발 및 배포까지 단계별 가이드와 도구를 제공하여 전체 프로세스를 효율적으로 관리할 수 있습니다.\\n\\n**LangChain은 다양한 분야에서 활용될 수 있으며, 일부 예시는 다음과 같습니다:**\\n\\n* **챗봇**: 사용자의 문장을 이해하고 자연스럽게 대화하는 챗봇 개발\\n* **검색 엔진**: LLM을 활용하여 질문에 대한 더 정확하고 유익한 결과를 제공하는 검색 시스템 구축\\n* **콘텐츠 생성**: 기사, 블로그 게시물, 소설 등 다양한 형태의 콘텐츠를 자동으로 생성\\n* **교육**: 학습 자료 분석 및 개인 맞춤형 학습 경험 제공\\n\\nLangChain은 LLM을 활용하여 새로운 앱과 서비스를 개발하는 데 있어 유익한 도구입니다.\\n\\n\\n' additional_kwargs={} response_metadata={'model': 'gemma2', 'created_at': '2025-03-05T05:35:00.6832384Z', 'done': True, 'done_reason': 'stop', 'total_duration': 286043845500, 'load_duration': 43665900, 'prompt_eval_count': 18, 'prompt_eval_duration': 360000000, 'eval_count': 528, 'eval_duration': 285625000000, 'message': Message(role='assistant', content='', images=None, tool_calls=None)} id='run-de017c96-9891-4fb1-a12f-168a05fe0d43-0' usage_metadata={'input_tokens': 18, 'output_tokens': 528, 'total_tokens': 546}\n"
     ]
    }
   ],
   "source": [
    "from langchain_ollama import ChatOllama\n",
    "\n",
    "llm = ChatOllama(model=\"gemma2\")\n",
    "response = llm.invoke(\"LangChain은 무엇인가요?\")\n",
    "print(response)\n"
   ]
  },
  {
   "cell_type": "markdown",
   "metadata": {},
   "source": [
    "#### 로컬 Ollama로 설치한 llama3.2 모델을 사용하기\n",
    "##### ollama run llama3.2\n"
   ]
  },
  {
   "cell_type": "code",
   "execution_count": 6,
   "metadata": {},
   "outputs": [
    {
     "name": "stdout",
     "output_type": "stream",
     "text": [
      "{'question': 'What is LangChain?', 'text': 'LangChain is an open-source, Python library that provides a simple and efficient way to build blockchain-based data storage and retrieval systems. It allows developers to easily integrate with popular blockchains such as Ethereum, Solana, and Polkadot, and provides a flexible framework for building custom blockchain applications.\\n\\nLangChain consists of several key components, including:\\n\\n1. Chain: A lightweight, Python-based library that provides a simple interface for interacting with the blockchain.\\n2. Filesystem: A module that allows developers to store and retrieve files on the blockchain.\\n3. Storage: A module that provides a higher-level interface for storing and retrieving data on the blockchain.\\n\\nLangChain is designed to be highly extensible and customizable, allowing developers to build complex blockchain applications tailored to their specific needs.\\n\\nIs there anything else you would like to know about LangChain?'}\n"
     ]
    }
   ],
   "source": [
    "from langchain.llms import Ollama\n",
    "from langchain.prompts import PromptTemplate\n",
    "from langchain.chains import LLMChain\n",
    "\n",
    "# Ollama를 사용하여 로컬에서 실행 중인 llama3.2 모델을 로드\n",
    "llm = Ollama(model=\"llama3.2\")\n",
    "\n",
    "# 프롬프트 템플릿 정의\n",
    "prompt_template = PromptTemplate(\n",
    "    input_variables=[\"question\"],\n",
    "    template=\"Q: {question}\\nA:\"\n",
    ")\n",
    "\n",
    "# LLMChain 생성\n",
    "chain = LLMChain(llm=llm, prompt=prompt_template)\n",
    "\n",
    "# 질문을 입력하고 모델의 응답을 받음\n",
    "question = \"What is LangChain?\"\n",
    "#question = \"France의 수도는 어디입니까?\"\n",
    "response = chain.invoke({\"question\": question})\n",
    "\n",
    "# 결과 출력\n",
    "print(response)"
   ]
  },
  {
   "cell_type": "code",
   "execution_count": 7,
   "metadata": {},
   "outputs": [
    {
     "name": "stdout",
     "output_type": "stream",
     "text": [
      "LangChain is an open-source, Python library that provides a simple and efficient way to build blockchain-based data storage and retrieval systems. It allows developers to easily integrate with popular blockchains such as Ethereum, Solana, and Polkadot, and provides a flexible framework for building custom blockchain applications.\n",
      "\n",
      "LangChain consists of several key components, including:\n",
      "\n",
      "1. Chain: A lightweight, Python-based library that provides a simple interface for interacting with the blockchain.\n",
      "2. Filesystem: A module that allows developers to store and retrieve files on the blockchain.\n",
      "3. Storage: A module that provides a higher-level interface for storing and retrieving data on the blockchain.\n",
      "\n",
      "LangChain is designed to be highly extensible and customizable, allowing developers to build complex blockchain applications tailored to their specific needs.\n",
      "\n",
      "Is there anything else you would like to know about LangChain?\n"
     ]
    }
   ],
   "source": [
    "print(response['text'])"
   ]
  },
  {
   "cell_type": "markdown",
   "metadata": {},
   "source": [
    "##### 최신버전 LangChain에서는 ChatOllama와 RunnableSequence(prompt | llm) 를 사용해야 합니다."
   ]
  },
  {
   "cell_type": "code",
   "execution_count": 12,
   "metadata": {},
   "outputs": [
    {
     "name": "stdout",
     "output_type": "stream",
     "text": [
      "<class 'langchain_core.messages.ai.AIMessage'>\n",
      "content='LangChain is an open-source, Rust-based framework designed to facilitate the development of decentralized data pipelines and workflows. It enables developers to build scalable, fault-tolerant, and highly modular systems for managing and processing large datasets.\\n\\nThe core concept behind LangChain is to provide a standardized interface for interacting with various blockchain platforms, enabling seamless integration of on-chain and off-chain data sources, storage, and processing capabilities. This framework aims to simplify the process of building complex decentralized applications (dApps) by providing a set of pre-built components and tools for tasks such as:\\n\\n1. Data storage and retrieval\\n2. Workflow management\\n3. API gateway and authentication\\n4. Smart contract integration\\n\\nLangChain is built on top of Rust, a systems programming language known for its performance, reliability, and security features, making it an ideal choice for building robust and scalable blockchain applications.\\n\\nBy using LangChain, developers can create more efficient, modular, and maintainable decentralized data pipelines, which can help improve the overall user experience and reduce the complexity associated with traditional blockchain development.' additional_kwargs={} response_metadata={'model': 'llama3.2', 'created_at': '2025-03-05T08:00:36.840871Z', 'done': True, 'done_reason': 'stop', 'total_duration': 31046607400, 'load_duration': 2636222400, 'prompt_eval_count': 46, 'prompt_eval_duration': 1839000000, 'eval_count': 214, 'eval_duration': 25599000000, 'message': Message(role='assistant', content='', images=None, tool_calls=None)} id='run-d8dc0d65-b553-48bd-a6c7-4d0289a24d6f-0' usage_metadata={'input_tokens': 46, 'output_tokens': 214, 'total_tokens': 260}\n"
     ]
    }
   ],
   "source": [
    "from langchain_ollama import ChatOllama\n",
    "#from langchain_core.prompts import PromptTemplate\n",
    "from langchain_core.prompts import ChatPromptTemplate\n",
    "\n",
    "# Ollama를 사용하여 로컬에서 실행 중인 llama3.2 모델 로드\n",
    "llm = ChatOllama(model=\"llama3.2\")\n",
    "\n",
    "# 프롬프트 템플릿 정의\n",
    "# prompt_template = PromptTemplate.from_template(\"Q: {question}\\nA:\")\n",
    "\n",
    "# 더 정확한 응답을 위한 개선된 프롬프트\n",
    "prompt_template = ChatPromptTemplate.from_messages([\n",
    "    (\"system\", \"You are an AI assistant that provides accurate and detailed answers.\"),\n",
    "    (\"human\", \"Q: {question}\\nA:\")\n",
    "])\n",
    "\n",
    "\n",
    "# 최신 LangChain 방식: RunnableSequence 활용\n",
    "chain = prompt_template | llm\n",
    "\n",
    "# 실행 예시\n",
    "question = \"What is LangChain?\"\n",
    "response = chain.invoke({\"question\": question})\n",
    "\n",
    "print(type(response))\n",
    "print(response)"
   ]
  },
  {
   "cell_type": "code",
   "execution_count": 13,
   "metadata": {},
   "outputs": [
    {
     "name": "stdout",
     "output_type": "stream",
     "text": [
      "LangChain is an open-source, Rust-based framework designed to facilitate the development of decentralized data pipelines and workflows. It enables developers to build scalable, fault-tolerant, and highly modular systems for managing and processing large datasets.\n",
      "\n",
      "The core concept behind LangChain is to provide a standardized interface for interacting with various blockchain platforms, enabling seamless integration of on-chain and off-chain data sources, storage, and processing capabilities. This framework aims to simplify the process of building complex decentralized applications (dApps) by providing a set of pre-built components and tools for tasks such as:\n",
      "\n",
      "1. Data storage and retrieval\n",
      "2. Workflow management\n",
      "3. API gateway and authentication\n",
      "4. Smart contract integration\n",
      "\n",
      "LangChain is built on top of Rust, a systems programming language known for its performance, reliability, and security features, making it an ideal choice for building robust and scalable blockchain applications.\n",
      "\n",
      "By using LangChain, developers can create more efficient, modular, and maintainable decentralized data pipelines, which can help improve the overall user experience and reduce the complexity associated with traditional blockchain development.\n"
     ]
    }
   ],
   "source": [
    "print(response.content)"
   ]
  }
 ],
 "metadata": {
  "kernelspec": {
   "display_name": "base",
   "language": "python",
   "name": "python3"
  },
  "language_info": {
   "codemirror_mode": {
    "name": "ipython",
    "version": 3
   },
   "file_extension": ".py",
   "mimetype": "text/x-python",
   "name": "python",
   "nbconvert_exporter": "python",
   "pygments_lexer": "ipython3",
   "version": "3.12.4"
  }
 },
 "nbformat": 4,
 "nbformat_minor": 4
}
