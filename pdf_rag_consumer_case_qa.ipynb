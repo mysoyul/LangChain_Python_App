{
 "cells": [
  {
   "cell_type": "markdown",
   "id": "41ce62a8-251f-4f9e-b375-e93a5861c3fe",
   "metadata": {},
   "source": [
    "#### PDF RAG - 소비자 분쟁조정 사례집 QA"
   ]
  },
  {
   "cell_type": "markdown",
   "id": "8e038961",
   "metadata": {},
   "source": [
    "## PDF Data"
   ]
  },
  {
   "cell_type": "code",
   "execution_count": 2,
   "id": "9f776630",
   "metadata": {},
   "outputs": [
    {
     "name": "stdout",
     "output_type": "stream",
     "text": [
      "Note: you may need to restart the kernel to use updated packages.\n"
     ]
    }
   ],
   "source": [
    "%pip install -U -q langchain langchain-core langchain_community langchain-ollama langchain_experimental pypdf pydantic"
   ]
  },
  {
   "cell_type": "code",
   "execution_count": 3,
   "id": "16e769cc",
   "metadata": {},
   "outputs": [
    {
     "name": "stdout",
     "output_type": "stream",
     "text": [
      "['data\\\\2018서비스집단분쟁조성사례집.pdf']\n"
     ]
    }
   ],
   "source": [
    "import os\n",
    "from glob import glob\n",
    "\n",
    "pdf_files = glob(os.path.join('data', '*분쟁*.pdf'))\n",
    "len(pdf_files) \n",
    "print(pdf_files)"
   ]
  },
  {
   "cell_type": "code",
   "execution_count": 4,
   "id": "9b47c41e",
   "metadata": {},
   "outputs": [
    {
     "name": "stdout",
     "output_type": "stream",
     "text": [
      "data\\2018서비스집단분쟁조성사례집.pdf\n"
     ]
    }
   ],
   "source": [
    "# pdf 파일 목록\n",
    "PDF_PATH = pdf_files[0]\n",
    "print(PDF_PATH)"
   ]
  },
  {
   "cell_type": "code",
   "execution_count": 5,
   "id": "8c64527d",
   "metadata": {},
   "outputs": [
    {
     "name": "stdout",
     "output_type": "stream",
     "text": [
      "<class 'list'> 200\n"
     ]
    }
   ],
   "source": [
    "# pdf 파일을 읽어서 텍스트로 변환\n",
    "from langchain_community.document_loaders import PyPDFLoader\n",
    "\n",
    "loader = PyPDFLoader(PDF_PATH)\n",
    "data = loader.load()\n",
    "\n",
    "print(type(data), len(data))"
   ]
  },
  {
   "cell_type": "code",
   "execution_count": 6,
   "id": "8febe491",
   "metadata": {},
   "outputs": [
    {
     "name": "stdout",
     "output_type": "stream",
     "text": [
      "'소비자분쟁조정위원회\\n2018\\n서비스·집단 \\n분쟁조정 사례집'\n"
     ]
    }
   ],
   "source": [
    "# 첫번째 페이지의 텍스트 출력\n",
    "from pprint import pprint\n",
    "\n",
    "pprint(data[0].page_content) "
   ]
  },
  {
   "cell_type": "code",
   "execution_count": 7,
   "id": "087c3665",
   "metadata": {},
   "outputs": [
    {
     "name": "stdout",
     "output_type": "stream",
     "text": [
      "{'author': 'PC_A2',\n",
      " 'creationdate': '2019-06-05T11:33:24+09:00',\n",
      " 'creator': 'PScript5.dll Version 5.2.2',\n",
      " 'moddate': '2019-06-05T11:58:31+09:00',\n",
      " 'page': 0,\n",
      " 'page_label': '1',\n",
      " 'producer': 'Acrobat Distiller 9.0.0 (Windows)',\n",
      " 'source': 'data\\\\2018서비스집단분쟁조성사례집.pdf',\n",
      " 'title': '<32303139303630355FBCD2BAF1C0DABFF820BBE7B7CAC1FD5BBCADBAF1BDBA5D5FB3BBC1F65FC6EDC1FDBABB76657231312E687770>',\n",
      " 'total_pages': 200}\n"
     ]
    }
   ],
   "source": [
    "# 첫번째 페이지의 메타데이터 출력\n",
    "pprint(data[0].metadata)  "
   ]
  },
  {
   "cell_type": "code",
   "execution_count": 8,
   "id": "4a5f11f3",
   "metadata": {},
   "outputs": [
    {
     "name": "stdout",
     "output_type": "stream",
     "text": [
      "<class 'str'>\n",
      "('제1장\\n'\n",
      " '일\\n'\n",
      " '반\\n'\n",
      " '분\\n'\n",
      " '쟁\\n'\n",
      " '조\\n'\n",
      " '정\\n'\n",
      " ' 사\\n'\n",
      " '례(\\n'\n",
      " '서\\n'\n",
      " '비\\n'\n",
      " '스)\\n'\n",
      " '제1장 일반분쟁조정 사례(서비스) ● 3\\n'\n",
      " '사\\n'\n",
      " '례 01 사건번호 2018일나565  | 결정일자 2018. 8. 7.\\n'\n",
      " '세탁 후 갑피 마모 및 경화된 가죽 \\n'\n",
      " '운동화에 대한 손해배상 요구\\n'\n",
      " '주 문\\n'\n",
      " '1. 신청인은 2018. 10. 16.까지 피신청인에게 이 사건 제품(제품명 : ○○○○ 가죽 \\n'\n",
      " '운동화, 색상 : 흰색) 1켤레를 반환한다. \\n'\n",
      " '2. 피신청인은 신청인으로부터 제1항 제품을 반환받음과 동시에 신청인에게 71,000원\\n'\n",
      " '을 지급한다.\\n'\n",
      " '이 유\\n'\n",
      " '1. 기초사실\\n'\n",
      " '가. 신청인은 2017. 6. 6. 가죽 운동화(제품명 : ○○○○ 가죽 운동화, 색상 : 흰색, \\n'\n",
      " '이하 ‘이 사건 제품’) 1켤레를 160,200원에 구매하여 착화하였고, 2018. 1. 10. \\n'\n",
      " '피신청인에게 이 사건 제품의 세탁을 의뢰(세탁비 4,000원)하였는데 수령 후 갑피 \\n'\n",
      " '마모 및 경화된 사실(이하 ‘이 사건 현상’)을 확인하여 피신청인이 재세탁을 하였\\n'\n",
      " '으나, 이후에도 경화현상만 다소 개선될 뿐 갑피 마모 현상이 개선되지 않아 피신\\n'\n",
      " '청인에게 손해배상(세탁비 환급 포함)을 요구하였으며, 피신청인은 세탁과실이 없\\n'\n",
      " '다는 이유로 이를 거부하였다.\\n'\n",
      " '나. 한국소비자원 신발제품심의위원회 심의 결과는 다음과 같다.\\n'\n",
      " '   \\n'\n",
      " ' 신청인이 주장하는 갑피 벗겨짐(스크래치 등) 증상은 관찰되나 현 제품 상태만\\n'\n",
      " '으로는 제품 훼손의 원인이 세탁 과정상 발생한 것인지 착화 환경에 따른 문제\\n'\n",
      " '인지 단정하기 어려운바, 판단 불가하다.')\n"
     ]
    }
   ],
   "source": [
    "# 10번째 페이지의 텍스트 출력\n",
    "print(type(data[10].page_content))\n",
    "pprint(data[10].page_content)"
   ]
  },
  {
   "cell_type": "markdown",
   "id": "b622e159",
   "metadata": {},
   "source": [
    "정규식 설명\n",
    "\n",
    "* 사\\s*\\n?\\s*례\\s*\\d+  => \"사례\" 사이에 개행이 있을 수도 있으므로 유연하게 처리\n",
    "* \\s*사건번호\\s*\\d+ => \"사건번호 2018일나565\" 형식 매칭\n",
    "* .*?| => 파이프(`\n",
    "* \\s*결정일자\\s*\\d{4}\\.\\s?\\d{1,2}\\.\\s?\\d{1,2}\\. => 결정일자 \"YYYY. M. D.\" 매칭"
   ]
  },
  {
   "cell_type": "code",
   "execution_count": 9,
   "id": "02dc1cd1",
   "metadata": {},
   "outputs": [
    {
     "data": {
      "text/plain": [
       "['사\\n례 01 사건번호 2018일나565  | 결정일자 2018. 8. 7.']"
      ]
     },
     "execution_count": 9,
     "metadata": {},
     "output_type": "execute_result"
    }
   ],
   "source": [
    "# 10번째 페이지의 텍스트에서 정보 추출\n",
    "import re\n",
    "\n",
    "split_pattern = r'사\\s*\\n?\\s*례\\s*\\d+\\s*사건번호\\s*\\d+.*?\\|\\s*결정일자\\s*\\d{4}\\.\\s?\\d{1,2}\\.\\s?\\d{1,2}\\.'\n",
    "\n",
    "split_text = re.findall(split_pattern, \"\".join(data[10].page_content), flags=re.DOTALL)\n",
    "split_text"
   ]
  },
  {
   "cell_type": "code",
   "execution_count": 10,
   "id": "3e1c11ce",
   "metadata": {},
   "outputs": [
    {
     "name": "stdout",
     "output_type": "stream",
     "text": [
      "<class 'list'> 2\n"
     ]
    }
   ],
   "source": [
    "# split_text가 존재하면 split_pattern으로 분리\n",
    "if split_text:\n",
    "    parts = re.split(split_pattern, \"\".join(data[10].page_content))\n",
    "\n",
    "print(type(parts), len(parts))"
   ]
  },
  {
   "cell_type": "code",
   "execution_count": 11,
   "id": "8ddad4f6",
   "metadata": {},
   "outputs": [
    {
     "data": {
      "text/plain": [
       "'제1장\\n일\\n반\\n분\\n쟁\\n조\\n정\\n 사\\n례(\\n서\\n비\\n스)\\n제1장 일반분쟁조정 사례(서비스) ● 3\\n'"
      ]
     },
     "execution_count": 11,
     "metadata": {},
     "output_type": "execute_result"
    }
   ],
   "source": [
    "# 분리된 텍스트 출력\n",
    "parts[0]"
   ]
  },
  {
   "cell_type": "code",
   "execution_count": 12,
   "id": "38246708",
   "metadata": {},
   "outputs": [
    {
     "data": {
      "text/plain": [
       "'\\n세탁 후 갑피 마모 및 경화된 가죽 \\n운동화에 대한 손해배상 요구\\n주 문\\n1. 신청인은 2018. 10. 16.까지 피신청인에게 이 사건 제품(제품명 : ○○○○ 가죽 \\n운동화, 색상 : 흰색) 1켤레를 반환한다. \\n2. 피신청인은 신청인으로부터 제1항 제품을 반환받음과 동시에 신청인에게 71,000원\\n을 지급한다.\\n이 유\\n1. 기초사실\\n가. 신청인은 2017. 6. 6. 가죽 운동화(제품명 : ○○○○ 가죽 운동화, 색상 : 흰색, \\n이하 ‘이 사건 제품’) 1켤레를 160,200원에 구매하여 착화하였고, 2018. 1. 10. \\n피신청인에게 이 사건 제품의 세탁을 의뢰(세탁비 4,000원)하였는데 수령 후 갑피 \\n마모 및 경화된 사실(이하 ‘이 사건 현상’)을 확인하여 피신청인이 재세탁을 하였\\n으나, 이후에도 경화현상만 다소 개선될 뿐 갑피 마모 현상이 개선되지 않아 피신\\n청인에게 손해배상(세탁비 환급 포함)을 요구하였으며, 피신청인은 세탁과실이 없\\n다는 이유로 이를 거부하였다.\\n나. 한국소비자원 신발제품심의위원회 심의 결과는 다음과 같다.\\n   \\n 신청인이 주장하는 갑피 벗겨짐(스크래치 등) 증상은 관찰되나 현 제품 상태만\\n으로는 제품 훼손의 원인이 세탁 과정상 발생한 것인지 착화 환경에 따른 문제\\n인지 단정하기 어려운바, 판단 불가하다.'"
      ]
     },
     "execution_count": 12,
     "metadata": {},
     "output_type": "execute_result"
    }
   ],
   "source": [
    "# 분리된 텍스트 출력\n",
    "parts[1]"
   ]
  },
  {
   "cell_type": "code",
   "execution_count": 13,
   "id": "e6ac0379",
   "metadata": {},
   "outputs": [
    {
     "name": "stdout",
     "output_type": "stream",
     "text": [
      "<class 'tuple'> (38, 42)\n",
      "38\n"
     ]
    }
   ],
   "source": [
    "# 특정 문자열의 위치 찾기\n",
    "\n",
    "print(type(re.search(r'주 문\\n', parts[1]).span()), re.search(r'주 문\\n', parts[1]).span())\n",
    "print(re.search(r'주 문\\n', parts[1]).span()[0])"
   ]
  },
  {
   "cell_type": "code",
   "execution_count": 14,
   "id": "6d83d55a",
   "metadata": {},
   "outputs": [
    {
     "data": {
      "text/plain": [
       "'세탁 후 갑피 마모 및 경화된 가죽 \\n운동화에 대한 손해배상 요구'"
      ]
     },
     "execution_count": 14,
     "metadata": {},
     "output_type": "execute_result"
    }
   ],
   "source": [
    "\n",
    "# [:38]를 사용하여 \"주 문\\n\" 이전 부분만 추출하게 됨.\n",
    "str_index = re.search(r'주 문\\n', parts[1]).span()[0]\n",
    "title = parts[1][:str_index].strip()\n",
    "title"
   ]
  },
  {
   "cell_type": "code",
   "execution_count": 15,
   "id": "45628cd2",
   "metadata": {},
   "outputs": [
    {
     "data": {
      "text/plain": [
       "'주 문\\n1. 신청인은 2018. 10. 16.까지 피신청인에게 이 사건 제품(제품명 : ○○○○ 가죽 \\n운동화, 색상 : 흰색) 1켤레를 반환한다. \\n2. 피신청인은 신청인으로부터 제1항 제품을 반환받음과 동시에 신청인에게 71,000원\\n을 지급한다.\\n이 유\\n1. 기초사실\\n가. 신청인은 2017. 6. 6. 가죽 운동화(제품명 : ○○○○ 가죽 운동화, 색상 : 흰색, \\n이하 ‘이 사건 제품’) 1켤레를 160,200원에 구매하여 착화하였고, 2018. 1. 10. \\n피신청인에게 이 사건 제품의 세탁을 의뢰(세탁비 4,000원)하였는데 수령 후 갑피 \\n마모 및 경화된 사실(이하 ‘이 사건 현상’)을 확인하여 피신청인이 재세탁을 하였\\n으나, 이후에도 경화현상만 다소 개선될 뿐 갑피 마모 현상이 개선되지 않아 피신\\n청인에게 손해배상(세탁비 환급 포함)을 요구하였으며, 피신청인은 세탁과실이 없\\n다는 이유로 이를 거부하였다.\\n나. 한국소비자원 신발제품심의위원회 심의 결과는 다음과 같다.\\n   \\n 신청인이 주장하는 갑피 벗겨짐(스크래치 등) 증상은 관찰되나 현 제품 상태만\\n으로는 제품 훼손의 원인이 세탁 과정상 발생한 것인지 착화 환경에 따른 문제\\n인지 단정하기 어려운바, 판단 불가하다.'"
      ]
     },
     "execution_count": 15,
     "metadata": {},
     "output_type": "execute_result"
    }
   ],
   "source": [
    "# 내용 추출 \"주 문\\n\" 이후 부분만 추출\n",
    "content = parts[1][str_index:]\n",
    "content"
   ]
  },
  {
   "cell_type": "code",
   "execution_count": 16,
   "id": "d477ba1f",
   "metadata": {},
   "outputs": [
    {
     "data": {
      "text/plain": [
       "'사\\n례 01 사건번호 2018일나565  | 결정일자 2018. 8. 7.'"
      ]
     },
     "execution_count": 16,
     "metadata": {},
     "output_type": "execute_result"
    }
   ],
   "source": [
    "# 정규식으로 추출한 구분 문자열에서 사례 번호 추출\n",
    "split_text[0]"
   ]
  },
  {
   "cell_type": "code",
   "execution_count": 17,
   "id": "0f5b7714",
   "metadata": {},
   "outputs": [
    {
     "data": {
      "text/plain": [
       "'01'"
      ]
     },
     "execution_count": 17,
     "metadata": {},
     "output_type": "execute_result"
    }
   ],
   "source": [
    "re.findall(r'례\\s?(\\d+)\\s?사건번호', split_text[0])[0]"
   ]
  },
  {
   "cell_type": "code",
   "execution_count": 18,
   "id": "74cfce87",
   "metadata": {},
   "outputs": [],
   "source": [
    "# 사건에 대한 메타데이터 추출하는 Pydantic 스키마 정의\n",
    "from pydantic import BaseModel,Field\n",
    "\n",
    "# Pydantic 모델 수정 (required 제거)\n",
    "class Case(BaseModel):\n",
    "    case_number: str = Field(..., description=\"The number of the case\")\n",
    "    case_date: str = Field(..., description=\"The date when the case occurred (year, month, day)\")    "
   ]
  },
  {
   "cell_type": "code",
   "execution_count": 21,
   "id": "f50ca57e",
   "metadata": {},
   "outputs": [
    {
     "name": "stdout",
     "output_type": "stream",
     "text": [
      "case_number='2018일나565' case_date='2018. 8. 7.'\n"
     ]
    }
   ],
   "source": [
    "# Extraction chain 구성\n",
    "from langchain_core.prompts import PromptTemplate\n",
    "from langchain_experimental.llms.ollama_functions import OllamaFunctions\n",
    "#from langchain_ollama import ChatOllama\n",
    "\n",
    "# 템플릿 정의\n",
    "prompt = PromptTemplate.from_template(\n",
    "    \"\"\"Extract the following fields from the given text and return a JSON object **without any extra nesting**.\n",
    "\n",
    "TEXT: {text}\n",
    "\n",
    "Return a JSON object with the following structure:\n",
    "\n",
    "```json\n",
    "{{\n",
    "    \"case_number\": \"2018일나565\",\n",
    "    \"case_date\": \"2018. 8. 7.\"\n",
    "}}\"\"\"\n",
    ")\n",
    "\n",
    "# 처리할   텍스트\n",
    "text = split_text[0]\n",
    "\n",
    "# OllamaFunctions 초기화\n",
    "llm = OllamaFunctions(model=\"llama3\", format=\"json\", temperature=0)\n",
    "#llm = ChatOllama(model=\"llama3\", format=\"json\", temperature=0)\n",
    "runnable = prompt | llm.with_structured_output(schema=Case)\n",
    "\n",
    "# 템플릿 실행\n",
    "raw_response  = runnable.invoke({\"text\": text})\n",
    "\n",
    "# 응답 처리\n",
    "if \"properties\" in raw_response: \n",
    "    clean_response = raw_response[\"properties\"] \n",
    "else: \n",
    "    clean_response = raw_response\n",
    "\n",
    "# clean_response가 이미 Case 객체인지 확인\n",
    "if isinstance(clean_response, Case):\n",
    "    parsed_response = clean_response\n",
    "else:\n",
    "    parsed_response = Case(**clean_response)\n",
    "\n",
    "print(parsed_response)\n",
    "\n"
   ]
  },
  {
   "cell_type": "code",
   "execution_count": 22,
   "id": "e8fb417b",
   "metadata": {},
   "outputs": [
    {
     "data": {
      "text/plain": [
       "{'case_number': '2018일나565', 'case_date': '2018. 8. 7.'}"
      ]
     },
     "execution_count": 22,
     "metadata": {},
     "output_type": "execute_result"
    }
   ],
   "source": [
    "dict(parsed_response)"
   ]
  },
  {
   "cell_type": "code",
   "execution_count": 23,
   "id": "0ea09a1d",
   "metadata": {},
   "outputs": [
    {
     "data": {
      "text/plain": [
       "'2018 서비스·집단 분쟁조정사례집\\n인 쇄 / 2019년 5월\\n발 행 / 2019년 5월\\n발행인 / 한국소비자원 원장 이 희 숙\\n편집인 / 소비자분쟁조정위원회 위원장 \\n제 작 / 소비자분쟁조정위원회 분쟁조정사무국\\n디자인․인쇄 / (사)아름다운사람들복지회\\n발행처 / 한국소비자원 소비자분쟁조정위원회\\n\\U000f02b2\\U000f02b7\\U000f02b7\\U000f02b3\\U000f02b8\\n충청북도 음성군 맹동면 용두로 54\\n전 화 / 043-880-5500'"
      ]
     },
     "execution_count": 23,
     "metadata": {},
     "output_type": "execute_result"
    }
   ],
   "source": [
    "data[-2].page_content"
   ]
  },
  {
   "cell_type": "code",
   "execution_count": 24,
   "id": "5a8c1477",
   "metadata": {},
   "outputs": [
    {
     "data": {
      "text/plain": [
       "188"
      ]
     },
     "execution_count": 24,
     "metadata": {},
     "output_type": "execute_result"
    }
   ],
   "source": [
    "# 문서 객체를 페이지별로 순회하며 사례 번호 등 메타데이터를 추출하고 업데이트\n",
    "pdf_docs = []\n",
    "case_metadata = {}\n",
    "split_pattern = r'사\\s*\\n?\\s*례\\s*\\d+\\s*사건번호\\s*\\d+.*?\\|\\s*결정일자\\s*\\d{4}\\.\\s?\\d{1,2}\\.\\s?\\d{1,2}\\.'\n",
    "\n",
    "for doc in data[10:-2]:\n",
    "    split_text = re.findall(split_pattern, \"\".join(doc.page_content))\n",
    "    if split_text:\n",
    "\n",
    "        # case id\n",
    "        case_metadata['case_id'] = re.findall(r'례\\s?(\\d+)\\s?사건번호', split_text[0])[0]\n",
    "\n",
    "        parts = re.split(split_pattern, \"\".join(doc.page_content))\n",
    "\n",
    "        if re.search(r'주 문\\n', parts[1]):\n",
    "            str_index = re.search(r'주 문\\n', parts[1]).span()[0]\n",
    "            # Add title to metadata\n",
    "            case_metadata['title'] = parts[1][:str_index].replace('\\n', '').strip()\n",
    "                    \n",
    "            # Update content\n",
    "            doc.page_content = parts[1][str_index:].strip()\n",
    "        else:\n",
    "            case_metadata['title'] = ''\n",
    "            \n",
    "        # Extract metadata from text\n",
    "        i = 0\n",
    "        while i < 10:\n",
    "            try:\n",
    "                response = runnable.invoke({\"text\": split_text[0]})\n",
    "                for k, v in dict(response).items():\n",
    "                    case_metadata[k] = v.replace(\"\\n\", \"\").replace(\" \", \"\")\n",
    "                break\n",
    "            except:\n",
    "                i += 1\n",
    "                continue\n",
    "\n",
    "        # Update metadata \n",
    "        doc.metadata.update(case_metadata)\n",
    "\n",
    "        # Append to split_docs\n",
    "        pdf_docs.append(doc)\n",
    "\n",
    "    else:\n",
    "        # Update metadata \n",
    "        doc.metadata.update(case_metadata) \n",
    "\n",
    "        # Append to split_docs\n",
    "        pdf_docs.append(doc)\n",
    "\n",
    "len(pdf_docs)"
   ]
  },
  {
   "cell_type": "code",
   "execution_count": 25,
   "id": "b07eacae",
   "metadata": {},
   "outputs": [
    {
     "name": "stdout",
     "output_type": "stream",
     "text": [
      "('주 문\\n'\n",
      " '1. 신청인은 2018. 10. 16.까지 피신청인에게 이 사건 제품(제품명 : ○○○○ 가죽 \\n'\n",
      " '운동화, 색상 : 흰색) 1켤레를 반환한다. \\n'\n",
      " '2. 피신청인은 신청인으로부터 제1항 제품을 반환받음과 동시에 신청인에게 71,000원\\n'\n",
      " '을 지급한다.\\n'\n",
      " '이 유\\n'\n",
      " '1. 기초사실\\n'\n",
      " '가. 신청인은 2017. 6. 6. 가죽 운동화(제품명 : ○○○○ 가죽 운동화, 색상 : 흰색, \\n'\n",
      " '이하 ‘이 사건 제품’) 1켤레를 160,200원에 구매하여 착화하였고, 2018. 1. 10. \\n'\n",
      " '피신청인에게 이 사건 제품의 세탁을 의뢰(세탁비 4,000원)하였는데 수령 후 갑피 \\n'\n",
      " '마모 및 경화된 사실(이하 ‘이 사건 현상’)을 확인하여 피신청인이 재세탁을 하였\\n'\n",
      " '으나, 이후에도 경화현상만 다소 개선될 뿐 갑피 마모 현상이 개선되지 않아 피신\\n'\n",
      " '청인에게 손해배상(세탁비 환급 포함)을 요구하였으며, 피신청인은 세탁과실이 없\\n'\n",
      " '다는 이유로 이를 거부하였다.\\n'\n",
      " '나. 한국소비자원 신발제품심의위원회 심의 결과는 다음과 같다.\\n'\n",
      " '   \\n'\n",
      " ' 신청인이 주장하는 갑피 벗겨짐(스크래치 등) 증상은 관찰되나 현 제품 상태만\\n'\n",
      " '으로는 제품 훼손의 원인이 세탁 과정상 발생한 것인지 착화 환경에 따른 문제\\n'\n",
      " '인지 단정하기 어려운바, 판단 불가하다.')\n"
     ]
    }
   ],
   "source": [
    "pprint(pdf_docs[0].page_content)"
   ]
  },
  {
   "cell_type": "code",
   "execution_count": 26,
   "id": "94d99a4f",
   "metadata": {},
   "outputs": [
    {
     "name": "stdout",
     "output_type": "stream",
     "text": [
      "{'author': 'PC_A2',\n",
      " 'case_date': '2018.8.7.',\n",
      " 'case_id': '01',\n",
      " 'case_number': '2018일나565',\n",
      " 'creationdate': '2019-06-05T11:33:24+09:00',\n",
      " 'creator': 'PScript5.dll Version 5.2.2',\n",
      " 'moddate': '2019-06-05T11:58:31+09:00',\n",
      " 'page': 10,\n",
      " 'page_label': '11',\n",
      " 'producer': 'Acrobat Distiller 9.0.0 (Windows)',\n",
      " 'source': 'data\\\\2018서비스집단분쟁조성사례집.pdf',\n",
      " 'title': '세탁 후 갑피 마모 및 경화된 가죽 운동화에 대한 손해배상 요구',\n",
      " 'total_pages': 200}\n"
     ]
    }
   ],
   "source": [
    "pprint(pdf_docs[0].metadata)"
   ]
  },
  {
   "cell_type": "markdown",
   "id": "a26da56f",
   "metadata": {},
   "source": [
    "## Embedding"
   ]
  },
  {
   "cell_type": "code",
   "execution_count": 27,
   "id": "7059c741",
   "metadata": {},
   "outputs": [
    {
     "name": "stderr",
     "output_type": "stream",
     "text": [
      "C:\\Users\\vega2\\AppData\\Local\\Temp\\ipykernel_26764\\1172022402.py:4: LangChainDeprecationWarning: The class `HuggingFaceEmbeddings` was deprecated in LangChain 0.2.2 and will be removed in 1.0. An updated version of the class exists in the :class:`~langchain-huggingface package and should be used instead. To use it run `pip install -U :class:`~langchain-huggingface` and import as `from :class:`~langchain_huggingface import HuggingFaceEmbeddings``.\n",
      "  embeddings_model = HuggingFaceEmbeddings(\n"
     ]
    },
    {
     "data": {
      "application/vnd.jupyter.widget-view+json": {
       "model_id": "fe59828c975547b0a13e96d8375f24ec",
       "version_major": 2,
       "version_minor": 0
      },
      "text/plain": [
       "modules.json:   0%|          | 0.00/229 [00:00<?, ?B/s]"
      ]
     },
     "metadata": {},
     "output_type": "display_data"
    },
    {
     "name": "stderr",
     "output_type": "stream",
     "text": [
      "c:\\Users\\vega2\\anaconda3\\Lib\\site-packages\\huggingface_hub\\file_download.py:140: UserWarning: `huggingface_hub` cache-system uses symlinks by default to efficiently store duplicated files but your machine does not support them in C:\\Users\\vega2\\.cache\\huggingface\\hub\\models--snunlp--KR-SBERT-V40K-klueNLI-augSTS. Caching files will still work but in a degraded version that might require more space on your disk. This warning can be disabled by setting the `HF_HUB_DISABLE_SYMLINKS_WARNING` environment variable. For more details, see https://huggingface.co/docs/huggingface_hub/how-to-cache#limitations.\n",
      "To support symlinks on Windows, you either need to activate Developer Mode or to run Python as an administrator. In order to activate developer mode, see this article: https://docs.microsoft.com/en-us/windows/apps/get-started/enable-your-device-for-development\n",
      "  warnings.warn(message)\n"
     ]
    },
    {
     "data": {
      "application/vnd.jupyter.widget-view+json": {
       "model_id": "3c908f5976a94f7f841f182f591f8bd4",
       "version_major": 2,
       "version_minor": 0
      },
      "text/plain": [
       "config_sentence_transformers.json:   0%|          | 0.00/124 [00:00<?, ?B/s]"
      ]
     },
     "metadata": {},
     "output_type": "display_data"
    },
    {
     "data": {
      "application/vnd.jupyter.widget-view+json": {
       "model_id": "51d9958e54f445aaa0eb4ce51ab0bbc8",
       "version_major": 2,
       "version_minor": 0
      },
      "text/plain": [
       "README.md:   0%|          | 0.00/4.02k [00:00<?, ?B/s]"
      ]
     },
     "metadata": {},
     "output_type": "display_data"
    },
    {
     "data": {
      "application/vnd.jupyter.widget-view+json": {
       "model_id": "2ef1c618bb544163a55d9e1b8c6af3f3",
       "version_major": 2,
       "version_minor": 0
      },
      "text/plain": [
       "sentence_bert_config.json:   0%|          | 0.00/53.0 [00:00<?, ?B/s]"
      ]
     },
     "metadata": {},
     "output_type": "display_data"
    },
    {
     "data": {
      "application/vnd.jupyter.widget-view+json": {
       "model_id": "24fd301352f54026be8371f42534b1b6",
       "version_major": 2,
       "version_minor": 0
      },
      "text/plain": [
       "config.json:   0%|          | 0.00/707 [00:00<?, ?B/s]"
      ]
     },
     "metadata": {},
     "output_type": "display_data"
    },
    {
     "data": {
      "application/vnd.jupyter.widget-view+json": {
       "model_id": "5d26dfda213c48a4a475ac3ed8183ecc",
       "version_major": 2,
       "version_minor": 0
      },
      "text/plain": [
       "pytorch_model.bin:   0%|          | 0.00/467M [00:00<?, ?B/s]"
      ]
     },
     "metadata": {},
     "output_type": "display_data"
    },
    {
     "data": {
      "application/vnd.jupyter.widget-view+json": {
       "model_id": "52d3ea8bc2474882918c168c10914e0f",
       "version_major": 2,
       "version_minor": 0
      },
      "text/plain": [
       "tokenizer_config.json:   0%|          | 0.00/394 [00:00<?, ?B/s]"
      ]
     },
     "metadata": {},
     "output_type": "display_data"
    },
    {
     "data": {
      "application/vnd.jupyter.widget-view+json": {
       "model_id": "eabdc11dc23341418169f706aaff4171",
       "version_major": 2,
       "version_minor": 0
      },
      "text/plain": [
       "vocab.txt:   0%|          | 0.00/336k [00:00<?, ?B/s]"
      ]
     },
     "metadata": {},
     "output_type": "display_data"
    },
    {
     "data": {
      "application/vnd.jupyter.widget-view+json": {
       "model_id": "ea2161ac2cfd4877a79c3a12425a8a38",
       "version_major": 2,
       "version_minor": 0
      },
      "text/plain": [
       "model.safetensors:   0%|          | 0.00/467M [00:00<?, ?B/s]"
      ]
     },
     "metadata": {},
     "output_type": "display_data"
    },
    {
     "data": {
      "application/vnd.jupyter.widget-view+json": {
       "model_id": "d905b681244f465e89382ad809e7f070",
       "version_major": 2,
       "version_minor": 0
      },
      "text/plain": [
       "tokenizer.json:   0%|          | 0.00/967k [00:00<?, ?B/s]"
      ]
     },
     "metadata": {},
     "output_type": "display_data"
    },
    {
     "data": {
      "application/vnd.jupyter.widget-view+json": {
       "model_id": "51dc626008b94bd592236aa2e779f2da",
       "version_major": 2,
       "version_minor": 0
      },
      "text/plain": [
       "special_tokens_map.json:   0%|          | 0.00/112 [00:00<?, ?B/s]"
      ]
     },
     "metadata": {},
     "output_type": "display_data"
    },
    {
     "data": {
      "application/vnd.jupyter.widget-view+json": {
       "model_id": "e434b86851494be09bded98d348a1d53",
       "version_major": 2,
       "version_minor": 0
      },
      "text/plain": [
       "config.json:   0%|          | 0.00/190 [00:00<?, ?B/s]"
      ]
     },
     "metadata": {},
     "output_type": "display_data"
    }
   ],
   "source": [
    "# HugoingFace Embeddings를 다운로드\n",
    "from langchain.embeddings import HuggingFaceEmbeddings\n",
    "\n",
    "embeddings_model = HuggingFaceEmbeddings(\n",
    "    model_name=\"snunlp/KR-SBERT-V40K-klueNLI-augSTS\",\n",
    ")"
   ]
  },
  {
   "cell_type": "code",
   "execution_count": 28,
   "id": "54c4d908",
   "metadata": {},
   "outputs": [
    {
     "name": "stdout",
     "output_type": "stream",
     "text": [
      "5 768\n"
     ]
    }
   ],
   "source": [
    "# 문서를 임베딩\n",
    "embeddings = embeddings_model.embed_documents(\n",
    "    [\n",
    "        \"온라인 쇼핑몰에서 주문한 제품이 불량품으로 배송되었습니다. 이에 대한 법적 책임은 누구에게 있나요?\",\n",
    "        \"구입한 전자제품이 고장나서 환불을 요청했지만 거부당했습니다. 피해 보상을 받을 수 있나요?\",\n",
    "        \"호텔 예약 후 도착했는데 예약이 취소되었다고 했습니다. 이에 대한 대응 방법은 무엇인가요?\",\n",
    "        \"자동차 수리 후 동일한 문제가 재발했습니다. 수리업체에 대한 법적 조치를 취할 수 있나요?\",\n",
    "        \"항공편이 지연되어 중요한 일정을 놓쳤습니다. 이에 대한 피해 보상을 받을 수 있나요?\"\n",
    "    ]\n",
    ")\n",
    "print(len(embeddings), len(embeddings[0]))"
   ]
  },
  {
   "cell_type": "code",
   "execution_count": 29,
   "id": "4357bce1",
   "metadata": {},
   "outputs": [
    {
     "name": "stdout",
     "output_type": "stream",
     "text": [
      "[0.7448060512542725, -0.2612636089324951, -0.2569149136543274, 0.12548893690109253, -0.025863895192742348]\n"
     ]
    }
   ],
   "source": [
    "embedded_query = embeddings_model.embed_query(\"에어컨 제품 불량에 대해서 보상을 받을 수 있을까요?\")\n",
    "print(embedded_query[:5])"
   ]
  },
  {
   "cell_type": "code",
   "execution_count": 30,
   "id": "baf0cb96",
   "metadata": {},
   "outputs": [
    {
     "name": "stdout",
     "output_type": "stream",
     "text": [
      "0.4530433066559124\n",
      "0.6305271688030667\n",
      "0.38549627935161485\n",
      "0.4729425910947917\n",
      "0.3779668033493392\n"
     ]
    }
   ],
   "source": [
    "# 코사인 유사도\n",
    "import numpy as np\n",
    "from numpy import dot\n",
    "from numpy.linalg import norm\n",
    "\n",
    "def cos_sim(A, B):\n",
    "  return dot(A, B)/(norm(A)*norm(B))\n",
    "\n",
    "# 쿼리와 문서 간의 코사인 유사도 계산\n",
    "for embedding in embeddings:\n",
    "    print(cos_sim(embedding, embedded_query))"
   ]
  },
  {
   "cell_type": "markdown",
   "id": "ae51fed8",
   "metadata": {},
   "source": [
    "## Chunking"
   ]
  },
  {
   "cell_type": "code",
   "execution_count": 31,
   "id": "33c991d1",
   "metadata": {},
   "outputs": [
    {
     "name": "stdout",
     "output_type": "stream",
     "text": [
      "29 12\n",
      "[2, 19224, 8918, 20035, 5051, 9665, 22898, 9622, 3317, 21981, 35, 3]\n"
     ]
    }
   ],
   "source": [
    "# HugoingFace Embedding 모델의 Tokenizer를 사용하여 토큰화\n",
    "from transformers import AutoTokenizer\n",
    "\n",
    "tokenizer = AutoTokenizer.from_pretrained('snunlp/KR-SBERT-V40K-klueNLI-augSTS')\n",
    "\n",
    "text = \"에어컨 제품 불량에 대해서 보상을 받을 수 있을까요?\"\n",
    "encoded = tokenizer.encode(text)\n",
    "print(len(text), len(encoded))\n",
    "print(encoded)"
   ]
  },
  {
   "cell_type": "code",
   "execution_count": 32,
   "id": "f94e170f",
   "metadata": {},
   "outputs": [
    {
     "name": "stdout",
     "output_type": "stream",
     "text": [
      "929\n",
      "page_content='주 문\n",
      "1. 신청인은 2018. 10. 16.까지 피신청인에게 이 사건 제품(제품명 : ○○○○ 가죽 \n",
      "운동화, 색상 : 흰색) 1켤레를 반환한다. \n",
      "2. 피신청인은 신청인으로부터 제1항 제품을 반환받음과 동시에 신청인에게 71,000원\n",
      "을 지급한다.\n",
      "이 유\n",
      "1. 기초사실' metadata={'producer': 'Acrobat Distiller 9.0.0 (Windows)', 'creator': 'PScript5.dll Version 5.2.2', 'creationdate': '2019-06-05T11:33:24+09:00', 'author': 'PC_A2', 'moddate': '2019-06-05T11:58:31+09:00', 'title': '세탁 후 갑피 마모 및 경화된 가죽 운동화에 대한 손해배상 요구', 'source': 'data\\\\2018서비스집단분쟁조성사례집.pdf', 'total_pages': 200, 'page': 10, 'page_label': '11', 'case_id': '01', 'case_number': '2018일나565', 'case_date': '2018.8.7.'}\n"
     ]
    }
   ],
   "source": [
    "# Token 수를 기준으ㄹ 문서를 청크 단위로 분할\n",
    "from langchain_text_splitters import RecursiveCharacterTextSplitter\n",
    "\n",
    "text_splitter = RecursiveCharacterTextSplitter.from_huggingface_tokenizer(\n",
    "    tokenizer = tokenizer,\n",
    "    chunk_size = 120,\n",
    "    chunk_overlap  = 10,\n",
    ")\n",
    "\n",
    "split_docs = text_splitter.split_documents(pdf_docs)\n",
    "print(len(split_docs))\n",
    "print(split_docs[0])"
   ]
  },
  {
   "cell_type": "code",
   "execution_count": 33,
   "id": "7fa49d34",
   "metadata": {},
   "outputs": [
    {
     "data": {
      "text/plain": [
       "(152, 71)"
      ]
     },
     "execution_count": 33,
     "metadata": {},
     "output_type": "execute_result"
    }
   ],
   "source": [
    "sample_text = split_docs[0].page_content\n",
    "sample_encoded = tokenizer.encode(sample_text)\n",
    "len(sample_text), len(sample_encoded)"
   ]
  },
  {
   "cell_type": "code",
   "execution_count": 34,
   "id": "bf733259",
   "metadata": {},
   "outputs": [
    {
     "name": "stdout",
     "output_type": "stream",
     "text": [
      "71\n",
      "('주 문\\n'\n",
      " '1. 신청인은 2018. 10. 16.까지 피신청인에게 이 사건 제품(제품명 : ○○○○ 가죽 \\n'\n",
      " '운동화, 색상 : 흰색) 1켤레를 반환한다. \\n'\n",
      " '2. 피신청인은 신청인으로부터 제1항 제품을 반환받음과 동시에 신청인에게 71,000원\\n'\n",
      " '을 지급한다.\\n'\n",
      " '이 유\\n'\n",
      " '1. 기초사실')\n"
     ]
    }
   ],
   "source": [
    "print(len(tokenizer.encode(split_docs[0].page_content)))\n",
    "pprint(split_docs[0].page_content)"
   ]
  },
  {
   "cell_type": "code",
   "execution_count": 35,
   "id": "dfcdc407",
   "metadata": {},
   "outputs": [
    {
     "name": "stdout",
     "output_type": "stream",
     "text": [
      "83\n",
      "('1. 기초사실\\n'\n",
      " '가. 신청인은 2017. 6. 6. 가죽 운동화(제품명 : ○○○○ 가죽 운동화, 색상 : 흰색, \\n'\n",
      " '이하 ‘이 사건 제품’) 1켤레를 160,200원에 구매하여 착화하였고, 2018. 1. 10. \\n'\n",
      " '피신청인에게 이 사건 제품의 세탁을 의뢰(세탁비 4,000원)하였는데 수령 후 갑피')\n"
     ]
    }
   ],
   "source": [
    "print(len(tokenizer.encode(split_docs[1].page_content)))\n",
    "pprint(split_docs[1].page_content)"
   ]
  },
  {
   "cell_type": "code",
   "execution_count": 36,
   "id": "b8967cb1",
   "metadata": {},
   "outputs": [
    {
     "name": "stdout",
     "output_type": "stream",
     "text": [
      "1. 기초사실 가. 신청인은 2017. 6. 6. 가죽 운동화(제품명 : ○○○○ 가죽 운동화, 색상 : 흰색,  이하 ‘이 사건 제품’) 1켤레를 160,200원에 구매하여 착화하였고, 2018. 1. 10.  피신청인에게 이 사건 제품의 세탁을 의뢰(세탁비 4,000원)하였는데 수령 후 갑피\n"
     ]
    }
   ],
   "source": [
    "# 마침표 뒤에 나오는 줄바꿈 문자는 그대로 두고 나머지 줄바꿈 문자만 제거\n",
    "result = re.sub(r'(?<!\\.)\\n', ' ', split_docs[1].page_content)\n",
    "print(result)"
   ]
  },
  {
   "cell_type": "code",
   "execution_count": 37,
   "id": "4131da02",
   "metadata": {},
   "outputs": [
    {
     "name": "stdout",
     "output_type": "stream",
     "text": [
      "{'author': 'PC_A2',\n",
      " 'case_date': '2018.8.7.',\n",
      " 'case_id': '01',\n",
      " 'case_number': '2018일나565',\n",
      " 'creationdate': '2019-06-05T11:33:24+09:00',\n",
      " 'creator': 'PScript5.dll Version 5.2.2',\n",
      " 'moddate': '2019-06-05T11:58:31+09:00',\n",
      " 'page': 10,\n",
      " 'page_label': '11',\n",
      " 'producer': 'Acrobat Distiller 9.0.0 (Windows)',\n",
      " 'source': 'data\\\\2018서비스집단분쟁조성사례집.pdf',\n",
      " 'title': '세탁 후 갑피 마모 및 경화된 가죽 운동화에 대한 손해배상 요구',\n",
      " 'total_pages': 200}\n"
     ]
    }
   ],
   "source": [
    "pprint(split_docs[0].metadata)"
   ]
  },
  {
   "cell_type": "code",
   "execution_count": 38,
   "id": "799aec4b",
   "metadata": {},
   "outputs": [
    {
     "name": "stdout",
     "output_type": "stream",
     "text": [
      "{'author': 'PC_A2',\n",
      " 'case_date': '2018.8.7.',\n",
      " 'case_id': '01',\n",
      " 'case_number': '2018일나565',\n",
      " 'creationdate': '2019-06-05T11:33:24+09:00',\n",
      " 'creator': 'PScript5.dll Version 5.2.2',\n",
      " 'moddate': '2019-06-05T11:58:31+09:00',\n",
      " 'page': 10,\n",
      " 'page_label': '11',\n",
      " 'producer': 'Acrobat Distiller 9.0.0 (Windows)',\n",
      " 'source': 'data\\\\2018서비스집단분쟁조성사례집.pdf',\n",
      " 'title': '세탁 후 갑피 마모 및 경화된 가죽 운동화에 대한 손해배상 요구',\n",
      " 'total_pages': 200}\n"
     ]
    }
   ],
   "source": [
    "pprint(split_docs[1].metadata)"
   ]
  },
  {
   "cell_type": "code",
   "execution_count": 39,
   "id": "3a1a4086",
   "metadata": {},
   "outputs": [
    {
     "data": {
      "text/plain": [
       "\"### 이 사건은 '세탁 후 갑피 마모 및 경화된 가죽 운동화에 대한 손해배상 요구'에 대한 사례입니다.\""
      ]
     },
     "execution_count": 39,
     "metadata": {},
     "output_type": "execute_result"
    }
   ],
   "source": [
    "f\"### 이 사건은 '{split_docs[1].metadata['title']}'에 대한 사례입니다.\""
   ]
  },
  {
   "cell_type": "markdown",
   "id": "f38bc41b",
   "metadata": {},
   "source": [
    "# Indexing"
   ]
  },
  {
   "cell_type": "code",
   "execution_count": 40,
   "id": "a557396b",
   "metadata": {},
   "outputs": [
    {
     "name": "stdout",
     "output_type": "stream",
     "text": [
      "### 이 사건은 '세탁 후 갑피 마모 및 경화된 가죽 운동화에 대한 손해배상 요구'에 대한 사례입니다.\n",
      "\n",
      "주 문 1. 신청인은 2018. 10. 16.까지 피신청인에게 이 사건 제품(제품명 : ○○○○ 가죽  운동화, 색상 : 흰색) 1켤레를 반환한다.  2. 피신청인은 신청인으로부터 제1항 제품을 반환받음과 동시에 신청인에게 71,000원 을 지급한다.\n",
      "이 유 1. 기초사실\n"
     ]
    }
   ],
   "source": [
    "final_docs = []\n",
    "for doc in split_docs:\n",
    "    doc.page_content = f\"### 이 사건은 '{doc.metadata['title']}'에 대한 사례입니다.\\n\\n\" + \\\n",
    "    re.sub(r'(?<!\\.)\\n', ' ', doc.page_content)\n",
    "    final_docs.append(doc)\n",
    "\n",
    "print(final_docs[0].page_content)"
   ]
  },
  {
   "cell_type": "code",
   "execution_count": 41,
   "id": "8073e9ec",
   "metadata": {},
   "outputs": [
    {
     "name": "stdout",
     "output_type": "stream",
     "text": [
      "### 이 사건은 '세탁 후 갑피 마모 및 경화된 가죽 운동화에 대한 손해배상 요구'에 대한 사례입니다.\n",
      "\n",
      "1. 기초사실 가. 신청인은 2017. 6. 6. 가죽 운동화(제품명 : ○○○○ 가죽 운동화, 색상 : 흰색,  이하 ‘이 사건 제품’) 1켤레를 160,200원에 구매하여 착화하였고, 2018. 1. 10.  피신청인에게 이 사건 제품의 세탁을 의뢰(세탁비 4,000원)하였는데 수령 후 갑피\n"
     ]
    }
   ],
   "source": [
    "print(final_docs[1].page_content)"
   ]
  },
  {
   "cell_type": "code",
   "execution_count": 42,
   "id": "e4a0359d",
   "metadata": {},
   "outputs": [],
   "source": [
    "from langchain_community.vectorstores import Chroma\n",
    "\n",
    "vectorstore = Chroma.from_documents(documents=final_docs, \n",
    "                                    embedding=embeddings_model, \n",
    "                                    collection_name=\"consumer_case_qa\",\n",
    "                                    persist_directory=\"./db/chroma_db\")"
   ]
  },
  {
   "cell_type": "code",
   "execution_count": 43,
   "id": "e6105953",
   "metadata": {},
   "outputs": [
    {
     "name": "stdout",
     "output_type": "stream",
     "text": [
      "01 11 ### 이 사건은 '세탁 후 갑피 마모 및 경화된 가죽 운동화에 대한 손해배상 요구'에 대한 사례입니다.\n",
      "\n",
      "책임있는 사유로 세탁물이 손상, 색상변화, 얼룩 등의 하자가 발생였을 때에는 해당  세탁물에 대하여 세탁업자는 고객에게 세탁요금을 청구하지 못하므로, 세탁업자인 피 신청인이 세탁비 4,000원을 신청인에게 환급이 상당하다.\n",
      "이상을 종합하면, 신청인은 \n",
      "01 11 ### 이 사건은 '세탁 후 갑피 마모 및 경화된 가죽 운동화에 대한 손해배상 요구'에 대한 사례입니다.\n",
      "\n",
      "므로, 세탁과실에 따른 손해배상 및 세탁비 환급을 요구한다.\n",
      "이에 대하여 피신청인은 이 사건 제품을 인수하였을 당시 이미 제품 상태가 좋지 않았 고, 한국소비자원의 신발제품심의위원회에서도 세탁과실로 인정하지 않았기 때문에 신 청인의 요구를 수용할 수 \n",
      "01 10 ### 이 사건은 '세탁 후 갑피 마모 및 경화된 가죽 운동화에 대한 손해배상 요구'에 대한 사례입니다.\n",
      "\n",
      "마모 및 경화된 사실(이하 ‘이 사건 현상’)을 확인하여 피신청인이 재세탁을 하였 으나, 이후에도 경화현상만 다소 개선될 뿐 갑피 마모 현상이 개선되지 않아 피신 청인에게 손해배상(세탁비 환급 포함)을 요구하였으며, 피신청인은 세탁과실이 없 다는 이유\n",
      "01 11 ### 이 사건은 '세탁 후 갑피 마모 및 경화된 가죽 운동화에 대한 손해배상 요구'에 대한 사례입니다.\n",
      "\n",
      "살피건대, 피신청인은 세탁 전부터 이 사건 제품의 상태가 좋지 않았다고 주장하나,  다음과 같은 사정들, 즉 ① 피신청인이 세탁을 위해 이 사건 제품을 인수하면서 세탁 물의 하자유무가 작성된 인수증을 교부하지 않은 점, ② 「세탁업 표준약관」 제3조 \n",
      "01 10 ### 이 사건은 '세탁 후 갑피 마모 및 경화된 가죽 운동화에 대한 손해배상 요구'에 대한 사례입니다.\n",
      "\n",
      "신청인이 주장하는 갑피 벗겨짐(스크래치 등) 증상은 관찰되나 현 제품 상태만 으로는 제품 훼손의 원인이 세탁 과정상 발생한 것인지 착화 환경에 따른 문제 인지 단정하기 어려운바, 판단 불가하다.\n"
     ]
    }
   ],
   "source": [
    "chroma_docs = vectorstore.similarity_search(\"세탁 후 오염에 대한 손해배상은 어떻게 이루어지나요?\", k=5)\n",
    "for doc in chroma_docs:\n",
    "    print(str(doc.metadata[\"case_id\"]), str(doc.metadata[\"page\"]), doc.page_content[:200])"
   ]
  },
  {
   "cell_type": "markdown",
   "id": "236f6492",
   "metadata": {},
   "source": [
    "## Retrieval"
   ]
  },
  {
   "cell_type": "code",
   "execution_count": 44,
   "id": "785a145c",
   "metadata": {},
   "outputs": [
    {
     "name": "stdout",
     "output_type": "stream",
     "text": [
      "01 11 ### 이 사건은 '세탁 후 갑피 마모 및 경화된 가죽 운동화에 대한 손해배상 요구'에 대한 사례입니다.\n",
      "\n",
      "책임있는 사유로 세탁물이 손상, 색상변화, 얼룩 등의 하자가 발생였을 때\n",
      "01 11 ### 이 사건은 '세탁 후 갑피 마모 및 경화된 가죽 운동화에 대한 손해배상 요구'에 대한 사례입니다.\n",
      "\n",
      "므로, 세탁과실에 따른 손해배상 및 세탁비 환급을 요구한다.\n",
      "이에 대하여\n",
      "01 10 ### 이 사건은 '세탁 후 갑피 마모 및 경화된 가죽 운동화에 대한 손해배상 요구'에 대한 사례입니다.\n",
      "\n",
      "마모 및 경화된 사실(이하 ‘이 사건 현상’)을 확인하여 피신청인이 재세\n",
      "01 11 ### 이 사건은 '세탁 후 갑피 마모 및 경화된 가죽 운동화에 대한 손해배상 요구'에 대한 사례입니다.\n",
      "\n",
      "살피건대, 피신청인은 세탁 전부터 이 사건 제품의 상태가 좋지 않았다고 \n",
      "01 10 ### 이 사건은 '세탁 후 갑피 마모 및 경화된 가죽 운동화에 대한 손해배상 요구'에 대한 사례입니다.\n",
      "\n",
      "신청인이 주장하는 갑피 벗겨짐(스크래치 등) 증상은 관찰되나 현 제품 상\n"
     ]
    }
   ],
   "source": [
    "# Top K\n",
    "retriever = vectorstore.as_retriever(\n",
    "    search_kwargs={\"k\": 5}\n",
    ")\n",
    "\n",
    "query = \"세탁 후 오염에 대한 손해배상은 어떻게 이루어지나요?\"\n",
    "retrieved_docs = retriever.invoke(query)\n",
    "\n",
    "for doc in retrieved_docs:\n",
    "    print(str(doc.metadata[\"case_id\"]), str(doc.metadata[\"page\"]), doc.page_content[:100])"
   ]
  },
  {
   "cell_type": "code",
   "execution_count": 45,
   "id": "350a93ba",
   "metadata": {},
   "outputs": [
    {
     "name": "stdout",
     "output_type": "stream",
     "text": [
      "01 11 ### 이 사건은 '세탁 후 갑피 마모 및 경화된 가죽 운동화에 대한 손해배상 요구'에 대한 사례입니다.\n",
      "\n",
      "책임있는 사유로 세탁물이 손상, 색상변화, 얼룩 등의 하자가 발생였을 때\n",
      "01 11 ### 이 사건은 '세탁 후 갑피 마모 및 경화된 가죽 운동화에 대한 손해배상 요구'에 대한 사례입니다.\n",
      "\n",
      "므로, 세탁과실에 따른 손해배상 및 세탁비 환급을 요구한다.\n",
      "이에 대하여\n",
      "01 10 ### 이 사건은 '세탁 후 갑피 마모 및 경화된 가죽 운동화에 대한 손해배상 요구'에 대한 사례입니다.\n",
      "\n",
      "마모 및 경화된 사실(이하 ‘이 사건 현상’)을 확인하여 피신청인이 재세\n",
      "01 11 ### 이 사건은 '세탁 후 갑피 마모 및 경화된 가죽 운동화에 대한 손해배상 요구'에 대한 사례입니다.\n",
      "\n",
      "살피건대, 피신청인은 세탁 전부터 이 사건 제품의 상태가 좋지 않았다고 \n",
      "01 10 ### 이 사건은 '세탁 후 갑피 마모 및 경화된 가죽 운동화에 대한 손해배상 요구'에 대한 사례입니다.\n",
      "\n",
      "신청인이 주장하는 갑피 벗겨짐(스크래치 등) 증상은 관찰되나 현 제품 상\n"
     ]
    }
   ],
   "source": [
    "# metadata를 이용한 필터링\n",
    "\n",
    "retriever = vectorstore.as_retriever(\n",
    "    search_kwargs={\n",
    "        'k': 5,\n",
    "        'filter': {'case_id':'01'}\n",
    "        }\n",
    ")\n",
    "\n",
    "\n",
    "query = \"세탁 후 오염에 대한 손해배상은 어떻게 이루어지나요?\"\n",
    "retrieved_docs = retriever.invoke(query)\n",
    "\n",
    "for doc in retrieved_docs:\n",
    "    print(str(doc.metadata[\"case_id\"]), str(doc.metadata[\"page\"]), doc.page_content[:100])"
   ]
  },
  {
   "cell_type": "code",
   "execution_count": 46,
   "id": "ff6d1f7c",
   "metadata": {},
   "outputs": [
    {
     "name": "stdout",
     "output_type": "stream",
     "text": [
      "01 11 ### 이 사건은 '세탁 후 갑피 마모 및 경화된 가죽 운동화에 대한 손해배상 요구'에 대한 사례입니다.\n",
      "\n",
      "책임있는 사유로 세탁물이 손상, 색상변화, 얼룩 등의 하자가 발생였을 때\n",
      "01 11 ### 이 사건은 '세탁 후 갑피 마모 및 경화된 가죽 운동화에 대한 손해배상 요구'에 대한 사례입니다.\n",
      "\n",
      "므로, 세탁과실에 따른 손해배상 및 세탁비 환급을 요구한다.\n",
      "이에 대하여\n",
      "01 10 ### 이 사건은 '세탁 후 갑피 마모 및 경화된 가죽 운동화에 대한 손해배상 요구'에 대한 사례입니다.\n",
      "\n",
      "마모 및 경화된 사실(이하 ‘이 사건 현상’)을 확인하여 피신청인이 재세\n",
      "01 11 ### 이 사건은 '세탁 후 갑피 마모 및 경화된 가죽 운동화에 대한 손해배상 요구'에 대한 사례입니다.\n",
      "\n",
      "살피건대, 피신청인은 세탁 전부터 이 사건 제품의 상태가 좋지 않았다고 \n",
      "01 10 ### 이 사건은 '세탁 후 갑피 마모 및 경화된 가죽 운동화에 대한 손해배상 요구'에 대한 사례입니다.\n",
      "\n",
      "신청인이 주장하는 갑피 벗겨짐(스크래치 등) 증상은 관찰되나 현 제품 상\n"
     ]
    }
   ],
   "source": [
    "# page_content를 이용한 필터링\n",
    "\n",
    "retriever = vectorstore.as_retriever(\n",
    "    search_kwargs={\n",
    "        'k': 5,\n",
    "        'where_document': {'$contains': '세탁'}\n",
    "        }\n",
    ")\n",
    "\n",
    "query = \"세탁 후 오염에 대한 손해배상은 어떻게 이루어지나요?\"\n",
    "retrieved_docs = retriever.invoke(query)\n",
    "\n",
    "for doc in retrieved_docs:\n",
    "    print(str(doc.metadata[\"case_id\"]), str(doc.metadata[\"page\"]), doc.page_content[:100])"
   ]
  },
  {
   "cell_type": "markdown",
   "id": "0f03b6e1",
   "metadata": {},
   "source": [
    "## Generation"
   ]
  },
  {
   "cell_type": "code",
   "execution_count": 49,
   "id": "f5360311",
   "metadata": {},
   "outputs": [
    {
     "data": {
      "text/plain": [
       "ChatPromptTemplate(input_variables=['context', 'question'], input_types={}, partial_variables={}, messages=[HumanMessagePromptTemplate(prompt=PromptTemplate(input_variables=['context', 'question'], input_types={}, partial_variables={}, template='Answer the question based only on the following context:\\n{context}\\n\\nQuestion: {question}\\n'), additional_kwargs={})])"
      ]
     },
     "execution_count": 49,
     "metadata": {},
     "output_type": "execute_result"
    }
   ],
   "source": [
    "\n",
    "from langchain_ollama import ChatOllama\n",
    "#from langchain_core.prompts import PromptTemplate\n",
    "from langchain_core.prompts import ChatPromptTemplate\n",
    "\n",
    "# Prompt\n",
    "template = \"\"\"Answer the question based only on the following context:\n",
    "{context}\n",
    "\n",
    "Question: {question}\n",
    "\"\"\"\n",
    "\n",
    "prompt = ChatPromptTemplate.from_template(template)\n",
    "prompt"
   ]
  },
  {
   "cell_type": "code",
   "execution_count": 50,
   "id": "32cefc20",
   "metadata": {},
   "outputs": [
    {
     "data": {
      "text/plain": [
       "'세탁 불량에 대한 손해배상은 다음과 같이 이루어집니다:\\n\\n1. 신청인은 피신청인에게 이 사건 제품을 반환해야 합니다.\\n2. 피신청인은 손해배상액 67,000원(112,140원의 60%에서 1,000원 미만 버림)를 신청인에게 지불해야 합니다.\\n3. 또한 피신청인은 세탁비 4,000원을 환급해야 합니다.\\n\\n따라서, 이 사건 손해배상과 세탁비 환급은 신청인의 제품 반환과 피신청인의 금액 지불로 이루어집니다.'"
      ]
     },
     "execution_count": 50,
     "metadata": {},
     "output_type": "execute_result"
    }
   ],
   "source": [
    "# RAG Chain\n",
    "llm = ChatOllama(model=\"qwen2\", temperature=0)\n",
    "\n",
    "from langchain_core.output_parsers import StrOutputParser\n",
    "from langchain_core.runnables import RunnablePassthrough\n",
    "\n",
    "def format_docs(docs):\n",
    "    return \"\\n\\n\".join([d.page_content for d in docs])\n",
    "\n",
    "item = \"세탁\"\n",
    "query = f\"{item} 불량에 대한 손해배상은 어떻게 이루어지나요?\"\n",
    "\n",
    "retriever = vectorstore.as_retriever(\n",
    "    search_kwargs={\n",
    "        'k': 2,\n",
    "        'where_document': {'$contains': item}\n",
    "        }\n",
    ")\n",
    "\n",
    "rag_chain = (\n",
    "    {\"context\": retriever | format_docs, \"question\": RunnablePassthrough()}\n",
    "    | prompt\n",
    "    | llm\n",
    "    | StrOutputParser()\n",
    ")\n",
    "\n",
    "\n",
    "response = rag_chain.invoke(query)\n",
    "response"
   ]
  },
  {
   "cell_type": "code",
   "execution_count": 51,
   "id": "7bdb3db3",
   "metadata": {},
   "outputs": [
    {
     "name": "stdout",
     "output_type": "stream",
     "text": [
      "세탁 불량에 대한 손해배상은 다음과 같이 이루어집니다:\n",
      "\n",
      "1. 신청인은 피신청인에게 이 사건 제품을 반환해야 합니다.\n",
      "2. 피신청인은 손해배상액 67,000원(112,140원의 60%에서 1,000원 미만 버림)를 신청인에게 지불해야 합니다.\n",
      "3. 또한 피신청인은 세탁비 4,000원을 환급해야 합니다.\n",
      "\n",
      "따라서, 이 사건 손해배상과 세탁비 환급은 신청인의 제품 반환과 피신청인의 금액 지불로 이루어집니다.\n"
     ]
    }
   ],
   "source": [
    "print(response)"
   ]
  },
  {
   "cell_type": "code",
   "execution_count": null,
   "id": "4b7bcc20",
   "metadata": {},
   "outputs": [],
   "source": []
  }
 ],
 "metadata": {
  "kernelspec": {
   "display_name": "base",
   "language": "python",
   "name": "python3"
  },
  "language_info": {
   "codemirror_mode": {
    "name": "ipython",
    "version": 3
   },
   "file_extension": ".py",
   "mimetype": "text/x-python",
   "name": "python",
   "nbconvert_exporter": "python",
   "pygments_lexer": "ipython3",
   "version": "3.12.4"
  }
 },
 "nbformat": 4,
 "nbformat_minor": 5
}
