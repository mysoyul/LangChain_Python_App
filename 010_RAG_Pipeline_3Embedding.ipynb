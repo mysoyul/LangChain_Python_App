{
 "cells": [
  {
   "cell_type": "markdown",
   "id": "1F5lTDp5UPf0",
   "metadata": {
    "id": "1F5lTDp5UPf0"
   },
   "source": [
    "### 1) 라이브러리 설치"
   ]
  },
  {
   "cell_type": "code",
   "execution_count": 6,
   "id": "4cd87a33-0a37-461b-8f37-3c142e60b1f6",
   "metadata": {
    "id": "4cd87a33-0a37-461b-8f37-3c142e60b1f6"
   },
   "outputs": [
    {
     "name": "stdout",
     "output_type": "stream",
     "text": [
      "Note: you may need to restart the kernel to use updated packages.\n"
     ]
    }
   ],
   "source": [
    "%pip install -q sentence-transformers langchain-huggingface"
   ]
  },
  {
   "cell_type": "code",
   "execution_count": 1,
   "id": "ed1f0805",
   "metadata": {},
   "outputs": [
    {
     "data": {
      "text/plain": [
       "True"
      ]
     },
     "execution_count": 1,
     "metadata": {},
     "output_type": "execute_result"
    }
   ],
   "source": [
    "from dotenv import load_dotenv\n",
    "# .env 파일을 불러와서 환경 변수로 설정\n",
    "load_dotenv()"
   ]
  },
  {
   "cell_type": "markdown",
   "id": "2a416db3",
   "metadata": {},
   "source": [
    "#### OpenAIEmbeddings 예제"
   ]
  },
  {
   "cell_type": "code",
   "execution_count": 2,
   "id": "337f869f",
   "metadata": {},
   "outputs": [
    {
     "name": "stdout",
     "output_type": "stream",
     "text": [
      "[0.008827518671751022, 0.06394866108894348, 0.027438532561063766, 0.027418192476034164, -0.0031374304089695215]\n",
      "4\n",
      "[0.008827518671751022, 0.06394866108894348, 0.027438532561063766, 0.027418192476034164, -0.0031374304089695215]\n",
      "1024\n"
     ]
    }
   ],
   "source": [
    "from langchain_openai import OpenAIEmbeddings\n",
    "\n",
    "# OpenAI의 \"text-embedding-3-small\" 모델을 사용하여 임베딩 객체 생성\n",
    "embeddings = OpenAIEmbeddings(model=\"text-embedding-3-small\")\n",
    "\n",
    "# 임베딩할 텍스트 데이터 (난이도 높은 문장)\n",
    "text = \"심층 신경망을 활용한 자연어 처리는 문맥을 이해하고 텍스트 생성을 가능하게 하는 강력한 기술로 자리 잡았습니다.\"\n",
    "\n",
    "# 1. 쿼리(단일 텍스트)를 임베딩\n",
    "query_result = embeddings.embed_query(text)\n",
    "print(query_result[:5])  # 임베딩 벡터의 처음 5개 요소 출력\n",
    "\n",
    "# 2. 문서(여러 개의 텍스트)를 임베딩\n",
    "texts = [text, text, text, text]  # 동일한 문장을 4번 사용\n",
    "\n",
    "doc_result = embeddings.embed_documents(texts)\n",
    "print(len(doc_result))  # 생성된 문서 벡터 개수 출력\n",
    "print(doc_result[0][:5])  # 첫 번째 문서 벡터의 처음 5개 요소 출력\n",
    "\n",
    "# 3. 1024차원의 임베딩 생성\n",
    "embeddings_1024 = OpenAIEmbeddings(model=\"text-embedding-3-small\", dimensions=1024)\n",
    "print(len(embeddings_1024.embed_documents([text])[0]))  # 벡터 차원 확인\n"
   ]
  },
  {
   "cell_type": "code",
   "execution_count": 3,
   "id": "3a672302",
   "metadata": {},
   "outputs": [
    {
     "name": "stdout",
     "output_type": "stream",
     "text": [
      "5 43\n",
      "[유사도 0.3926] 자연어 처리는 기계가 인간 언어를 이해하고 생성할 수 있도록 돕는 기술입니다. \t <=====> \t 심층 학습을 적용한 언어 모델은 다양한 문맥을 학습하여 정교한 문장을 생성할 수 있습니다.\n",
      "[유사도 0.5590] 자연어 처리는 기계가 인간 언어를 이해하고 생성할 수 있도록 돕는 기술입니다. \t <=====> \t 통계적 자연어 처리 기법과 신경망 모델은 언어 이해에 중요한 역할을 합니다.\n",
      "[유사도 0.3639] 자연어 처리는 기계가 인간 언어를 이해하고 생성할 수 있도록 돕는 기술입니다. \t <=====> \t Neural networks have significantly improved the accuracy of machine translation.\n",
      "[유사도 0.1976] 자연어 처리는 기계가 인간 언어를 이해하고 생성할 수 있도록 돕는 기술입니다. \t <=====> \t 안녕하세요? 만나서 반가워요.\n",
      "[유사도 0.4779] 심층 학습을 적용한 언어 모델은 다양한 문맥을 학습하여 정교한 문장을 생성할 수 있습니다. \t <=====> \t 통계적 자연어 처리 기법과 신경망 모델은 언어 이해에 중요한 역할을 합니다.\n",
      "[유사도 0.3284] 심층 학습을 적용한 언어 모델은 다양한 문맥을 학습하여 정교한 문장을 생성할 수 있습니다. \t <=====> \t Neural networks have significantly improved the accuracy of machine translation.\n",
      "[유사도 0.2276] 심층 학습을 적용한 언어 모델은 다양한 문맥을 학습하여 정교한 문장을 생성할 수 있습니다. \t <=====> \t 안녕하세요? 만나서 반가워요.\n",
      "[유사도 0.4358] 통계적 자연어 처리 기법과 신경망 모델은 언어 이해에 중요한 역할을 합니다. \t <=====> \t Neural networks have significantly improved the accuracy of machine translation.\n",
      "[유사도 0.1273] 통계적 자연어 처리 기법과 신경망 모델은 언어 이해에 중요한 역할을 합니다. \t <=====> \t 안녕하세요? 만나서 반가워요.\n",
      "[유사도 0.0982] Neural networks have significantly improved the accuracy of machine translation. \t <=====> \t 안녕하세요? 만나서 반가워요.\n"
     ]
    }
   ],
   "source": [
    "# 4. 임베딩 벡터를 활용한 유사도 계산\n",
    "from sklearn.metrics.pairwise import cosine_similarity\n",
    "\n",
    "# 비교할 문장 5개\n",
    "sentence1 = \"자연어 처리는 기계가 인간 언어를 이해하고 생성할 수 있도록 돕는 기술입니다.\"\n",
    "sentence2 = \"심층 학습을 적용한 언어 모델은 다양한 문맥을 학습하여 정교한 문장을 생성할 수 있습니다.\"\n",
    "sentence3 = \"통계적 자연어 처리 기법과 신경망 모델은 언어 이해에 중요한 역할을 합니다.\"\n",
    "sentence4 = \"Neural networks have significantly improved the accuracy of machine translation.\"\n",
    "sentence5 = \"안녕하세요? 만나서 반가워요.\"\n",
    "\n",
    "sentences = [sentence1, sentence2, sentence3, sentence4, sentence5]\n",
    "print(len(sentences), len(sentences[0]))\n",
    "\n",
    "embedded_sentences = embeddings_1024.embed_documents(sentences)\n",
    "\n",
    "def similarity(a, b):\n",
    "    return cosine_similarity([a], [b])[0][0]\n",
    "\n",
    "# 각 문장 간 유사도 비교\n",
    "for i, sentence in enumerate(embedded_sentences):\n",
    "    for j, other_sentence in enumerate(embedded_sentences):\n",
    "        if i < j:\n",
    "            print(f\"[유사도 {similarity(sentence, other_sentence):.4f}] {sentences[i]} \\t <=====> \\t {sentences[j]}\")"
   ]
  },
  {
   "cell_type": "code",
   "execution_count": 7,
   "id": "38bf89c6",
   "metadata": {},
   "outputs": [
    {
     "name": "stdout",
     "output_type": "stream",
     "text": [
      "[-0.02077852003276348, 0.06788308918476105, 0.11902482062578201, -0.03419821336865425, -0.07493330538272858]\n",
      "3\n"
     ]
    }
   ],
   "source": [
    "from langchain_huggingface import HuggingFaceEmbeddings\n",
    "\n",
    "# Hugging Face 임베딩 모델 사용\n",
    "embeddings = HuggingFaceEmbeddings(model_name=\"sentence-transformers/all-MiniLM-L6-v2\")\n",
    "\n",
    "# 단일 문장 임베딩\n",
    "query_text = \"자연어 처리는 기계가 인간 언어를 이해하는 기술입니다.\"\n",
    "query_embedding = embeddings.embed_query(query_text)\n",
    "\n",
    "# 여러 문장 임베딩\n",
    "texts = [\n",
    "    \"인공지능은 다양한 산업에서 활용됩니다.\",\n",
    "    \"자연어 처리는 언어를 분석하는 기술입니다.\",\n",
    "    \"딥러닝을 활용한 모델이 성능이 좋습니다.\"\n",
    "]\n",
    "doc_embeddings = embeddings.embed_documents(texts)\n",
    "\n",
    "# 결과 확인\n",
    "print(query_embedding[:5])  # 쿼리 임베딩 벡터 일부 출력\n",
    "print(len(doc_embeddings))  # 문서 벡터 개수 출력\n"
   ]
  },
  {
   "cell_type": "markdown",
   "id": "d7d910ef",
   "metadata": {},
   "source": []
  }
 ],
 "metadata": {
  "colab": {
   "provenance": []
  },
  "kernelspec": {
   "display_name": "base",
   "language": "python",
   "name": "python3"
  },
  "language_info": {
   "codemirror_mode": {
    "name": "ipython",
    "version": 3
   },
   "file_extension": ".py",
   "mimetype": "text/x-python",
   "name": "python",
   "nbconvert_exporter": "python",
   "pygments_lexer": "ipython3",
   "version": "3.12.4"
  }
 },
 "nbformat": 4,
 "nbformat_minor": 5
}
