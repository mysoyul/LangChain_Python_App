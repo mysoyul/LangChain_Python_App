{
 "cells": [
  {
   "cell_type": "markdown",
   "metadata": {},
   "source": [
    "### Model Parameter 설정"
   ]
  },
  {
   "cell_type": "code",
   "execution_count": 2,
   "metadata": {},
   "outputs": [
    {
     "name": "stdout",
     "output_type": "stream",
     "text": [
      "Note: you may need to restart the kernel to use updated packages.\n"
     ]
    }
   ],
   "source": [
    "%pip install -q langchain langchain-openai"
   ]
  },
  {
   "cell_type": "code",
   "execution_count": 1,
   "metadata": {},
   "outputs": [
    {
     "data": {
      "text/plain": [
       "True"
      ]
     },
     "execution_count": 1,
     "metadata": {},
     "output_type": "execute_result"
    }
   ],
   "source": [
    "from dotenv import load_dotenv\n",
    "# .env 파일을 불러와서 환경 변수로 설정\n",
    "load_dotenv()"
   ]
  },
  {
   "cell_type": "markdown",
   "metadata": {},
   "source": [
    "### 1) 모델 클래스 유형"
   ]
  },
  {
   "cell_type": "markdown",
   "metadata": {},
   "source": [
    "#### LLM"
   ]
  },
  {
   "cell_type": "code",
   "execution_count": 4,
   "metadata": {},
   "outputs": [
    {
     "name": "stdout",
     "output_type": "stream",
     "text": [
      "gpt-3.5-turbo-instruct\n",
      "<class 'str'>\n",
      "\n",
      "\n",
      "1. 경복궁\n",
      "경복궁은 조선 왕조의 주요 궁궐로, 서울에 위치하고 있습니다. 국내외 관광객들에게 인기 있는 곳으로, 조선 왕실의 역사와 문화를 살펴볼 수 있습니다. 특히 봄과 가을에는 아름다운 조경과 함께 청와대 앞 국민청원 체험, 전통문화 체험 등 다양한 이벤트가 열립니다.\n",
      "\n",
      "2. 제주도\n",
      "제주도는 우리나라의 남쪽에 위치한 섬으로, 자연이 아름다운 곳으로 유명합니다. 섬 전체가 유네스코 세계자연유산으로 지정되어 있으며, 화산섬이기 때문에 다양한 화산\n"
     ]
    }
   ],
   "source": [
    "from langchain_openai import OpenAI\n",
    "\n",
    "# model을 지정하지 않아도 실행되는 이유는 LangChain이 내부적으로 기본값을 설정함\n",
    "llm = OpenAI()\n",
    "print(llm.model_name)  # 기본 모델 확인\n",
    "\n",
    "result = llm.invoke(\"한국의 대표적인 관광지 3군데를 추천해 주세요.\")\n",
    "print(type(result))\n",
    "print(result)"
   ]
  },
  {
   "cell_type": "markdown",
   "metadata": {},
   "source": [
    "#### ChatModel"
   ]
  },
  {
   "cell_type": "code",
   "execution_count": 2,
   "metadata": {},
   "outputs": [
    {
     "name": "stdout",
     "output_type": "stream",
     "text": [
      "<class 'langchain_core.messages.ai.AIMessage'>\n",
      "한국의 대표적인 관광지로는 첫 번째로 **경복궁**이 있습니다. 경복궁은 조선 시대의 궁궐로, 서울에 위치해 있습니다. 이곳은 한국의 역사와 문화를 경험할 수 있는 장소로, 많은 관광객이 방문합니다.\n",
      "\n",
      "두 번째로는 **제주도**가 있습니다. 제주도는 한국의 남쪽에 위치한 섬으로, 아름다운 자연 경관과 독특한 문화로 유명합니다. 제주도는 화산섬으로, 한라산을 중심으로 형성된 화산섬입니다. 이곳에서는 아름다운 해변, 숲, 그리고 다양한 식물을 감상할 수 있습니다.\n",
      "\n",
      "세 번째로는 **부산**이 있습니다. 부산은 한국의 동쪽에 위치한 도시로, 아름다운 해변과 현대적인 도시 경관으로 유명합니다. 부산에서는 해운대 해변, 부산 타워, 그리고 부산 국제시장 등을 방문할 수 있습니다.\n",
      "\n",
      "이 세 곳은 한국의 다양한 매력을 경험할 수 있는 대표적인 관광지입니다.\n"
     ]
    }
   ],
   "source": [
    "from langchain_core.prompts import ChatPromptTemplate\n",
    "from langchain_openai import ChatOpenAI\n",
    "\n",
    "#chat = ChatOpenAI(model=\"gpt-3.5-turbo-0125\")\n",
    "chat = ChatOpenAI(\n",
    "    #api_key=OPENAI_API_KEY,\n",
    "    base_url=\"https://api.groq.com/openai/v1\",  # Groq API 엔드포인트\n",
    "    model=\"meta-llama/llama-4-scout-17b-16e-instruct\",  # Spring AI와 동일한 모델\n",
    "    temperature=0.7\n",
    ")\n",
    "\n",
    "chat_prompt = ChatPromptTemplate.from_messages([\n",
    "    (\"system\", \"이 시스템은 여행 전문가입니다.\"),\n",
    "    (\"human\", \"{user_input}\"),\n",
    "])\n",
    "\n",
    "chain = chat_prompt | chat\n",
    "result = chain.invoke({\"user_input\": \"안녕하세요? 한국의 대표적인 관광지 3군데를 추천해 주세요.\"})\n",
    "\n",
    "print(type(result))\n",
    "print(result.content)"
   ]
  },
  {
   "cell_type": "markdown",
   "metadata": {},
   "source": [
    "### 2) 모델 파라미터 설정\n",
    "##### Temperature 효과\n",
    "* 0.2 (낮은 값): 더 예측 가능하고 일반적인 이야기\n",
    "* 1.2 (높은 값): 새로운 요소가 등장하며, 더 창의적이고 흥미로운 이야기 생성\n",
    "\n",
    "##### Presence Penalty 효과\n",
    "* 0.0 (낮은 값): 기존에 자주 등장하는 단어와 구조 유지\n",
    "* 1.5 (높은 값): 새로운 표현과 독창적인 아이디어 등장"
   ]
  },
  {
   "cell_type": "code",
   "execution_count": 3,
   "metadata": {},
   "outputs": [
    {
     "name": "stdout",
     "output_type": "stream",
     "text": [
      " Before (논리적이고 보수적인 이야기)\n",
      "**마법의 세계에서 벌어지는 예상치 못한 사건**\n",
      "\n",
      "마법의 세계에서 벌어지는 예상치 못한 사건은 마법사들이 사용하는 마법의 도구들이 갑자기 반란을 일으킨 사건이었다. 이 사건은 마법사들이 사용하는 마법의 도구들이 갑자기 반란을 일으켜 마법사들을 공격하기 시작한 사건이었다.\n",
      "\n",
      "이 사건은 마법사들이 사용하는 마법의 도구들이 갑자기 반란을 일으켜 마법사들을 공격하기 시작한 사건이었다. 마법사들은 자신들이 사용하는 도구들이 반란을 일으킬 것이라고는 생각하지 못했기 때문에 매우 놀랐다.\n",
      "\n",
      "마법사들은 자신들이 사용하는 도구들이 반란을 일으킬 것이라고는 생각하지 못\n",
      "\n",
      "-------------------------\n",
      "\n",
      " After (창의적인 이야기, 더 풍부한 표현)\n",
      "어느 날, 마법의 숲 속에서 마법사들이 모여 비밀을 공유하는 지하 모임이 열렸습니다. 이곳은 신비로운 마법사들이 비밀리에 모여 마법의 지식을 공유하는 곳이었죠. 그 날은 달이 차고 풍성한 마법의 밤이었습니다.\n",
      "\n",
      "이날의 지하 모임에는 유명한 마법사들이 모두 참석했습니다. 엘리노어, 마법의 공주; 마리우스, 마법의 연구자; 그리고 피에르, 마법의 명인 등 많은 마법사들이 있었습니다.\n",
      "\n",
      "모임이 시작되자마자, 갑자기 지하 공간이 흔들리기 시작했습니다. 처음에는 지진인 줄 알았지만, 그게 아니었습니다. 지하 공간의 벽이 갑자기 무너져 내리고, 그 속에서 거대한 마법의 수정이 나타났습니다.\n",
      "\n",
      "수정은 지하 공간을 밝히며 빛을 발했습니다. 그리고 마법사들은 그 수정의 중심에서 신비로운 소리를 들었습니다. 그것은 옛날 마법사들이 남긴 비밀 메시지였습니다.\n",
      "\n",
      "메시지는 마법의 세계를 구할 수 있는 비밀을 담고 있었습니다. 마법사들은 이 메시지를 해독하기 위해 협력하기로 결심했습니다.\n",
      "\n",
      "엘리노어는 마법의 공주답게 강력한 마법으로 수정을 분석했고, 마리우스는 연구를 통해 메시지의 의미를 밝혀냈습니다. 피에르는 명인답게\n"
     ]
    }
   ],
   "source": [
    "from langchain_openai import ChatOpenAI\n",
    "\n",
    "#  보수적인 설정 (일관된, 논리적인 이야기)\n",
    "llm_before = ChatOpenAI(\n",
    "    #model=\"gpt-3.5-turbo-0125\",\n",
    "    base_url=\"https://api.groq.com/openai/v1\",  # Groq API 엔드포인트\n",
    "    model=\"meta-llama/llama-4-scout-17b-16e-instruct\",  # Spring AI와 동일한 모델\n",
    "    temperature=0.2,  # 낮은 온도로 예측 가능한 출력\n",
    "    presence_penalty=0.0,  # 기존 패턴 유지\n",
    "    frequency_penalty=0.0,  # 반복 허용\n",
    "    max_tokens=150,  # 출력 길이 제한\n",
    "    top_p=1.0  # 확률 상위 100% 내에서 선택 (제한 없음)\n",
    ")\n",
    "\n",
    "#  창의적인 설정 (더 독창적이고 예측 불가능한 이야기)\n",
    "llm_after = ChatOpenAI(\n",
    "    #model=\"gpt-3.5-turbo-0125\",\n",
    "    base_url=\"https://api.groq.com/openai/v1\",  # Groq API 엔드포인트\n",
    "    model=\"meta-llama/llama-4-scout-17b-16e-instruct\",  # Spring AI와 동일한 모델\n",
    "    temperature=1.2,  # 높은 온도로 창의적인 답변 유도\n",
    "    presence_penalty=1.2,  # 새로운 단어와 개념 유도\n",
    "    frequency_penalty=0.5,  # 반복을 억제하여 더 다양한 표현 생성\n",
    "    max_tokens=300,  # 더 긴 이야기 허용\n",
    "    top_p=0.8  # 제한 없이 다양한 단어 선택 가능\n",
    ")\n",
    "\n",
    "# 질문 설정: 짧은 판타지 이야기 생성\n",
    "# question = \"마법의 세계에서 용이 인간과 친구가 되는 짧은 이야기를 써 주세요.\"\n",
    "question = \"마법의 세계에서 벌어지는 예상치 못한 사건을 주제로 독창적인 짧은 이야기를 만들어 주세요.\"\n",
    "\n",
    "# 모델 호출\n",
    "response_before = llm_before.invoke(question)\n",
    "response_after = llm_after.invoke(question)\n",
    "\n",
    "# 결과 출력\n",
    "print(\" Before (논리적이고 보수적인 이야기)\")\n",
    "print(response_before.content)\n",
    "\n",
    "print(\"\\n-------------------------\\n\")\n",
    "\n",
    "print(\" After (창의적인 이야기, 더 풍부한 표현)\")\n",
    "print(response_after.content)"
   ]
  },
  {
   "cell_type": "markdown",
   "metadata": {},
   "source": [
    "#### Model의 종류에 따라 결과 값이 다름\n",
    "* gpt-4o vs gpt-3.5-turbo-0125"
   ]
  },
  {
   "cell_type": "code",
   "execution_count": 4,
   "metadata": {},
   "outputs": [
    {
     "name": "stdout",
     "output_type": "stream",
     "text": [
      "\n",
      "-------------------------\n",
      "\n",
      " After (창의적인 응답, 새로운 아이디어 포함)\n",
      "한국에는 다양한 여행지가 있습니다. 서울의 경복궁, 부산의 해운대, 제주도의 성산 일출봉, 그리고 여수시의 오동도 등이 있습니다. 각 지역마다 고유한 문화와 자연 경관을 가지고 있어 방문객들에게 다양한 경험을 제공합니다. 여행을 계획할 때는 관심사와 계절을 고려하여 선택하는 것이 좋습니다.\n"
     ]
    }
   ],
   "source": [
    "from langchain_openai import ChatOpenAI\n",
    "\n",
    "# 변경된 설정 (더 창의적인 답변, 새로운 아이디어 유도)\n",
    "#llm_after = ChatOpenAI(model=\"gpt-4o\", temperature=1.0, presence_penalty=1.5)\n",
    "#llm_after = ChatOpenAI(model=\"gpt-3.5-turbo-0125\", temperature=1.0, presence_penalty=1.5)\n",
    "llm_after = ChatOpenAI(\n",
    "    #api_key=OPENAI_API_KEY,\n",
    "    base_url=\"https://api.groq.com/openai/v1\",  # Groq API 엔드포인트\n",
    "    model=\"meta-llama/llama-4-scout-17b-16e-instruct\",\n",
    "    temperature=1.0,\n",
    "    presence_penalty=1.5\n",
    ")\n",
    "\n",
    "# 질문 설정\n",
    "question = \"한국에서 가볼 만한 여행지를 추천해 주세요.\"\n",
    "\n",
    "# 모델 호출\n",
    "response_after = llm_after.invoke(question)\n",
    "\n",
    "# 결과 출력\n",
    "print(\"\\n-------------------------\\n\")\n",
    "print(\" After (창의적인 응답, 새로운 아이디어 포함)\")\n",
    "print(response_after.content)"
   ]
  },
  {
   "cell_type": "markdown",
   "metadata": {},
   "source": [
    "##### 2-1) 모델에 직접 파라미터를 전달 (모델 생성 시점)\n",
    "##### Before / After 파라미터 차이\n",
    "* temperature: Before(0.7) → 다양성 높은 추천 / After(0.3) → 정확한 일정 제공\n",
    "* max_tokens: Before(300) → 간략한 응답 / After(800) → 세부 일정 포함\n",
    "* frequency_penalty: Before(0.5) → 단어 반복 억제 / After(0.2) → 좀 더 자연스러운 응답\n",
    "* presence_penalty: Before(0.5) → 다양한 장소 추천 / After(0.3) → 새로운 정보 포함"
   ]
  },
  {
   "cell_type": "code",
   "execution_count": 6,
   "metadata": {},
   "outputs": [
    {
     "name": "stdout",
     "output_type": "stream",
     "text": [
      " [Before] 모델 결과\n",
      "### **추천 여행지: 부산** \n",
      "\n",
      "부산은 해운대, 광안리 등 여러 해변과 다양한 문화시설을 제공하는 한국의 대표적인 관광지 중 하나입니다. 특히 가족과 함께 여유로운 여행을 즐기기에 매우 적합한 곳입니다.\n",
      "\n",
      "### **일정: 3박 4일**\n",
      "\n",
      "**1일차: 부산 도착 및 해운대 방문**\n",
      "\n",
      "*   오전: 부산에 도착합니다. \n",
      "*   오후: 해운대 해수욕장을 방문하여 바다를 감상하고, 해운대 동백섬으로 이어지는 산책로를 걸으며 여유로운 시간을 보냅니다. \n",
      "*   저녁: 해운대 인근의 맛있는 저녁 식사 후, 해운대 야경을 즐깁니다.\n",
      "\n",
      "**2일차: 광안리 및 부산 대학교**\n",
      "\n",
      "*   오전: 광안리 해수욕장을 방문하여 서핑을 즐기거나, 광안대교를 감상합니다. \n",
      "*   오후: 부산대학교 캠퍼스를 방문해 학생들과의 교류나 학교의 분위기를 느껴봅니다. \n",
      "*   저녁: 광안리 인근의 맛있는 저녁 식사 후, 광안리 야경을 즐깁니다.\n",
      "\n",
      "**3일차: 부산 타워 및 자갈치시장**\n",
      "\n",
      "*   오전: 부산 타워를 방문하여 부산의 전경을 감상합니다. \n",
      "*   오후: 자갈치 시장을 방문하여 신선한 해산물과\n",
      "\n",
      "================================================================================\n",
      "\n",
      " [After] 모델 결과\n",
      "### **3박 4일 가족 여행 추천 일정**\n",
      "\n",
      "*   **여행지:** 서울\n",
      "*   **여행일정:** 3박 4일\n",
      "\n",
      "### **1일차: 서울 도심 관광**\n",
      "\n",
      "*   **아침 식사:** 서울역 인근의 맛있는 한식집에서 전통적인 한국식 아침 식사\n",
      "*   **서울역 출발:** 서울역에서 출발하여 도보로 가까운 거리에 있는 **국립중앙박물관** 방문\n",
      "*   **오후 식사:** **광화문** 근처 식당에서 점심 식사\n",
      "*   **광화문 광장:** 광화문 광장에서 잠시 휴식\n",
      "*   **경복궁:** **경복궁** 방문 (입장료: 무료, 단, 경복궁 내 일부 시설은 유료)\n",
      "*   **저녁 식사:** **종각** 근처의 식당에서 저녁 식사\n",
      "\n",
      "### **2일차: 서울의 자연과 문화**\n",
      "\n",
      "*   **아침 식사:** 호텔에서 조식 뷔페 또는 인근 식당에서 아침 식사\n",
      "*   **북악산 등산:** **북악산** 등산 (등산로: 무료)\n",
      "*   **오후 식사:** **인사동** 근처의 식당에서 점심 식사\n",
      "*   **인사동 거리:** **인사동** 거리 산책 및 전통 문화 체험\n",
      "*   **저녁 식사:** **강남** 근처의 식당에서 저녁 식사\n",
      "\n",
      "### **3일차: 서울의 현대적인 면모**\n",
      "\n",
      "*   **아침 식사:** 호텔에서 조식 뷔페 또는 인근 식당에서 아침 식사\n",
      "*   **서울랜드:** **서울랜드** 방문 (입장료: 유료)\n",
      "*   **오후 식사:** **용산** 근처의 식당에서 점심 식사\n",
      "*   **이태원 거리:** **이태원 거리** 산책 및 쇼핑\n",
      "*   **저녁 식사:** **이태원** 근처의 식당에서 저녁 식사\n",
      "\n",
      "### **4일차: 서울의 역사와 예술**\n",
      "\n",
      "*   **아침 식사:** 호텔에서 조식 뷔페 또는 인근 식당에서 아침 식사\n",
      "*   **덕수궁:** **덕수궁** 방문 (입장료: 무료, 단, 덕수궁 내 일부 시설은 유료)\n",
      "*   **오후 식사:** **동대문** 근처의 식당에서 점심 식사\n",
      "*   **동대문 거리:** **동대문 거리** 산책 및 쇼핑\n",
      "*   **저녁 식사:** **동대문** 근처의 식당에서 저녁 식사\n",
      "\n",
      "### **교통 정보**\n",
      "\n",
      "*   **교통카드:** 교통카드를 사용하여 대중교통 이용\n",
      "*   **택시:** 필요한 경우 택시 이용\n",
      "\n",
      "### **예산 정보**\n",
      "\n",
      "*   **숙박비:** 호텔 숙박비 (약 100만 원)\n",
      "*   **식사비:** 식사비 (약 50만 원)\n",
      "*   **교통비:** 교통비 (약 10만 원)\n",
      "*   **입장료:** 입장료 (약 10만 원)\n",
      "\n",
      "### **총 예산:** 약 170만 원\n",
      "\n",
      "### **여행 팁**\n",
      "\n",
      "*   **날씨:** 날씨를 확인하고, 적절한 옷차림을 준비\n",
      "*   **교통:** 교통 상황을 확인하고, 교통카드를 사용하여 대중교통 이용\n",
      "*   **식사:** 식사 시간을 확인하고, 미리 예약\n",
      "\n",
      "이 일정은 가족과 함께 여유롭게 여행할 수 있는 최적의 일정입니다. 하지만, 개인의 취향과 선호도에 따라 일정을 조정할 수 있습니다.\n"
     ]
    }
   ],
   "source": [
    "from langchain_openai import ChatOpenAI\n",
    "from langchain_core.prompts import ChatPromptTemplate, SystemMessagePromptTemplate, HumanMessagePromptTemplate\n",
    "\n",
    "#  모델 파라미터 (Before: 기본적인 추천 / After: 맞춤형 세부 정보 추가)\n",
    "before_params = {\n",
    "    \"temperature\": 0.7,         # 랜덤성을 적절히 유지 (다양한 답변 유도)\n",
    "    \"max_tokens\": 300,          # 응답 길이를 적절히 조절\n",
    "    \"frequency_penalty\": 0.5,   # 반복 단어 억제\n",
    "    \"presence_penalty\": 0.5,    # 새로운 단어 포함 장려\n",
    "}\n",
    "\n",
    "after_params = {\n",
    "    \"temperature\": 0.3,         # 창의성을 낮추고 정확한 답변 유도\n",
    "    \"max_tokens\": 800,          # 더 긴 답변을 생성 (세부 정보 포함)\n",
    "    \"top_p\": 0.85,              # 확률 기반 샘플링 (일관성과 다양성 균형)\n",
    "    \"frequency_penalty\": 0.2,   # 반복 단어 감소 (자연스러운 답변)\n",
    "    \"presence_penalty\": 0.3,    # 새로운 정보 포함 장려\n",
    "}\n",
    "\n",
    "#  두 개의 모델 생성 (Before / After)\n",
    "#before_model = ChatOpenAI(model=\"gpt-3.5-turbo-0125\", **before_params)\n",
    "before_model = ChatOpenAI(\n",
    "    base_url=\"https://api.groq.com/openai/v1\",  # Groq API 엔드포인트\n",
    "    model=\"meta-llama/llama-4-scout-17b-16e-instruct\",\n",
    "    **before_params\n",
    ")\n",
    "#after_model = ChatOpenAI(model=\"gpt-3.5-turbo-0125\", **after_params)\n",
    "after_model = ChatOpenAI(\n",
    "    base_url=\"https://api.groq.com/openai/v1\",  # Groq API 엔드포인트\n",
    "    model=\"meta-llama/llama-4-scout-17b-16e-instruct\",\n",
    "    **after_params\n",
    ")\n",
    "\n",
    "#  프롬프트 구성 (올바른 ChatMessagePromptTemplate 사용)\n",
    "system_message = SystemMessagePromptTemplate.from_template(\n",
    "    \"당신은 여행 전문가입니다. 사용자의 요청에 맞는 최적의 여행지를 추천해 주세요.\"\n",
    ")\n",
    "\n",
    "user_message = HumanMessagePromptTemplate.from_template(\"{user_input}\")\n",
    "\n",
    "chat_prompt = ChatPromptTemplate.from_messages([system_message, user_message])\n",
    "\n",
    "#  체인 생성 (Before / After)\n",
    "before_chain = chat_prompt | before_model\n",
    "after_chain = chat_prompt | after_model\n",
    "\n",
    "#  질문 설정 (Before / After의 차이점을 비교할 수 있도록 변경)\n",
    "test_question = \"가족과 함께 3박 4일 동안 한국에서 여유롭게 여행할 수 있는 일정을 동선을 고려하여 자세하게 추천해 주세요.\"\n",
    "\n",
    "#  Before 모델 실행\n",
    "before_response = before_chain.invoke({\"user_input\": test_question})\n",
    "\n",
    "#  After 모델 실행\n",
    "after_response = after_chain.invoke({\"user_input\": test_question})\n",
    "\n",
    "#  결과 출력\n",
    "print(\" [Before] 모델 결과\")\n",
    "print(before_response.content)\n",
    "print(\"\\n\" + \"=\"*80 + \"\\n\")  # 가독성을 위한 구분선\n",
    "print(\" [After] 모델 결과\")\n",
    "print(after_response.content)"
   ]
  },
  {
   "cell_type": "markdown",
   "metadata": {},
   "source": [
    "#### 2-2) 모델에 추가적인 파라미터를 전달\n",
    "- bind() 메서드를 사용\n",
    "- max_tokens=50 (기본) / max_tokens=150 (상세한 설명) \n",
    "- stop=[\".\"] → 첫 번째 마침표에서 응답을 중단\n",
    "- temperature=0.8 → 보다 창의적인 답변을 생성함"
   ]
  },
  {
   "cell_type": "code",
   "execution_count": 11,
   "metadata": {},
   "outputs": [
    {
     "name": "stdout",
     "output_type": "stream",
     "text": [
      "\n",
      " [Before] 기본 max_tokens=150 (기본 답변)\n",
      "### **1. Python에 익숙해지기**\n",
      "\n",
      "**목표:** Python 기초 문법과 변수 선언, 데이터 타입 이해하기\n",
      "\n",
      "*   **변수 선언:** Python은 변수 선언이 따로 필요 없지만, 변수명을 정할 때는 설명이 쉽고 간결한 이름을 사용하는 것이 좋습니다. 예를 들어 `num_students` 또는 `average_grade`와 같은 변수명을 사용할 수 있습니다.\n",
      "\n",
      "*   **데이터 타입:** Python의 기본 데이터 타입에는 정수(int), 실수(float), 문자열(str), 리스트(list), 딕셔너리(dict) 등이 있습니다. 초보자는 각 데이터 타입의 특징과 사용법을 이해하는 것이 중요합니다.\n",
      "\n",
      "*   **주석:** Python에서 코드를 설명하거나 실행하지 않으려는 경우에는\n",
      "\n",
      "====================================================================================================\n",
      "\n",
      " [After] max_tokens=150, stop=['.'] (첫 번째 마침표에서 응답 중단)\n",
      "### Python 배워보기\n",
      "\n",
      "*   **Step 1: Python의 기본 이해** *   **방법:** Python의 공식 홈페이지에서 다운로드 및 설치를 진행하고, 간단한 Python 코드를 실행해 보세요\n",
      "\n",
      "====================================================================================================\n",
      "\n",
      " [After] max_tokens=150, temperature=0.8 (창의적인 답변)\n",
      "### **Python 초보자를 위한 단계별 학습 가이드**\n",
      "\n",
      "1.  **기초 문법 학습** *   **학습 내용**: 변수, 자료형, 제어 구조(조건문, 반복문), 함수 *   **방법**: *   온라인 강의: Codecademy, Coursera, edX 등에서 제공되는 Python 기초 강의 활용 *   교재: 'Python Crash Course' 또는 'Automate the Boring Stuff with Python' 등 *   공식 문서: Python 공식 웹사이트의 튜토리얼 섹션 활용 *   **팁**: 기초 문법을 빠르게 익히기 위해 하루에 30분씩 꾸준히 연습하는 것이 좋습니다.\n",
      "\n",
      "2.  **실무 프로젝트 진행** *   **학습 내용**: 실제 문제\n"
     ]
    }
   ],
   "source": [
    "from langchain_openai import ChatOpenAI\n",
    "from langchain_core.prompts import ChatPromptTemplate\n",
    "\n",
    "#  프롬프트 설정 (천문학 질문에 대한 답변을 생성하는 시스템)\n",
    "prompt = ChatPromptTemplate.from_messages([\n",
    "    (\"system\", \"이 시스템은 천문학 질문에 대해 명확하고 자세한 답변을 제공할 수 있습니다.\"),\n",
    "    (\"user\", \"{user_input}\"),\n",
    "])\n",
    "\n",
    "#  기본 모델 설정 (기본적인 답변 생성)\n",
    "#base_model = ChatOpenAI(model=\"gpt-3.5-turbo-0125\", max_tokens=150)  # 150 토큰 제한\n",
    "base_model = ChatOpenAI(\n",
    "    #api_key=OPENAI_API_KEY,\n",
    "    base_url=\"https://api.groq.com/openai/v1\",  # Groq API 엔드포인트\n",
    "    model=\"meta-llama/llama-4-scout-17b-16e-instruct\",\n",
    "    max_tokens=150\n",
    ")\n",
    "\n",
    "#  질문 설정\n",
    "# 1. MAX_TOKENS 차이를 보여주는 질문 (길이 제한 효과)\n",
    "max_tokens_question = \"인공지능의 발전이 미래 사회에 미칠 영향을 긍정적 측면과 부정적 측면으로 나누어 자세히 설명해 주세요.\"\n",
    "\n",
    "# 2. STOP 파라미터 차이를 보여주는 질문 (중단점 효과)\n",
    "stop_question = \"Python 프로그래밍을 배우는 초보자에게 추천하는 학습 단계를 순서대로 설명해 주세요. 각 단계별로 구체적인 방법과 팁을 포함해서 답변해 주세요.\"\n",
    "\n",
    "# 3. TEMPERATURE 차이를 보여주는 질문 (창의성 vs 정확성)\n",
    "temperature_question = \"시간 여행이 가능하다면 과거의 어느 시대로 가고 싶은지와 그 이유를 창의적으로 설명해 주세요.\"\n",
    "\n",
    "# 4. 복합적 비교를 위한 질문 (모든 파라미터 효과)\n",
    "complex_question = \"화성에 인류가 정착하기 위해 필요한 기술과 준비사항들을 단계별로 설명하고, 각 단계에서 예상되는 도전과제와 해결방안을 제시해 주세요.\"\n",
    "\n",
    "\n",
    "question = stop_question\n",
    "\n",
    "#  Before (기본 max_tokens=150)\n",
    "messages = prompt.format_messages(user_input=question)\n",
    "before_answer = base_model.invoke(messages)\n",
    "\n",
    "#  Before 출력\n",
    "print(\"\\n [Before] 기본 max_tokens=150 (기본 답변)\")\n",
    "print(before_answer.content)\n",
    "\n",
    "print(\"\\n\" + \"=\"*100 + \"\\n\")  # 가독성을 위한 구분선\n",
    "\n",
    "#  After (파라미터 조정 후 비교)\n",
    "stop_chain = prompt | base_model.bind(max_tokens=150, stop=[\".\"])  # 첫 번째 마침표에서 중단\n",
    "temp_chain = prompt | base_model.bind(max_tokens=150, temperature=0.8)  # 창의적인 답변 유도\n",
    "\n",
    "stop_answer = stop_chain.invoke({\"user_input\": question})\n",
    "temp_answer = temp_chain.invoke({\"user_input\": question})\n",
    "\n",
    "#  After 출력 (stop vs temperature 비교)\n",
    "print(\" [After] max_tokens=150, stop=['.'] (첫 번째 마침표에서 응답 중단)\")\n",
    "print(stop_answer.content)\n",
    "\n",
    "print(\"\\n\" + \"=\"*100 + \"\\n\")  # 가독성을 위한 구분선\n",
    "\n",
    "print(\" [After] max_tokens=150, temperature=0.8 (창의적인 답변)\")\n",
    "print(temp_answer.content)"
   ]
  }
 ],
 "metadata": {
  "kernelspec": {
   "display_name": "base",
   "language": "python",
   "name": "python3"
  },
  "language_info": {
   "codemirror_mode": {
    "name": "ipython",
    "version": 3
   },
   "file_extension": ".py",
   "mimetype": "text/x-python",
   "name": "python",
   "nbconvert_exporter": "python",
   "pygments_lexer": "ipython3",
   "version": "3.12.7"
  }
 },
 "nbformat": 4,
 "nbformat_minor": 2
}
