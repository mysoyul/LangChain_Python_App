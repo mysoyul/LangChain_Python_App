{
 "cells": [
  {
   "cell_type": "markdown",
   "id": "1F5lTDp5UPf0",
   "metadata": {
    "id": "1F5lTDp5UPf0"
   },
   "source": [
    "### 1) 라이브러리 설치"
   ]
  },
  {
   "cell_type": "code",
   "execution_count": 1,
   "id": "4cd87a33-0a37-461b-8f37-3c142e60b1f6",
   "metadata": {
    "id": "4cd87a33-0a37-461b-8f37-3c142e60b1f6"
   },
   "outputs": [
    {
     "name": "stdout",
     "output_type": "stream",
     "text": [
      "Note: you may need to restart the kernel to use updated packages.\n"
     ]
    }
   ],
   "source": [
    "%pip install -q langchain langchain-openai langchain_community chromadb"
   ]
  },
  {
   "cell_type": "markdown",
   "id": "55152049-e9e5-4952-8e19-409f58cf3ac9",
   "metadata": {
    "id": "55152049-e9e5-4952-8e19-409f58cf3ac9"
   },
   "source": [
    "### 2) OpenAI 인증키 설정\n",
    "https://openai.com/"
   ]
  },
  {
   "cell_type": "code",
   "execution_count": 2,
   "id": "b76f68a8-4745-4377-8057-6090b87377d1",
   "metadata": {
    "id": "b76f68a8-4745-4377-8057-6090b87377d1"
   },
   "outputs": [
    {
     "data": {
      "text/plain": [
       "True"
      ]
     },
     "execution_count": 2,
     "metadata": {},
     "output_type": "execute_result"
    }
   ],
   "source": [
    "from dotenv import load_dotenv\n",
    "# .env 파일을 불러와서 환경 변수로 설정\n",
    "load_dotenv()"
   ]
  },
  {
   "cell_type": "markdown",
   "id": "b4a9abc5",
   "metadata": {},
   "source": [
    "##### Chroma 간단한 예제\n",
    "* Chroma DB에 텍스트 파일을 저장하고 검색하는 코드"
   ]
  },
  {
   "cell_type": "code",
   "execution_count": null,
   "id": "d6f0430b",
   "metadata": {},
   "outputs": [
    {
     "name": "stdout",
     "output_type": "stream",
     "text": [
      "AI 문서 개수: 6\n",
      "금융 문서 개수: 5\n",
      "Chroma 데이터베이스 저장 완료!\n",
      " 저장된 벡터 개수: 11, 타입 <class 'list'>\n",
      "\n",
      "🔍 [Query]: Transformer 에 대해 설명해줘\n",
      "\n",
      "🔹 [Result 1]: Token (토큰)\n",
      "\n",
      "정의: 텍스트 데이터를 더 작은 단위(단어, 문자, 문장 등)로 나누는 과정.\n",
      "예시: \"AI는 혁신적이다\"를 [\"AI\", \"는\", \"혁신적\", \"이다\"]로 분할.\n",
      "연관 키워드: 토큰화, NLP, 텍스트 전처리\n",
      "\n",
      "Transformer (트랜스포머)\n",
      "\n",
      "정의: 자연어 처리에서 사용되는 신경망 아키텍처로, 병렬 연산과 장기 의존성 처리가 강점.\n",
      "예시: GPT, BERT 등의 모델이 트랜스포머 기반으로 동작함.\n",
      "연관 키워드: 딥러닝, 자기 주의 메커니즘, NLP\n",
      "\n",
      "Self-Attention (자기 주의 메커니즘)\n",
      "\n",
      "정의...\n",
      "\n",
      "🔹 [Result 2]: Earnings Per Share (주당순이익, EPS)\n",
      "\n",
      "정의: 기업이 벌어들인 순이익을 총 발행 주식 수로 나눈 값.\n",
      "예시: 애플의 EPS 증가로 인해 주가 상승 기대감이 커짐.\n",
      "연관 키워드: 기업 실적, 투자 판단, 주식 분석\n",
      "\n",
      "Interest Rate (이자율)\n",
      "\n",
      "정의: 돈을 빌릴 때 지불해야 하는 비용의 비율.\n",
      "예시: 연방준비제도(Fed)가 기준금리를 인상하면 대출 이자율도 상승함.\n",
      "연관 키워드: 중앙은행, 채권 시장, 경제 정책\n",
      "\n",
      "Inflation (인플레이션)\n",
      "\n",
      "정의: 물가가 전반적으로 지속해서 상승하는 경제 현상.\n",
      "예...\n",
      "\n",
      "\n",
      "🔍 [Query]: Hedge Fund 에 대해 설명해줘?\n",
      "\n",
      "🔹 [Result 1]: Mutual Fund (뮤추얼 펀드)\n",
      "\n",
      "정의: 여러 투자자의 자금을 모아 다양한 자산에 투자하는 펀드.\n",
      "예시: 뮤추얼 펀드는 분산 투자로 위험을 줄이는 데 도움을 줌.\n",
      "연관 키워드: 간접 투자, 포트폴리오, 펀드 매니저\n",
      "\n",
      "Hedge Fund (헤지펀드)\n",
      "\n",
      "정의: 공격적인 투자 전략을 사용하여 높은 수익을 추구하는 투자 펀드.\n",
      "예시: 헤지펀드는 공매도, 레버리지 등 다양한 전략을 활용함.\n",
      "연관 키워드: 고위험 투자, 적극적 운용, 레버리지\n",
      "\n",
      "Asset Allocation (자산 배분)\n",
      "\n",
      "정의: 투자 포트폴리오에서 주식, 채권, 현금 ...\n",
      "\n",
      "🔹 [Result 2]: Federal Reserve (연방준비제도, Fed)\n",
      "\n",
      "정의: 미국의 중앙은행으로, 금리 정책과 통화 공급을 조절함.\n",
      "예시: Fed가 금리를 인상하면 시장 유동성이 감소할 수 있음.\n",
      "연관 키워드: 금리, 통화정책, 경제 조정\n",
      "\n",
      "Bond (채권)\n",
      "\n",
      "정의: 정부나 기업이 자금을 조달하기 위해 발행하는 부채 증서로, 일정 기간 동안 이자를 지급하고 만기에 원금을 상환함.\n",
      "예시: 미국 국채는 안전한 투자 수단으로 간주됨.\n",
      "연관 키워드: 고정 수익, 투자, 금리\n",
      "\n",
      "Stock (주식)\n",
      "\n",
      "정의: 기업의 지분을 나타내며, 주식을 보유한 투자자는 ...\n",
      "\n"
     ]
    }
   ],
   "source": [
    "import os\n",
    "from dotenv import load_dotenv\n",
    "from langchain_community.document_loaders import TextLoader  # 텍스트 파일 로더\n",
    "from langchain_openai.embeddings import OpenAIEmbeddings  # OpenAI 임베딩 사용\n",
    "from langchain.text_splitter import RecursiveCharacterTextSplitter  # 텍스트 분할기\n",
    "from langchain_chroma import Chroma  # 벡터 DB (Chroma) 사용\n",
    "\n",
    "\n",
    "# 2. 벡터 데이터베이스 저장 경로 설정\n",
    "DB_PATH = \"./db/chroma_db\"\n",
    "\n",
    "# 3. 텍스트 파일을 로드하고 문서를 분할하는 함수 정의\n",
    "def load_and_split_text(file_path, splitter):\n",
    "    \"\"\"\n",
    "    주어진 텍스트 파일을 로드한 후, 설정된 Splitter를 사용하여 문서를 나누는 함수.\n",
    "    \n",
    "    Args:\n",
    "        file_path (str): 로드할 파일 경로\n",
    "        splitter (RecursiveCharacterTextSplitter): 텍스트 분할기 객체\n",
    "\n",
    "    Returns:\n",
    "        list: 분할된 문서 리스트\n",
    "    \"\"\"\n",
    "    if not os.path.exists(file_path):\n",
    "        print(f\" 파일을 찾을 수 없습니다: {file_path}\")\n",
    "        return []\n",
    "    \n",
    "    try:\n",
    "        loader = TextLoader(file_path)  # 텍스트 파일 로드\n",
    "        return loader.load_and_split(splitter)  # 분할하여 반환\n",
    "    except Exception as e:\n",
    "        print(f\" 파일 로드 오류 ({file_path}): {e}\")\n",
    "        return []\n",
    "\n",
    "# 4. 텍스트 분할기 설정 (600자 단위로 나누고, 100자 겹침 포함)\n",
    "text_splitter = RecursiveCharacterTextSplitter(chunk_size=600, chunk_overlap=100)\n",
    "\n",
    "# 5. 두 개의 텍스트 파일 로드 및 분할\n",
    "split_doc1 = load_and_split_text(\"data/ai-terminology.txt\", text_splitter)\n",
    "split_doc2 = load_and_split_text(\"data/finance-terminology.txt\", text_splitter)\n",
    "\n",
    "# 6. 문서 개수 출력\n",
    "print(f\"AI 문서 개수: {len(split_doc1)}\")\n",
    "print(f\"금융 문서 개수: {len(split_doc2)}\")\n",
    "\n",
    "# 7. 모든 문서 합치기\n",
    "all_documents = split_doc1 + split_doc2\n",
    "\n",
    "# 8. Chroma 벡터 DB 생성 및 저장\n",
    "try:\n",
    "    persist_db = Chroma.from_documents(\n",
    "        documents=all_documents,\n",
    "        embedding=OpenAIEmbeddings(),  # OpenAI Embeddings 사용\n",
    "        persist_directory=DB_PATH,  # 벡터 DB 저장 위치 지정\n",
    "        collection_name=\"my_vector_db\",  # 데이터베이스 컬렉션 이름\n",
    "    )\n",
    "    print(\"Chroma 데이터베이스 저장 완료!\")\n",
    "except Exception as e:\n",
    "    print(f\" Chroma 데이터베이스 저장 오류: {e}\")\n",
    "\n",
    "# 9. 저장된 데이터 확인\n",
    "try:\n",
    "    retrieved_docs = persist_db.get()  # Chroma DB에서 데이터 조회\n",
    "    print(f\" 저장된 벡터 개수: {len(retrieved_docs['ids'])}, 타입 {type(retrieved_docs['ids'])}\")\n",
    "except Exception as e:\n",
    "    print(f\" 데이터 조회 오류: {e}\")\n",
    "\n",
    "# 10. 유사도 검색 함수 정의\n",
    "def search_query(query, k=2):\n",
    "    \"\"\"\n",
    "    사용자 입력(query)에 대해 가장 유사한 문서를 검색하는 함수.\n",
    "\n",
    "    Args:\n",
    "        query (str): 검색할 문장 (예: \"Transformer 개념 설명\")\n",
    "        k (int, optional): 검색할 문서 개수. Defaults to 2.\n",
    "\n",
    "    Returns:\n",
    "        None: 검색 결과를 출력\n",
    "    \"\"\"\n",
    "    try:\n",
    "        results = persist_db.similarity_search(query, k=k)  # 유사도 검색 수행\n",
    "        print(f\"\\n [Query]: {query}\\n\")\n",
    "        for i, doc in enumerate(results):\n",
    "            print(f\"🔹 [Result {i+1}]: {doc.page_content[:300]}...\\n\")  # 검색 결과 출력\n",
    "    except Exception as e:\n",
    "        print(f\" 검색 오류: {e}\")\n",
    "\n",
    "# 11. 검색 테스트 실행\n",
    "search_query(\"Transformer 에 대해 설명해줘\", k=2)\n",
    "search_query(\"Hedge Fund 에 대해 설명해줘?\", k=2)\n"
   ]
  },
  {
   "cell_type": "markdown",
   "id": "d7d910ef",
   "metadata": {},
   "source": []
  }
 ],
 "metadata": {
  "colab": {
   "provenance": []
  },
  "kernelspec": {
   "display_name": "base",
   "language": "python",
   "name": "python3"
  },
  "language_info": {
   "codemirror_mode": {
    "name": "ipython",
    "version": 3
   },
   "file_extension": ".py",
   "mimetype": "text/x-python",
   "name": "python",
   "nbconvert_exporter": "python",
   "pygments_lexer": "ipython3",
   "version": "3.12.7"
  }
 },
 "nbformat": 4,
 "nbformat_minor": 5
}
