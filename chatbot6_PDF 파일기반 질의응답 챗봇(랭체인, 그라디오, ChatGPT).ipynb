{
 "cells": [
  {
   "cell_type": "markdown",
   "metadata": {
    "id": "u-KIIvQ5NKJP"
   },
   "source": [
    "PDF 파일기반 질의응답 챗봇 (랭체인, 그라디오, ChatGPT)"
   ]
  },
  {
   "cell_type": "code",
   "execution_count": 1,
   "metadata": {
    "colab": {
     "base_uri": "https://localhost:8080/"
    },
    "id": "GHgrhVbLnM6I",
    "outputId": "cd8a98a1-5a96-41f1-a643-7eac3418e186"
   },
   "outputs": [
    {
     "name": "stdout",
     "output_type": "stream",
     "text": [
      "Note: you may need to restart the kernel to use updated packages.\n",
      "Note: you may need to restart the kernel to use updated packages.\n",
      "Note: you may need to restart the kernel to use updated packages.\n"
     ]
    }
   ],
   "source": [
    "%pip install -q openai\n",
    "%pip install -q langchain\n",
    "%pip install -q -U langchain-openai"
   ]
  },
  {
   "cell_type": "code",
   "execution_count": 2,
   "metadata": {
    "id": "C5uYZQknXLDM"
   },
   "outputs": [
    {
     "data": {
      "text/plain": [
       "True"
      ]
     },
     "execution_count": 2,
     "metadata": {},
     "output_type": "execute_result"
    }
   ],
   "source": [
    "from dotenv import load_dotenv\n",
    "# .env 파일을 불러와서 환경 변수로 설정\n",
    "load_dotenv()"
   ]
  },
  {
   "cell_type": "code",
   "execution_count": 3,
   "metadata": {
    "colab": {
     "base_uri": "https://localhost:8080/",
     "height": 1000
    },
    "id": "lSX_ndLWHJqy",
    "outputId": "f09295ac-c9f0-41f2-b199-f32ad1dfc295"
   },
   "outputs": [
    {
     "name": "stdout",
     "output_type": "stream",
     "text": [
      "Note: you may need to restart the kernel to use updated packages.\n",
      "Note: you may need to restart the kernel to use updated packages.\n",
      "Note: you may need to restart the kernel to use updated packages.\n"
     ]
    }
   ],
   "source": [
    "%pip install -q pypdf\n",
    "%pip install -q chromadb\n",
    "%pip install -q tiktoken"
   ]
  },
  {
   "cell_type": "code",
   "execution_count": 5,
   "metadata": {
    "id": "5kZxXmSjQRHy"
   },
   "outputs": [],
   "source": [
    "from langchain.document_loaders import PyPDFLoader\n",
    "from langchain_openai import OpenAIEmbeddings\n",
    "from langchain.text_splitter import CharacterTextSplitter\n",
    "from langchain.vectorstores import Chroma"
   ]
  },
  {
   "cell_type": "code",
   "execution_count": null,
   "metadata": {
    "id": "7VgBZ49vQVzg"
   },
   "outputs": [],
   "source": [
    "# PDF 로드\n",
    "loader = PyPDFLoader(\"data/how-to-use-AI-in-6industries.pdf\")\n",
    "documents = loader.load()"
   ]
  },
  {
   "cell_type": "code",
   "execution_count": 7,
   "metadata": {
    "id": "7VgBZ49vQVzg"
   },
   "outputs": [],
   "source": [
    "# 텍스트 분할\n",
    "text_splitter = CharacterTextSplitter(chunk_size=1000, chunk_overlap=0)\n",
    "texts = text_splitter.split_documents(documents)"
   ]
  },
  {
   "cell_type": "code",
   "execution_count": 8,
   "metadata": {
    "id": "4otdIuNkT5b_"
   },
   "outputs": [],
   "source": [
    "# OpenAI Embeddings 적용\n",
    "embeddings = OpenAIEmbeddings()\n",
    "\n",
    "# Chroma 벡터 저장소 생성\n",
    "vector_store = Chroma.from_documents(texts, embeddings)\n",
    "# 벡터 저장소에서 검색하기\n",
    "# search_type=\"similarity\" 옵션은 retrieval 객체에서 유사성 검색을 사용하여 질문 vector와 가장 유사한 문장 vector를 선택함\n",
    "# search_kwargs 옵션은 vector 저장소에서 Prompt 2개의 텍스트 덩어리로 보내려는 것을 의미함\n",
    "retriever = vector_store.as_retriever(search_type=\"similarity\", search_kwargs={\"k\": 2})"
   ]
  },
  {
   "cell_type": "code",
   "execution_count": 49,
   "metadata": {},
   "outputs": [],
   "source": [
    "from langchain_openai import ChatOpenAI\n",
    "from langchain.chains import RetrievalQA\n",
    "\n",
    "# ChatOpenAI는 기본모델인  gpt-3.5-turbo 사용하고\n",
    "# temperature=0은 보수적인 지문에 대한 답변을 내고, temperature=1 다양한 답변을 낼 수 있음 \n",
    "llm = ChatOpenAI(model=\"gpt-3.5-turbo\", temperature=0)\n",
    "\n",
    "# RetrievalQA가 실질적인 RAG를 수행하는 객체\n",
    "chain = RetrievalQA.from_chain_type(\n",
    "    llm=llm,\n",
    "    chain_type=\"stuff\",\n",
    "    retriever=retriever,  # 기존 retriever 유지\n",
    "    return_source_documents=True\n",
    ")"
   ]
  },
  {
   "cell_type": "code",
   "execution_count": 16,
   "metadata": {
    "colab": {
     "base_uri": "https://localhost:8080/"
    },
    "id": "xDW1hZX3a_1w",
    "outputId": "045636e5-2c71-4234-e8bf-dddb206b4d0d"
   },
   "outputs": [
    {
     "name": "stdout",
     "output_type": "stream",
     "text": [
      "<class 'dict'>\n",
      "{'query': '언더라이팅', 'result': '언더라이팅(underwriting)은 보험사가 보험계약 인수 여부를 판단하는 최종 단계를 말합니다.', 'source_documents': [Document(metadata={'creationdate': '2023-08-10T15:32:26+09:00', 'creator': 'Adobe InDesign 18.3 (Windows)', 'keywords': '한국 딜로이트 그룹, 딜로이트, 딜로이트 인사이트, 딜로이트 보고서, 딜로이트 미래 전망, 미래 산업 전망, 인공지능 전략, AI', 'moddate': '2023-08-10T16:13:14+09:00', 'page': 36, 'page_label': '37', 'producer': 'Adobe PDF Library 17.0', 'source': 'how-to-use-AI-in-6industries.pdf', 'title': '인공지능(AI) 활용서 리포트', 'total_pages': 74, 'trapped': '/False'}, page_content='인공지능(AI) 활용서: 6대 산업별 AI 활용사례37\\n(3) 보험 언더라이팅 업무 고도화\\nAI와 머신러닝을  사용하여  언더라이팅  프로세스  및 위험 평가를  개선하고 , 의사 결정 시간을  단축하며 , 고객 경험 및 가입률을  개선할  \\n수 있다.\\n이슈 및 개선 기회\\n많은 보험사들이  지난 몇 년 동안 고객 온보딩과  보험계약을  디지털화하기  위해 상당한  투자를  해왔음에도  불구하고 , 언더라이팅  현대화를  \\n실질적으로  확장하지  못해 디지털화는  느리고  점진적으로  진행되고  있다.\\nAI가 지원하는 방식\\n █언더라이팅  프로세스의  자동화\\n텍스트  마이닝 (text mining) 과 자연어  처리를  사용하여  사람의  개입이  필요하지  않은 자동화된  언더라이팅  플랫폼을  구현할  수 있으며 , \\n이를 통해 보험 신청서  처리에  소요되는  시간을  크게 단축시킬  수 있다. \\n █더 간편하고  사용자  친화적인  보험가입\\n머신러닝  모델을  사용하면  보험사가  기존보다  적은 정보로도  위험을  정확하게  평가할  수 다. 이에 따라 보험 신청 절차가  간소화되고  \\n자극적  테스트와  질문이  사라져  사용자  친화적인  프로세스가  가능해진다 .\\n █위험 평가의  간소화\\n머신러닝  모델을  사용하면  보험사가  기존보다  적은 정보로도  위험을  정확하게  평가할  수 다. 이에 따라 보험 신청 절차가  간소화되고  \\n자극적  테스트와  질문이  사라져  사용자  친화적인  프로세스가  가능해진다 .\\n █프로세스  개선 가속화\\nAI를 통해 보험 회사는  데이터가  보강하고  디지털  방식으로  구현되는  상품 구매 여정의  개발 및 도입을  가속화할  수 있다.\\n █비용 절감 및 마진 증가\\nAI는 언더라이팅  프로세스를  자동화하고  설문조사를  수동으로  접촉하는  부분을  간소화하는  데 사용될  수 있다. 이를 통해 언더라이팅에  \\n소요되는  비용을  줄이고 , 마진을  개선해  비즈니스를  성장 및 확장하는  데 활용할  수 있다.실현 가능한 이익'), Document(metadata={'creationdate': '2023-08-10T15:32:26+09:00', 'creator': 'Adobe InDesign 18.3 (Windows)', 'keywords': '한국 딜로이트 그룹, 딜로이트, 딜로이트 인사이트, 딜로이트 보고서, 딜로이트 미래 전망, 미래 산업 전망, 인공지능 전략, AI', 'moddate': '2023-08-10T16:13:14+09:00', 'page': 68, 'page_label': '69', 'producer': 'Adobe PDF Library 17.0', 'source': 'how-to-use-AI-in-6industries.pdf', 'title': '인공지능(AI) 활용서 리포트', 'total_pages': 74, 'trapped': '/False'}, page_content='인공지능(AI) 활용서: 6대 산업별 AI 활용사례69\\n주석\\n1.\\t딜로이트  분석\\n2.\\t로보틱처리자동화 (RPA)는 업무 과정에  발생되는  데이터를  정형화하고  논리적으로  자동 수행하는  기술로 , 최종 사용자의  관점에서  규칙 기반 비즈니스  프\\n로세스로  설계되어  사람 대신 단순 반복 작업을  끊임없이  대량으로  수행한다\\n3.\\t딥페이크 (deepfake) 는 인공지능  기술을  이용해  진위 여부를  구별하기  어려운  가짜 이미지나  영상물을  뜻한다 .\\n4.\\t셀타워 (cell tower) 는 무선 통신업체의  네트워크  인프라를  설치할  수 있는 공간을  뜻한다 .\\n5.\\t플릿(fleet)은 자동차 , 트럭, 밴 등 상용 자동차부터  지게차 , 트레일러 , 작업 용도의  개인 차량, 항공기 (비행기 , 헬리콥터 ), 선박, 철도 차량뿐  아니라  컨테이너\\n와 트레일러 , 굴삭기  등 물류·운송에  사용되는  수단의  총체를  뜻한다 .\\n6. “Industry skeptical of pace of logistics tech adoption,” The Journal of Commerce, June 20, 2017.\\n7.\\t공 컨테이너  리포지셔닝 (empty repositioning) 은 수입국에  도착해  화물 적출 후 비어 있는 컨테이너를  필요한  곳에 효율적으로  배치하는  것을 의미한다 .\\n8. Market Share: Customer Experience and Relationship Management, Worldwide,” Gartner, 2018.\\n9.\\t옴니채널 (onmichannel) 은 소비자가  오프라인 ·온라인 ·모바일  등 여러 경로로  상품을  검색 및 구매할  수 있는 서비스를  뜻한다 .\\n10. “ Unlocking Performance,” Industry Week in collaboration with Emerson, accessed August 16, 2021.\\n11. “The Internet of Things, 2020,” Business Insider, March 6, 2020. \\n12.\\t언더라이팅 (underwriting) 은 보험사가  보험계약  인수 여부를  판단하는  최종 단계를  말한다 .\\n13. “Smile-to-pay: Chinese shoppers turn to facial payment technology,”The Guardian, September 4, 2019.\\n14.\\t딥웹(deep web) 은 포털의  검색 엔진으로  검색되지  않는 인터넷  공간을  말한다 .\\n15. “Scaling up AI across the life sciences value chain,” Deloitte Insights, 2020.\\n16.\\t인지\\t자동화(cognitive\\t automation)는\\t AI와\\t프로세스\\t 자동화\\t기술을\\t함께\\t사용하여\\t 비즈니스\\t 프로세스를\\t 자동화함으로써\\t 워크플로우를\\t 단순화하여\\t 운영\\t\\n효율성을\\t높인다.\\n17.\\t증례기록서 (Case Report Form, CRF) 란 각각의  시험대상자별로  임상 시험 계획서에서  요구한  정보를  기록하여  임상시험의뢰자에게  전달할  목적으로  인\\n쇄하거나  전자문서화한  문서를  말한다 . (국가법령정보센터 . 의약품  임상시험  관리기준 )\\n18.\\t단일 진실 공급원 (SSOT, single source of truth) 은 조직의  모든 지식에  대해 하나의  액세스  포인트를  제공하는  기능을  가리킨다 . (딜로이트 . Single \\nSource of Truth—Managing knowledge to achieve business goals)\\n19.\\t넛지(nudge)’는 원래 ‘(특히 팔꿈치로 ) 슬쩍 찌르다 ’ ‘주의를  환기시키다 ’라는 뜻의 영단어로  미국 시카고대의  행동경제학자  리처드  세일러 (Richard H. \\nThaler)와 법률가  캐스 선스타인 (Cass R. Sunstein) 이 공저한  《넛지 (Nudge)》란 책을 통해 널리 알려졌다 . ‘넛지(nudge)’는 원래 ‘(특히 팔꿈치로 ) 슬\\n쩍 찌르다 ’ ‘주의를  환기시키다 ’라는 뜻의 영단어로  미국 시카고대의  행동경제학자  리처드  세일러 (Richard H. Thaler) 와 법률가  캐스 선스타인 (Cass R. \\nSunstein) 이 공저한  《넛지 (Nudge)》란 책을 통해 널리 알려졌다 . 세일러와  선스타인은  책에서  ‘타인의  선택을  유도하는  부드러운  개입’이란 의미로  이 단어\\n를 사용했다 . 금지와  명령이  아닌 팔꿈치로  옆구리를  툭 치는 듯한 부드러운  권유로  타인의  바른 선택을  돕는 것이 넛지인  것이다 . (한경 경제용어사전 )\\n20.\\t오프라벨 (off-label) 마케팅은  제약사가  약품의  판매량을  늘리기  위해 정식 허가받지  않은 용도로  약을 사용하도록  권장하는  마케팅을  뜻한다 .\\n21.\\t단백질이나  DNA, RNA( 리복핵산 ), 대사 물질 등을 이용해  몸 안의 변화를  알아낼  수 있는 지표. 바이오마커를  활용하면  생명체의  정상 또는 병리적인  상태, \\n약물에  대한 반응 정도 등을 객관적으로  측정할  수 있다. 암을 비롯해  뇌졸중 , 치매 등 각종 난치병을  진단하기  위한 효과적  방식으로  각광받고  있다. 신약\\n개발과정에  반영할  수 있어 안전성확보는  물론 비용절감  효과까지  바라볼  수 있다. (한경 경제용어사전 )')]}\n"
     ]
    }
   ],
   "source": [
    "query = \"언더라이팅\"\n",
    "query_result = chain.invoke(query)\n",
    "print(type(query_result))\n",
    "print(query_result)"
   ]
  },
  {
   "cell_type": "code",
   "execution_count": 12,
   "metadata": {},
   "outputs": [
    {
     "data": {
      "text/plain": [
       "'언더라이팅(underwriting)은 보험사가 보험계약 인수 여부를 판단하는 최종 단계를 말합니다.'"
      ]
     },
     "execution_count": 12,
     "metadata": {},
     "output_type": "execute_result"
    }
   ],
   "source": [
    "query_result['result']"
   ]
  },
  {
   "cell_type": "code",
   "execution_count": 13,
   "metadata": {},
   "outputs": [
    {
     "name": "stdout",
     "output_type": "stream",
     "text": [
      "query\n",
      "result\n",
      "source_documents\n"
     ]
    }
   ],
   "source": [
    "for key in query_result.keys():\n",
    "    print(key)"
   ]
  },
  {
   "cell_type": "code",
   "execution_count": 14,
   "metadata": {},
   "outputs": [
    {
     "name": "stdout",
     "output_type": "stream",
     "text": [
      "<class 'list'>\n"
     ]
    },
    {
     "data": {
      "text/plain": [
       "langchain_core.documents.base.Document"
      ]
     },
     "execution_count": 14,
     "metadata": {},
     "output_type": "execute_result"
    }
   ],
   "source": [
    "print(type(query_result['source_documents']))\n",
    "type(query_result['source_documents'][0])"
   ]
  },
  {
   "cell_type": "code",
   "execution_count": 18,
   "metadata": {},
   "outputs": [
    {
     "name": "stdout",
     "output_type": "stream",
     "text": [
      "<class 'langchain_core.documents.base.Document'>\n",
      "<class 'dict'>\n",
      "{'id': None, 'metadata': {'creationdate': '2023-08-10T15:32:26+09:00', 'creator': 'Adobe InDesign 18.3 (Windows)', 'keywords': '한국 딜로이트 그룹, 딜로이트, 딜로이트 인사이트, 딜로이트 보고서, 딜로이트 미래 전망, 미래 산업 전망, 인공지능 전략, AI', 'moddate': '2023-08-10T16:13:14+09:00', 'page': 36, 'page_label': '37', 'producer': 'Adobe PDF Library 17.0', 'source': 'how-to-use-AI-in-6industries.pdf', 'title': '인공지능(AI) 활용서 리포트', 'total_pages': 74, 'trapped': '/False'}, 'page_content': '인공지능(AI) 활용서: 6대 산업별 AI 활용사례37\\n(3) 보험 언더라이팅 업무 고도화\\nAI와 머신러닝을  사용하여  언더라이팅  프로세스  및 위험 평가를  개선하고 , 의사 결정 시간을  단축하며 , 고객 경험 및 가입률을  개선할  \\n수 있다.\\n이슈 및 개선 기회\\n많은 보험사들이  지난 몇 년 동안 고객 온보딩과  보험계약을  디지털화하기  위해 상당한  투자를  해왔음에도  불구하고 , 언더라이팅  현대화를  \\n실질적으로  확장하지  못해 디지털화는  느리고  점진적으로  진행되고  있다.\\nAI가 지원하는 방식\\n █언더라이팅  프로세스의  자동화\\n텍스트  마이닝 (text mining) 과 자연어  처리를  사용하여  사람의  개입이  필요하지  않은 자동화된  언더라이팅  플랫폼을  구현할  수 있으며 , \\n이를 통해 보험 신청서  처리에  소요되는  시간을  크게 단축시킬  수 있다. \\n █더 간편하고  사용자  친화적인  보험가입\\n머신러닝  모델을  사용하면  보험사가  기존보다  적은 정보로도  위험을  정확하게  평가할  수 다. 이에 따라 보험 신청 절차가  간소화되고  \\n자극적  테스트와  질문이  사라져  사용자  친화적인  프로세스가  가능해진다 .\\n █위험 평가의  간소화\\n머신러닝  모델을  사용하면  보험사가  기존보다  적은 정보로도  위험을  정확하게  평가할  수 다. 이에 따라 보험 신청 절차가  간소화되고  \\n자극적  테스트와  질문이  사라져  사용자  친화적인  프로세스가  가능해진다 .\\n █프로세스  개선 가속화\\nAI를 통해 보험 회사는  데이터가  보강하고  디지털  방식으로  구현되는  상품 구매 여정의  개발 및 도입을  가속화할  수 있다.\\n █비용 절감 및 마진 증가\\nAI는 언더라이팅  프로세스를  자동화하고  설문조사를  수동으로  접촉하는  부분을  간소화하는  데 사용될  수 있다. 이를 통해 언더라이팅에  \\n소요되는  비용을  줄이고 , 마진을  개선해  비즈니스를  성장 및 확장하는  데 활용할  수 있다.실현 가능한 이익', 'type': 'Document'}\n"
     ]
    }
   ],
   "source": [
    "doc = query_result['source_documents'][0]\n",
    "print(type(doc))\n",
    "doc_dict = doc.model_dump()\n",
    "print(type(doc_dict))\n",
    "print(doc_dict)"
   ]
  },
  {
   "cell_type": "code",
   "execution_count": 43,
   "metadata": {},
   "outputs": [
    {
     "name": "stdout",
     "output_type": "stream",
     "text": [
      "id\n",
      "metadata\n",
      "page_content\n",
      "type\n"
     ]
    }
   ],
   "source": [
    "for k in doc_dict:\n",
    "    print(k)"
   ]
  },
  {
   "cell_type": "code",
   "execution_count": 19,
   "metadata": {
    "colab": {
     "base_uri": "https://localhost:8080/",
     "height": 108
    },
    "id": "Qr0_iNsLTb6y",
    "outputId": "495980f8-d3a4-4fc8-8d56-8e7872378528"
   },
   "outputs": [
    {
     "data": {
      "text/plain": [
       "'인공지능(AI) 활용서 리포트'"
      ]
     },
     "execution_count": 19,
     "metadata": {},
     "output_type": "execute_result"
    }
   ],
   "source": [
    "doc_dict['metadata']['title']"
   ]
  },
  {
   "cell_type": "code",
   "execution_count": 50,
   "metadata": {},
   "outputs": [
    {
     "name": "stdout",
     "output_type": "stream",
     "text": [
      "{'query': '소비자 부문 AI 활용사례 무엇인가요?', 'result': '소비자 부문에서의 AI 활용사례로는 비디오 콘텐츠 분석을 통한 데이터 수익화, 오디오/비디오 마이닝, 그리고 시청자 감정 감지를 통한 광고 분석 등이 있습니다. 이를 통해 기업들은 소비자들의 행동과 선호도를 더 잘 이해하고, 이를 바탕으로 맞춤형 서비스를 제공하거나 잠재적인 문제를 예방하는 데 활용할 수 있습니다.', 'source_documents': [Document(metadata={'creationdate': '2023-08-10T15:32:26+09:00', 'creator': 'Adobe InDesign 18.3 (Windows)', 'keywords': '한국 딜로이트 그룹, 딜로이트, 딜로이트 인사이트, 딜로이트 보고서, 딜로이트 미래 전망, 미래 산업 전망, 인공지능 전략, AI', 'moddate': '2023-08-10T16:13:14+09:00', 'page': 13, 'page_label': '14', 'producer': 'Adobe PDF Library 17.0', 'source': 'how-to-use-AI-in-6industries.pdf', 'title': '인공지능(AI) 활용서 리포트', 'total_pages': 74, 'trapped': '/False'}, page_content='인공지능(AI) 활용서: 6대 산업별 AI 활용사례14\\n02\\n소비자 부문 AI 활용서\\n소비자 (Consumer) 산업은  소비재부터  소매, 자동차 , 숙박, 외식, 여행, 이동과  수송(운송)까지 광범위한  부문을  포함한다 . 서로 별개\\n의 사업처럼  보이는  이들 부문은  고객인  소비자에게  상품과  서비스를  제공한다는  강력하고도  변치 않는 공통점이  있다. 그렇기에  현\\n재와 미래에  풀어야  할 비즈니스  과제 또한 공유한다 .\\n소비자  관련 기업들은  AI의 도움으로  운영 효율성을  끌어올리고  다양한  AI 활용사례를  십분 활용해  가치를  창출하고자  적극적으로  \\n방법을  모색하고  있다. 하지만  AI 도입과  성숙도  수준은  기업마다  매우 다르다 . 그 이유 또한 데이터  품질 및 복잡성에  따른 확장성  문\\n제, 조직 구성 및 인력 부족 문제, 신뢰 부족 문제 등 다양하다 .\\n그 중에서도  가장 공통적이면서도  해결하기  힘든 난제는  구상을  현실화해  규모를  키우는  것이다 . 소비자  관련 기업들  상당수는  대\\n규모 레거시 (legacy) 데이터  및 애널리틱스  플랫폼을  여전히  사용하고  있다. 뿐만 아니라  사업부문마다 , 심지어  프랜차이즈마다  데이\\n터 및 애널리틱스  운영과  권한 및 책임이  분산돼  있다. 이런 상황에서는  AI 시스템을  본격 도입하기가  쉽지 않다. 낡은 시스템과  분산\\n된 구조로  인해 비일관적이고  품질도  낮아 유용성이  떨어지는  데이터라는  문제가  발생하기  때문이다 . 이는 입력 데이터의  품질이  산\\n출물의  결과와  직결되는  극도로  데이터  집약적인  AI 시스템에게  커다란  문제가  될 수 있다.\\n또다른  공통적  문제는  사업부서와  IT부서 간 간극이다 . 이들이  상호 합을 맞추거나  통합하기가  좀체 어려운  것이다 . 대다수  소비\\n자 관련 기업에서  AI는 조직 내 별개의  부서에서만  운영하고  있다. 그것도  IT부서와  협조하지  않은 채로 운영하는  경우가  꽤 있다. 하\\n지만 AI 시스템을  대규모로  도입해  그 이점을  100% 활용하려면  사업부서와  IT부서가  뜻을 합쳐 통합적인  전환 계획을  수립하는  것\\n이 중요하다 .\\nAI에 대한 신뢰 부족 문제도  무시할  수 없다. AI가 무슨 일까지  할 수 있는지 , AI가 무슨 일까지  하도록  허용할  수 있는지에  대한 개\\n념이 아직 정립되지  않은 것이다 . 이 문제를  해결하려면  리더들이  각 팀과 지속적인  소통을  통해 AI 사용과  관련한  이들의  우려를  경\\n청하고  해소할  수 있도록  조직화된  변화관리  접근법을  마련해야  한다. AI에 대한 신뢰라는  중요한  비즈니스  요인을  기업들이  직접 통\\n제하지  못한다면 , 대규모  AI 시스템  도입은  실현하기  어려울  것이다 .\\n앞으로  기업과  소비자들이  AI 기술을  더욱 일상적으로  접하고  수용하게  되면서 , AI에 대한 신뢰를  구축하는  일은 갈수록  용이해질  \\n것이다 . AI를 성공적으로  도입하면 , AI가 무슨 일을 할 수 있는지에  대해 사람들이  더 잘 이해할  수 있게 되고, 이는 다시 AI 활용사례\\n의 규모와  범위를  확대하는  선순환이  형성된다 . 또한 AI의 학습 알고리즘과  솔루션의  도움을  받으면  과거보다  적은 노력을  들여도  통\\n찰력을  도출하고  중대한  결정을  이행할  수 있기 때문에  사업 운영이  전반적으로  개선된다 . 기업들은  이를 바탕으로  더욱 자신감을  가\\n지고 투자 수익을  증대하는  노력을  펼칠 수 있다.\\n앞으로  소비자  관련 기업들을  위해 일하는  AI 시스템은  상품 운송 방식을  바꾸고 , 모빌리티를  증강하고 , 인력 관리 방식을  전환하는  \\n일을 점차 자율적으로  수행함과  동시에  산업 생태계  구석구석과  상호 연결되어  가면서 , 사업 프로세스의  처음부터  끝까지  가치를  창\\n출하는  데 큰 역할을  하게 될 것이다 .\\n앞으로 기업과 소비자들이 AI 기술을 더욱 일상적으로 접하고 수용하게 되면서 AI에 대한 \\n신뢰를 구축하는 일은 갈수록 용이해질 것이다.'), Document(metadata={'creationdate': '2023-08-10T15:32:26+09:00', 'creator': 'Adobe InDesign 18.3 (Windows)', 'keywords': '한국 딜로이트 그룹, 딜로이트, 딜로이트 인사이트, 딜로이트 보고서, 딜로이트 미래 전망, 미래 산업 전망, 인공지능 전략, AI', 'moddate': '2023-08-10T16:13:14+09:00', 'page': 12, 'page_label': '13', 'producer': 'Adobe PDF Library 17.0', 'source': 'how-to-use-AI-in-6industries.pdf', 'title': '인공지능(AI) 활용서 리포트', 'total_pages': 74, 'trapped': '/False'}, page_content='인공지능(AI) 활용서: 6대 산업별 AI 활용사례13\\n비디오 콘텐츠 분석을 통한 데이터 수익화\\n컴퓨터  영상, 머신러닝 , 딥러닝을  활용해  비디오  콘텐츠를  정밀 분석한다 . \\nAI는 비디오  데이터의  분석을  자동화해 , 실시간으로  모니터링  및 트렌드  리포팅을  가능케한다 . 이는 비디오  데이터의  수익화를  촉진한다 . \\n예를 들어, 기업들은  AI를 활용해  소셜 미디어에  등장하는  비디오  데이터를  분석해 , 소비자들이  어떤 주제에  대해 이야기하고  어떤 감정을  \\n가지고  있는지 , 그리고  그들의  선호도는  무엇인지  이해할  수 있다. 이러한  인사이트는  적시에  소비자  맞춤형  서비스를  제공하고 , 고객이  겪을 \\n수 있는 잠재적  문제를  예방할  수 있다.\\n오디오/비디오 마이닝\\nAI를 활용해  오디오  및 비디오  데이터를  채굴하고  모니터링한다 .\\n스마트폰 , 소셜 미디어  시대에는  오디오  및 비디오  형태로  여러 가치 있는 데이터가  생성된다 . 음성 인식 및 딥러닝을  비롯한  AI 기술로  \\n오디오  및 비디오  콘텐츠를  구조화된  데이터로  변환할  수 있다. 이 데이터를  채굴해  다양하게  활용할  수 있다. 예를 들어, 고객 센터에서는  AI \\n솔루션을  통해 고객들의  비디오  이용 및  통화 데이터를  채굴해 , 잠재적  문제 개선에  도움이  되는 단서를  찾을 수 있다. 이는 고객 센터 운영, \\n직원 교육, 제품 설계 및 고객 충성도  제고에  이르기까지  다양한  분야의  고객경험  개선에  도움이  된다.[첨단기술 , 미디어  및 통신 부문 유망 AI 활용사례 ]\\n시청자 감정 감지를 통한 광고 분석\\nAI와 실내 센서를  사용해  시청자가  TV 광고에  어떻게  반응하는지  모니터링  및 분석한다 .\\n마케터들은  TV 시청자가  광고에  어떻게  반응할지  예측하기  위해 다양한  도구를  사용한다 . AI는 이러한  기능을  완전히  새로운  차원으로  \\n끌어올린다 . 시청자의  거실에  센서를  설치한  후, AI 기술을  활용해  센서 데이터를  실시간으로  기록, 분석함으로써  마케터는  특정 광고가  \\n시청자의  감정에  어떤 영향을  미치는지  정확하게  알 수 있다. 또한 시청자  인구 통계, 참여 수준과  같은 소중한  세부 정보를  얻을 수 있다.')]}\n"
     ]
    }
   ],
   "source": [
    "query = \"소비자 부문 AI 활용사례 무엇인가요?\"\n",
    "query_result = chain.invoke(query)\n",
    "print(query_result)"
   ]
  },
  {
   "cell_type": "code",
   "execution_count": 51,
   "metadata": {},
   "outputs": [
    {
     "name": "stdout",
     "output_type": "stream",
     "text": [
      "소비자 부문에서의 AI 활용사례로는 비디오 콘텐츠 분석을 통한 데이터 수익화, 오디오/비디오 마이닝, 그리고 시청자 감정 감지를 통한 광고 분석 등이 있습니다. 이를 통해 기업들은 소비자들의 행동과 선호도를 더 잘 이해하고, 이를 바탕으로 맞춤형 서비스를 제공하거나 잠재적인 문제를 예방하는 데 활용할 수 있습니다.\n"
     ]
    }
   ],
   "source": [
    "print(query_result['result'])"
   ]
  },
  {
   "cell_type": "code",
   "execution_count": 43,
   "metadata": {},
   "outputs": [],
   "source": [
    "from langchain.prompts import ChatPromptTemplate\n",
    "from langchain_openai import ChatOpenAI\n",
    "from langchain.chains import RetrievalQA\n",
    "\n",
    "system_template = \"\"\"Use the following pieces of context to answer the user's question shortly.\n",
    "Given the following summaries of a long document and a question, create a final answer with references (\"SOURCES\"), \n",
    "use \"SOURCES\" in capital letters regardless of the number of sources.\n",
    "If you don't know the answer, just say that \"I don't know\", don't try to make up an answer.\n",
    "----------------\n",
    "{summaries}\n",
    "\n",
    "You MUST answer in Korean and in Markdown format:\n",
    "\"\"\"\n",
    "\n",
    "prompt = ChatPromptTemplate.from_messages([\n",
    "    (\"system\", system_template),\n",
    "    (\"human\", \"{question}\")\n",
    "])\n"
   ]
  },
  {
   "cell_type": "code",
   "execution_count": 44,
   "metadata": {},
   "outputs": [],
   "source": [
    "\n",
    "chain_type_kwargs = {\n",
    "    \"prompt\": prompt,\n",
    "    \"document_variable_name\": \"summaries\",\n",
    "}\n",
    "\n",
    "llm = ChatOpenAI(model=\"gpt-3.5-turbo\", temperature=0)  # GPT-4를 사용하려면 model=\"gpt-4\"\n",
    "\n",
    "chain = RetrievalQA.from_chain_type(\n",
    "    llm=llm,\n",
    "    chain_type=\"stuff\",\n",
    "    retriever=retriever,\n",
    "    return_source_documents=True,\n",
    "    chain_type_kwargs=chain_type_kwargs,\n",
    "    input_key=\"question\"\n",
    ")\n"
   ]
  },
  {
   "cell_type": "code",
   "execution_count": 45,
   "metadata": {
    "colab": {
     "base_uri": "https://localhost:8080/"
    },
    "id": "pVdJrxN0TzwC",
    "outputId": "3c7b9031-8f8f-448d-e509-7cceafc109cd"
   },
   "outputs": [
    {
     "name": "stdout",
     "output_type": "stream",
     "text": [
      "<class 'dict'>\n",
      "{'question': '소비자 부문 AI 활용사례 무엇인가요?', 'result': '**소비자 부문 AI 활용사례**는 소비자와 관련된 기업들이 AI 기술을 활용하여 운영 효율성을 높이고 가치를 창출하는데 활용하는 사례들을 다룹니다. 이를 통해 기업들은 데이터 분석, 고객 서비스 개선, 마케팅 전략 수립, 비즈니스 프로세스 최적화 등 다양한 영역에서 AI를 적극적으로 활용하고 있습니다. 소비자 부문 AI 활용사례에 대한 자세한 내용은 **인공지능(AI) 활용서: 6대 산업별 AI 활용사례** 문서를 참고하시면 됩니다. \\n\\n**SOURCES:** 인공지능(AI) 활용서: 6대 산업별 AI 활용사례14', 'source_documents': [Document(metadata={'creationdate': '2023-08-10T15:32:26+09:00', 'creator': 'Adobe InDesign 18.3 (Windows)', 'keywords': '한국 딜로이트 그룹, 딜로이트, 딜로이트 인사이트, 딜로이트 보고서, 딜로이트 미래 전망, 미래 산업 전망, 인공지능 전략, AI', 'moddate': '2023-08-10T16:13:14+09:00', 'page': 13, 'page_label': '14', 'producer': 'Adobe PDF Library 17.0', 'source': 'how-to-use-AI-in-6industries.pdf', 'title': '인공지능(AI) 활용서 리포트', 'total_pages': 74, 'trapped': '/False'}, page_content='인공지능(AI) 활용서: 6대 산업별 AI 활용사례14\\n02\\n소비자 부문 AI 활용서\\n소비자 (Consumer) 산업은  소비재부터  소매, 자동차 , 숙박, 외식, 여행, 이동과  수송(운송)까지 광범위한  부문을  포함한다 . 서로 별개\\n의 사업처럼  보이는  이들 부문은  고객인  소비자에게  상품과  서비스를  제공한다는  강력하고도  변치 않는 공통점이  있다. 그렇기에  현\\n재와 미래에  풀어야  할 비즈니스  과제 또한 공유한다 .\\n소비자  관련 기업들은  AI의 도움으로  운영 효율성을  끌어올리고  다양한  AI 활용사례를  십분 활용해  가치를  창출하고자  적극적으로  \\n방법을  모색하고  있다. 하지만  AI 도입과  성숙도  수준은  기업마다  매우 다르다 . 그 이유 또한 데이터  품질 및 복잡성에  따른 확장성  문\\n제, 조직 구성 및 인력 부족 문제, 신뢰 부족 문제 등 다양하다 .\\n그 중에서도  가장 공통적이면서도  해결하기  힘든 난제는  구상을  현실화해  규모를  키우는  것이다 . 소비자  관련 기업들  상당수는  대\\n규모 레거시 (legacy) 데이터  및 애널리틱스  플랫폼을  여전히  사용하고  있다. 뿐만 아니라  사업부문마다 , 심지어  프랜차이즈마다  데이\\n터 및 애널리틱스  운영과  권한 및 책임이  분산돼  있다. 이런 상황에서는  AI 시스템을  본격 도입하기가  쉽지 않다. 낡은 시스템과  분산\\n된 구조로  인해 비일관적이고  품질도  낮아 유용성이  떨어지는  데이터라는  문제가  발생하기  때문이다 . 이는 입력 데이터의  품질이  산\\n출물의  결과와  직결되는  극도로  데이터  집약적인  AI 시스템에게  커다란  문제가  될 수 있다.\\n또다른  공통적  문제는  사업부서와  IT부서 간 간극이다 . 이들이  상호 합을 맞추거나  통합하기가  좀체 어려운  것이다 . 대다수  소비\\n자 관련 기업에서  AI는 조직 내 별개의  부서에서만  운영하고  있다. 그것도  IT부서와  협조하지  않은 채로 운영하는  경우가  꽤 있다. 하\\n지만 AI 시스템을  대규모로  도입해  그 이점을  100% 활용하려면  사업부서와  IT부서가  뜻을 합쳐 통합적인  전환 계획을  수립하는  것\\n이 중요하다 .\\nAI에 대한 신뢰 부족 문제도  무시할  수 없다. AI가 무슨 일까지  할 수 있는지 , AI가 무슨 일까지  하도록  허용할  수 있는지에  대한 개\\n념이 아직 정립되지  않은 것이다 . 이 문제를  해결하려면  리더들이  각 팀과 지속적인  소통을  통해 AI 사용과  관련한  이들의  우려를  경\\n청하고  해소할  수 있도록  조직화된  변화관리  접근법을  마련해야  한다. AI에 대한 신뢰라는  중요한  비즈니스  요인을  기업들이  직접 통\\n제하지  못한다면 , 대규모  AI 시스템  도입은  실현하기  어려울  것이다 .\\n앞으로  기업과  소비자들이  AI 기술을  더욱 일상적으로  접하고  수용하게  되면서 , AI에 대한 신뢰를  구축하는  일은 갈수록  용이해질  \\n것이다 . AI를 성공적으로  도입하면 , AI가 무슨 일을 할 수 있는지에  대해 사람들이  더 잘 이해할  수 있게 되고, 이는 다시 AI 활용사례\\n의 규모와  범위를  확대하는  선순환이  형성된다 . 또한 AI의 학습 알고리즘과  솔루션의  도움을  받으면  과거보다  적은 노력을  들여도  통\\n찰력을  도출하고  중대한  결정을  이행할  수 있기 때문에  사업 운영이  전반적으로  개선된다 . 기업들은  이를 바탕으로  더욱 자신감을  가\\n지고 투자 수익을  증대하는  노력을  펼칠 수 있다.\\n앞으로  소비자  관련 기업들을  위해 일하는  AI 시스템은  상품 운송 방식을  바꾸고 , 모빌리티를  증강하고 , 인력 관리 방식을  전환하는  \\n일을 점차 자율적으로  수행함과  동시에  산업 생태계  구석구석과  상호 연결되어  가면서 , 사업 프로세스의  처음부터  끝까지  가치를  창\\n출하는  데 큰 역할을  하게 될 것이다 .\\n앞으로 기업과 소비자들이 AI 기술을 더욱 일상적으로 접하고 수용하게 되면서 AI에 대한 \\n신뢰를 구축하는 일은 갈수록 용이해질 것이다.'), Document(metadata={'creationdate': '2023-08-10T15:32:26+09:00', 'creator': 'Adobe InDesign 18.3 (Windows)', 'keywords': '한국 딜로이트 그룹, 딜로이트, 딜로이트 인사이트, 딜로이트 보고서, 딜로이트 미래 전망, 미래 산업 전망, 인공지능 전략, AI', 'moddate': '2023-08-10T16:13:14+09:00', 'page': 12, 'page_label': '13', 'producer': 'Adobe PDF Library 17.0', 'source': 'how-to-use-AI-in-6industries.pdf', 'title': '인공지능(AI) 활용서 리포트', 'total_pages': 74, 'trapped': '/False'}, page_content='인공지능(AI) 활용서: 6대 산업별 AI 활용사례13\\n비디오 콘텐츠 분석을 통한 데이터 수익화\\n컴퓨터  영상, 머신러닝 , 딥러닝을  활용해  비디오  콘텐츠를  정밀 분석한다 . \\nAI는 비디오  데이터의  분석을  자동화해 , 실시간으로  모니터링  및 트렌드  리포팅을  가능케한다 . 이는 비디오  데이터의  수익화를  촉진한다 . \\n예를 들어, 기업들은  AI를 활용해  소셜 미디어에  등장하는  비디오  데이터를  분석해 , 소비자들이  어떤 주제에  대해 이야기하고  어떤 감정을  \\n가지고  있는지 , 그리고  그들의  선호도는  무엇인지  이해할  수 있다. 이러한  인사이트는  적시에  소비자  맞춤형  서비스를  제공하고 , 고객이  겪을 \\n수 있는 잠재적  문제를  예방할  수 있다.\\n오디오/비디오 마이닝\\nAI를 활용해  오디오  및 비디오  데이터를  채굴하고  모니터링한다 .\\n스마트폰 , 소셜 미디어  시대에는  오디오  및 비디오  형태로  여러 가치 있는 데이터가  생성된다 . 음성 인식 및 딥러닝을  비롯한  AI 기술로  \\n오디오  및 비디오  콘텐츠를  구조화된  데이터로  변환할  수 있다. 이 데이터를  채굴해  다양하게  활용할  수 있다. 예를 들어, 고객 센터에서는  AI \\n솔루션을  통해 고객들의  비디오  이용 및  통화 데이터를  채굴해 , 잠재적  문제 개선에  도움이  되는 단서를  찾을 수 있다. 이는 고객 센터 운영, \\n직원 교육, 제품 설계 및 고객 충성도  제고에  이르기까지  다양한  분야의  고객경험  개선에  도움이  된다.[첨단기술 , 미디어  및 통신 부문 유망 AI 활용사례 ]\\n시청자 감정 감지를 통한 광고 분석\\nAI와 실내 센서를  사용해  시청자가  TV 광고에  어떻게  반응하는지  모니터링  및 분석한다 .\\n마케터들은  TV 시청자가  광고에  어떻게  반응할지  예측하기  위해 다양한  도구를  사용한다 . AI는 이러한  기능을  완전히  새로운  차원으로  \\n끌어올린다 . 시청자의  거실에  센서를  설치한  후, AI 기술을  활용해  센서 데이터를  실시간으로  기록, 분석함으로써  마케터는  특정 광고가  \\n시청자의  감정에  어떤 영향을  미치는지  정확하게  알 수 있다. 또한 시청자  인구 통계, 참여 수준과  같은 소중한  세부 정보를  얻을 수 있다.')]}\n"
     ]
    }
   ],
   "source": [
    "query = \"소비자 부문 AI 활용사례 무엇인가요?\"\n",
    "query_result = chain.invoke({\"question\": query})\n",
    "print(type(query_result))\n",
    "print(query_result)"
   ]
  },
  {
   "cell_type": "code",
   "execution_count": 46,
   "metadata": {
    "colab": {
     "base_uri": "https://localhost:8080/",
     "height": 108
    },
    "id": "cM3DcAF4Uqvh",
    "outputId": "282386ab-9a3c-4c16-da35-179ae8f250c2"
   },
   "outputs": [
    {
     "name": "stdout",
     "output_type": "stream",
     "text": [
      "**소비자 부문 AI 활용사례**는 소비자와 관련된 기업들이 AI 기술을 활용하여 운영 효율성을 높이고 가치를 창출하는데 활용하는 사례들을 다룹니다. 이를 통해 기업들은 데이터 분석, 고객 서비스 개선, 마케팅 전략 수립, 비즈니스 프로세스 최적화 등 다양한 영역에서 AI를 적극적으로 활용하고 있습니다. 소비자 부문 AI 활용사례에 대한 자세한 내용은 **인공지능(AI) 활용서: 6대 산업별 AI 활용사례** 문서를 참고하시면 됩니다. \n",
      "\n",
      "**SOURCES:** 인공지능(AI) 활용서: 6대 산업별 AI 활용사례14\n"
     ]
    }
   ],
   "source": [
    "print(query_result['result'])"
   ]
  },
  {
   "cell_type": "code",
   "execution_count": 32,
   "metadata": {
    "colab": {
     "base_uri": "https://localhost:8080/"
    },
    "id": "TxNF1I2pUzIv",
    "outputId": "475500a9-42d5-42bf-ff62-e6d07a7d0806"
   },
   "outputs": [
    {
     "data": {
      "text/plain": [
       "[Document(metadata={'creationdate': '2023-08-10T15:32:26+09:00', 'creator': 'Adobe InDesign 18.3 (Windows)', 'keywords': '한국 딜로이트 그룹, 딜로이트, 딜로이트 인사이트, 딜로이트 보고서, 딜로이트 미래 전망, 미래 산업 전망, 인공지능 전략, AI', 'moddate': '2023-08-10T16:13:14+09:00', 'page': 13, 'page_label': '14', 'producer': 'Adobe PDF Library 17.0', 'source': 'how-to-use-AI-in-6industries.pdf', 'title': '인공지능(AI) 활용서 리포트', 'total_pages': 74, 'trapped': '/False'}, page_content='인공지능(AI) 활용서: 6대 산업별 AI 활용사례14\\n02\\n소비자 부문 AI 활용서\\n소비자 (Consumer) 산업은  소비재부터  소매, 자동차 , 숙박, 외식, 여행, 이동과  수송(운송)까지 광범위한  부문을  포함한다 . 서로 별개\\n의 사업처럼  보이는  이들 부문은  고객인  소비자에게  상품과  서비스를  제공한다는  강력하고도  변치 않는 공통점이  있다. 그렇기에  현\\n재와 미래에  풀어야  할 비즈니스  과제 또한 공유한다 .\\n소비자  관련 기업들은  AI의 도움으로  운영 효율성을  끌어올리고  다양한  AI 활용사례를  십분 활용해  가치를  창출하고자  적극적으로  \\n방법을  모색하고  있다. 하지만  AI 도입과  성숙도  수준은  기업마다  매우 다르다 . 그 이유 또한 데이터  품질 및 복잡성에  따른 확장성  문\\n제, 조직 구성 및 인력 부족 문제, 신뢰 부족 문제 등 다양하다 .\\n그 중에서도  가장 공통적이면서도  해결하기  힘든 난제는  구상을  현실화해  규모를  키우는  것이다 . 소비자  관련 기업들  상당수는  대\\n규모 레거시 (legacy) 데이터  및 애널리틱스  플랫폼을  여전히  사용하고  있다. 뿐만 아니라  사업부문마다 , 심지어  프랜차이즈마다  데이\\n터 및 애널리틱스  운영과  권한 및 책임이  분산돼  있다. 이런 상황에서는  AI 시스템을  본격 도입하기가  쉽지 않다. 낡은 시스템과  분산\\n된 구조로  인해 비일관적이고  품질도  낮아 유용성이  떨어지는  데이터라는  문제가  발생하기  때문이다 . 이는 입력 데이터의  품질이  산\\n출물의  결과와  직결되는  극도로  데이터  집약적인  AI 시스템에게  커다란  문제가  될 수 있다.\\n또다른  공통적  문제는  사업부서와  IT부서 간 간극이다 . 이들이  상호 합을 맞추거나  통합하기가  좀체 어려운  것이다 . 대다수  소비\\n자 관련 기업에서  AI는 조직 내 별개의  부서에서만  운영하고  있다. 그것도  IT부서와  협조하지  않은 채로 운영하는  경우가  꽤 있다. 하\\n지만 AI 시스템을  대규모로  도입해  그 이점을  100% 활용하려면  사업부서와  IT부서가  뜻을 합쳐 통합적인  전환 계획을  수립하는  것\\n이 중요하다 .\\nAI에 대한 신뢰 부족 문제도  무시할  수 없다. AI가 무슨 일까지  할 수 있는지 , AI가 무슨 일까지  하도록  허용할  수 있는지에  대한 개\\n념이 아직 정립되지  않은 것이다 . 이 문제를  해결하려면  리더들이  각 팀과 지속적인  소통을  통해 AI 사용과  관련한  이들의  우려를  경\\n청하고  해소할  수 있도록  조직화된  변화관리  접근법을  마련해야  한다. AI에 대한 신뢰라는  중요한  비즈니스  요인을  기업들이  직접 통\\n제하지  못한다면 , 대규모  AI 시스템  도입은  실현하기  어려울  것이다 .\\n앞으로  기업과  소비자들이  AI 기술을  더욱 일상적으로  접하고  수용하게  되면서 , AI에 대한 신뢰를  구축하는  일은 갈수록  용이해질  \\n것이다 . AI를 성공적으로  도입하면 , AI가 무슨 일을 할 수 있는지에  대해 사람들이  더 잘 이해할  수 있게 되고, 이는 다시 AI 활용사례\\n의 규모와  범위를  확대하는  선순환이  형성된다 . 또한 AI의 학습 알고리즘과  솔루션의  도움을  받으면  과거보다  적은 노력을  들여도  통\\n찰력을  도출하고  중대한  결정을  이행할  수 있기 때문에  사업 운영이  전반적으로  개선된다 . 기업들은  이를 바탕으로  더욱 자신감을  가\\n지고 투자 수익을  증대하는  노력을  펼칠 수 있다.\\n앞으로  소비자  관련 기업들을  위해 일하는  AI 시스템은  상품 운송 방식을  바꾸고 , 모빌리티를  증강하고 , 인력 관리 방식을  전환하는  \\n일을 점차 자율적으로  수행함과  동시에  산업 생태계  구석구석과  상호 연결되어  가면서 , 사업 프로세스의  처음부터  끝까지  가치를  창\\n출하는  데 큰 역할을  하게 될 것이다 .\\n앞으로 기업과 소비자들이 AI 기술을 더욱 일상적으로 접하고 수용하게 되면서 AI에 대한 \\n신뢰를 구축하는 일은 갈수록 용이해질 것이다.'),\n",
       " Document(metadata={'creationdate': '2023-08-10T15:32:26+09:00', 'creator': 'Adobe InDesign 18.3 (Windows)', 'keywords': '한국 딜로이트 그룹, 딜로이트, 딜로이트 인사이트, 딜로이트 보고서, 딜로이트 미래 전망, 미래 산업 전망, 인공지능 전략, AI', 'moddate': '2023-08-10T16:13:14+09:00', 'page': 12, 'page_label': '13', 'producer': 'Adobe PDF Library 17.0', 'source': 'how-to-use-AI-in-6industries.pdf', 'title': '인공지능(AI) 활용서 리포트', 'total_pages': 74, 'trapped': '/False'}, page_content='인공지능(AI) 활용서: 6대 산업별 AI 활용사례13\\n비디오 콘텐츠 분석을 통한 데이터 수익화\\n컴퓨터  영상, 머신러닝 , 딥러닝을  활용해  비디오  콘텐츠를  정밀 분석한다 . \\nAI는 비디오  데이터의  분석을  자동화해 , 실시간으로  모니터링  및 트렌드  리포팅을  가능케한다 . 이는 비디오  데이터의  수익화를  촉진한다 . \\n예를 들어, 기업들은  AI를 활용해  소셜 미디어에  등장하는  비디오  데이터를  분석해 , 소비자들이  어떤 주제에  대해 이야기하고  어떤 감정을  \\n가지고  있는지 , 그리고  그들의  선호도는  무엇인지  이해할  수 있다. 이러한  인사이트는  적시에  소비자  맞춤형  서비스를  제공하고 , 고객이  겪을 \\n수 있는 잠재적  문제를  예방할  수 있다.\\n오디오/비디오 마이닝\\nAI를 활용해  오디오  및 비디오  데이터를  채굴하고  모니터링한다 .\\n스마트폰 , 소셜 미디어  시대에는  오디오  및 비디오  형태로  여러 가치 있는 데이터가  생성된다 . 음성 인식 및 딥러닝을  비롯한  AI 기술로  \\n오디오  및 비디오  콘텐츠를  구조화된  데이터로  변환할  수 있다. 이 데이터를  채굴해  다양하게  활용할  수 있다. 예를 들어, 고객 센터에서는  AI \\n솔루션을  통해 고객들의  비디오  이용 및  통화 데이터를  채굴해 , 잠재적  문제 개선에  도움이  되는 단서를  찾을 수 있다. 이는 고객 센터 운영, \\n직원 교육, 제품 설계 및 고객 충성도  제고에  이르기까지  다양한  분야의  고객경험  개선에  도움이  된다.[첨단기술 , 미디어  및 통신 부문 유망 AI 활용사례 ]\\n시청자 감정 감지를 통한 광고 분석\\nAI와 실내 센서를  사용해  시청자가  TV 광고에  어떻게  반응하는지  모니터링  및 분석한다 .\\n마케터들은  TV 시청자가  광고에  어떻게  반응할지  예측하기  위해 다양한  도구를  사용한다 . AI는 이러한  기능을  완전히  새로운  차원으로  \\n끌어올린다 . 시청자의  거실에  센서를  설치한  후, AI 기술을  활용해  센서 데이터를  실시간으로  기록, 분석함으로써  마케터는  특정 광고가  \\n시청자의  감정에  어떤 영향을  미치는지  정확하게  알 수 있다. 또한 시청자  인구 통계, 참여 수준과  같은 소중한  세부 정보를  얻을 수 있다.')]"
      ]
     },
     "execution_count": 32,
     "metadata": {},
     "output_type": "execute_result"
    }
   ],
   "source": [
    "query_result['source_documents']"
   ]
  },
  {
   "cell_type": "code",
   "execution_count": 33,
   "metadata": {
    "colab": {
     "base_uri": "https://localhost:8080/"
    },
    "id": "sSOqIBzXU6f_",
    "outputId": "181d4cbc-166f-4a44-b291-e8b731a7a997"
   },
   "outputs": [
    {
     "name": "stdout",
     "output_type": "stream",
     "text": [
      "내용 : 인공지능(AI) 활용서: 6대 산업별 AI 활용사례14 02 소비자 부문 AI 활용서 소비자 (Consumer) 산업은  소비재부터  소매, 자동차 , 숙박, 외식, 여행, 이동과\n",
      "파일 : how-to-use-AI-in-6industries.pdf\n",
      "페이지 : 13\n",
      "내용 : 인공지능(AI) 활용서: 6대 산업별 AI 활용사례13 비디오 콘텐츠 분석을 통한 데이터 수익화 컴퓨터  영상, 머신러닝 , 딥러닝을  활용해  비디오  콘텐츠를  정밀 분석한다 \n",
      "파일 : how-to-use-AI-in-6industries.pdf\n",
      "페이지 : 12\n"
     ]
    }
   ],
   "source": [
    "for doc in query_result['source_documents']:\n",
    "    print('내용 : ' + doc.page_content[0:100].replace('\\n', ' '))\n",
    "    print('파일 : ' + doc.metadata['source'])\n",
    "    print('페이지 : ' + str(doc.metadata['page']))"
   ]
  },
  {
   "cell_type": "code",
   "execution_count": 34,
   "metadata": {},
   "outputs": [
    {
     "name": "stdout",
     "output_type": "stream",
     "text": [
      "**소비자 부문 AI 활용사례**는 소비자 산업에서 AI 기술을 활용하여 운영 효율성을 높이고 가치를 창출하는 사례를 말합니다. 예를 들어, 소셜 미디어에 등장하는 비디오 데이터를 분석하여 소비자들의 관심사 및 감정을 이해하고, 이를 토대로 맞춤형 서비스를 제공하는 것이 있습니다. 또한, AI를 통해 오디오 및 비디오 데이터를 채굴하고 분석하여 고객 센터 운영이나 고객 경험 개선에 활용하는 것도 소비자 부문 AI 활용사례 중 하나입니다.\n",
      "\n",
      "**SOURCES**\n",
      "인공지능(AI) 활용서: 6대 산업별 AI 활용사례14[1] how-to-use-AI-in-6industries.pdf(13) \n",
      "**소비자 부문 AI 활용사례**는 소비자 산업에서 AI 기술을 활용하여 운영 효율성을 높이고 가치를 창출하는 사례를 말합니다. 예를 들어, 소셜 미디어에 등장하는 비디오 데이터를 분석하여 소비자들의 관심사 및 감정을 이해하고, 이를 토대로 맞춤형 서비스를 제공하는 것이 있습니다. 또한, AI를 통해 오디오 및 비디오 데이터를 채굴하고 분석하여 고객 센터 운영이나 고객 경험 개선에 활용하는 것도 소비자 부문 AI 활용사례 중 하나입니다.\n",
      "\n",
      "**SOURCES**\n",
      "인공지능(AI) 활용서: 6대 산업별 AI 활용사례14[1] how-to-use-AI-in-6industries.pdf(13) [2] how-to-use-AI-in-6industries.pdf(12) \n"
     ]
    }
   ],
   "source": [
    "bot_message = query_result['result']\n",
    "for i, doc in enumerate(query_result['source_documents']):\n",
    "    bot_message += '[' + str(i+1) + '] ' + doc.metadata['source'] + '(' + str(doc.metadata['page']) + ') '\n",
    "    print(bot_message)"
   ]
  },
  {
   "cell_type": "code",
   "execution_count": 17,
   "metadata": {
    "colab": {
     "base_uri": "https://localhost:8080/"
    },
    "id": "VHPK_8ZWHCRb",
    "outputId": "d3e45ebd-182c-4a99-ccf0-0031da84e8dd"
   },
   "outputs": [
    {
     "name": "stdout",
     "output_type": "stream",
     "text": [
      "Note: you may need to restart the kernel to use updated packages.\n"
     ]
    }
   ],
   "source": [
    "%pip install -q gradio"
   ]
  },
  {
   "cell_type": "code",
   "execution_count": null,
   "metadata": {
    "colab": {
     "base_uri": "https://localhost:8080/",
     "height": 675
    },
    "id": "Yl_SXA37i4p5",
    "outputId": "432c831e-8b4a-48fd-99b6-d00ee49a9893"
   },
   "outputs": [
    {
     "name": "stdout",
     "output_type": "stream",
     "text": [
      "* Running on local URL:  http://127.0.0.1:7860\n",
      "\n",
      "To create a public link, set `share=True` in `launch()`.\n"
     ]
    },
    {
     "data": {
      "text/html": [
       "<div><iframe src=\"http://127.0.0.1:7860/\" width=\"100%\" height=\"500\" allow=\"autoplay; camera; microphone; clipboard-read; clipboard-write;\" frameborder=\"0\" allowfullscreen></iframe></div>"
      ],
      "text/plain": [
       "<IPython.core.display.HTML object>"
      ]
     },
     "metadata": {},
     "output_type": "display_data"
    },
    {
     "name": "stdout",
     "output_type": "stream",
     "text": [
      "Keyboard interruption in main thread... closing server.\n"
     ]
    },
    {
     "data": {
      "text/plain": []
     },
     "execution_count": 35,
     "metadata": {},
     "output_type": "execute_result"
    }
   ],
   "source": [
    "from langchain.document_loaders import PyPDFLoader\n",
    "from langchain_openai import OpenAIEmbeddings, ChatOpenAI\n",
    "from langchain.text_splitter import CharacterTextSplitter\n",
    "from langchain.vectorstores import Chroma\n",
    "from langchain.chains import RetrievalQA\n",
    "from langchain.prompts import ChatPromptTemplate\n",
    "import gradio as gr\n",
    "\n",
    "# 1. PDF를 한 번만 로드하여 벡터 저장소 생성\n",
    "def initialize_retriever():\n",
    "    # PDF 파일을 로드하여 문서 객체로 변환\n",
    "    loader = PyPDFLoader(\"how-to-use-AI-in-6industries.pdf\")\n",
    "    documents = loader.load()\n",
    "\n",
    "    # 문서를 일정한 크기로 분할 (chunk_size=1000, 중첩 없음)\n",
    "    text_splitter = CharacterTextSplitter(chunk_size=1000, chunk_overlap=0)\n",
    "    texts = text_splitter.split_documents(documents)\n",
    "\n",
    "    # 문서의 텍스트를 벡터 임베딩으로 변환\n",
    "    embeddings = OpenAIEmbeddings()\n",
    "    # 변환된 벡터를 Chroma 벡터 저장소에 저장\n",
    "    vector_store = Chroma.from_documents(texts, embeddings)\n",
    "    # 저장된 벡터를 검색할 수 있는 retriever 생성 (유사한 문서 2개 검색)\n",
    "    retriever = vector_store.as_retriever(search_type=\"similarity\", search_kwargs={\"k\": 2})\n",
    "    return retriever\n",
    "\n",
    "# 2. 전역 retriever 생성 (앱 시작 시 한 번만 실행)\n",
    "retriever = initialize_retriever()\n",
    "\n",
    "# 3. 채팅 응답 함수 (retriever를 재사용)\n",
    "def chat_respond(message, chat_history):\n",
    "    #  시스템 메시지 템플릿: 문서 요약을 기반으로 질문에 답변하도록 설정\n",
    "    system_template = \"\"\"Use the following pieces of context to answer the user's question shortly.\n",
    "    Given the following summaries of a long document and a question, create a final answer with references (\"SOURCES\"), \n",
    "    use \"SOURCES\" in capital letters regardless of the number of sources.\n",
    "    If you don't know the answer, just say that \"I don't know\", don't try to make up an answer.\n",
    "    ----------------\n",
    "    {summaries}\n",
    "    \n",
    "    You MUST answer in Korean and in Markdown format:\n",
    "    \"\"\"\n",
    "    # 사용자 질문을 받아 최종 Prompt 구성\n",
    "    prompt = ChatPromptTemplate.from_messages([\n",
    "        (\"system\", system_template),\n",
    "        (\"human\", \"{question}\")\n",
    "    ])\n",
    "\n",
    "    chain_type_kwargs = {\n",
    "        \"prompt\": prompt, #  LLM이 사용할 프롬프트 지정\n",
    "        \"document_variable_name\": \"summaries\", #  문서 요약 데이터를 LLM에 전달할 변수 이름\n",
    "    }\n",
    "    \n",
    "    # OpenAI 모델 (GPT-3.5-turbo) 설정\n",
    "    llm = ChatOpenAI(model=\"gpt-3.5-turbo\", temperature=0)\n",
    "    \n",
    "    # RetrievalQA 체인 생성\n",
    "    chain = RetrievalQA.from_chain_type(\n",
    "        llm=llm,\n",
    "        chain_type=\"stuff\",  #  문서를 하나의 큰 텍스트로 처리하는 방식\n",
    "        retriever=retriever, #  유사 문서를 검색하는 retriever 연결\n",
    "        return_source_documents=True, #  답변에 참조한 문서 정보 포함\n",
    "        chain_type_kwargs=chain_type_kwargs,\n",
    "        input_key=\"question\" #  사용자 질문을 \"question\" 키로 전달\n",
    "    )\n",
    "    \n",
    "    # LLM을 호출하여 질문에 대한 응답 생성\n",
    "    query_result = chain.invoke({\"question\": message})\n",
    "\n",
    "    # 모델의 답변을 가져오기\n",
    "    bot_message = query_result['result']\n",
    "\n",
    "    # 참조한 문서 정보를 응답에 추가\n",
    "    for i, doc in enumerate(query_result['source_documents']):\n",
    "        bot_message += f' [{i+1}] {doc.metadata.get(\"source\", \"Unknown\")} (Page {doc.metadata.get(\"page\", \"N/A\")})'\n",
    "\n",
    "    # Gradio 채팅 기록 형식에 맞춰 응답을 저장\n",
    "    chat_history.append({\"role\": \"user\", \"content\": message})  # 사용자 메시지 추가\n",
    "    chat_history.append({\"role\": \"assistant\", \"content\": bot_message})  # 봇 응답 추가\n",
    "    \n",
    "    # 입력 창 초기화 및 갱신된 채팅 기록 반환\n",
    "    return \"\", chat_history\n",
    "\n",
    "# 4. # Gradio UI 생성 및 실행\n",
    "with gr.Blocks() as demo:  \n",
    "    # 채팅 창 (채팅 메시지를 표시하는 Gradio 컴포넌트)\n",
    "    chatbot = gr.Chatbot(label=\"채팅창\", type=\"messages\")\n",
    "    # 사용자 입력 텍스트 박스 (메시지를 입력하는 필드)\n",
    "    msg = gr.Textbox(label=\"입력\")\n",
    "    # 초기화 버튼 (채팅 기록을 초기화하는 버튼)\n",
    "    clear = gr.Button(\"초기화\")\n",
    "\n",
    "    # 사용자가 입력 필드에 메시지를 입력하면 chat_respond()가 실행됨\n",
    "    #  - 입력한 메시지는 msg에서 가져옴\n",
    "    #  - 기존 채팅 기록(chatbot)과 함께 전달됨\n",
    "    #  - 응답을 받은 후, msg를 초기화하고 chatbot에 대화 내용을 추가\n",
    "    msg.submit(chat_respond, [msg, chatbot], [msg, chatbot])  \n",
    "    # 초기화 버튼 클릭 시, 채팅 기록을 비우도록 설정\n",
    "    clear.click(lambda: [], None, chatbot, queue=False)\n",
    "\n",
    "# Gradio 앱 실행 (debug 모드 활성화)\n",
    "demo.launch(debug=True)  "
   ]
  },
  {
   "cell_type": "code",
   "execution_count": null,
   "metadata": {
    "id": "l8LrpDnskG7y"
   },
   "outputs": [],
   "source": []
  }
 ],
 "metadata": {
  "colab": {
   "provenance": []
  },
  "kernelspec": {
   "display_name": "base",
   "language": "python",
   "name": "python3"
  },
  "language_info": {
   "codemirror_mode": {
    "name": "ipython",
    "version": 3
   },
   "file_extension": ".py",
   "mimetype": "text/x-python",
   "name": "python",
   "nbconvert_exporter": "python",
   "pygments_lexer": "ipython3",
   "version": "3.12.4"
  }
 },
 "nbformat": 4,
 "nbformat_minor": 4
}
